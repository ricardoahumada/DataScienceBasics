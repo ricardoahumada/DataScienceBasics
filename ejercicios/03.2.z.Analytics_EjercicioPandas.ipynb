{
 "cells": [
  {
   "cell_type": "markdown",
   "id": "c5821e5e",
   "metadata": {},
   "source": [
    "# Ejercicio Python Analytics (Pandas)"
   ]
  },
  {
   "cell_type": "markdown",
   "id": "78984172",
   "metadata": {},
   "source": [
    "Vamos a usar un dataset muy sencillo para hacer un poco de limpieza, analizarlo y sacar algunos resultados. Esto es un guión de ejercicios para hacerlo más estructurado, si tienes alguna otra idea de análisis/procesamiento, o algún dataset que quieras empezar a tratar, puedes hacerlo. No es un ejercicio cerrado.\n",
    "Los datos están generados aleatoriamente."
   ]
  },
  {
   "cell_type": "code",
   "execution_count": null,
   "id": "702e646f",
   "metadata": {},
   "outputs": [],
   "source": [
    "import os\n",
    "import pandas as pd\n",
    "import numpy as np\n",
    "import datetime\n",
    "\n",
    "\n",
    "df = pd.read_excel(os.getcwd() + \"\\\\SalariesExtended.xlsx\")\n",
    "df"
   ]
  },
  {
   "cell_type": "markdown",
   "id": "44f13aa9",
   "metadata": {},
   "source": [
    "Haz un resumen rápido del dataset y la información que contiene"
   ]
  },
  {
   "cell_type": "code",
   "execution_count": null,
   "id": "78e71a42",
   "metadata": {},
   "outputs": [],
   "source": []
  },
  {
   "cell_type": "markdown",
   "id": "e12eba3e",
   "metadata": {},
   "source": [
    "### Limpieza de datos"
   ]
  },
  {
   "cell_type": "markdown",
   "id": "e5a9600f",
   "metadata": {},
   "source": [
    "Sustituye los siguientes valores:\n",
    "\n",
    "- prov (1: Barcelona, 2: Tarragona, 3: Girona, 4: Lleida)\n",
    "- position (1: Administración, 2: Compras, 3: Dirección)"
   ]
  },
  {
   "cell_type": "code",
   "execution_count": null,
   "id": "afd247fb",
   "metadata": {},
   "outputs": [],
   "source": []
  },
  {
   "cell_type": "markdown",
   "id": "4c0415dd",
   "metadata": {},
   "source": [
    "Estudia donde faltan datos, y propón una estrategia de reemplazo o gestión. Puedes usar la información que has sacado de los propios datos"
   ]
  },
  {
   "cell_type": "code",
   "execution_count": null,
   "id": "6febaa55",
   "metadata": {},
   "outputs": [],
   "source": []
  },
  {
   "cell_type": "markdown",
   "id": "6d16e1c3",
   "metadata": {},
   "source": [
    "**(Extra)** Crea una columna nueva que represente la media de las columnas que empiezan por \"preg\". Intenta hacer el código lo más general posible (que funcione tanto si hay 6, como si hay cualquier cantidad)"
   ]
  },
  {
   "cell_type": "code",
   "execution_count": null,
   "id": "ee60ea62",
   "metadata": {},
   "outputs": [],
   "source": []
  },
  {
   "cell_type": "markdown",
   "id": "a5783eec",
   "metadata": {},
   "source": [
    "### Resumen de datos"
   ]
  },
  {
   "cell_type": "markdown",
   "id": "10c1f147",
   "metadata": {},
   "source": [
    "Estudia los salarios por sexo y por provincia (por separado y conjuntamente)."
   ]
  },
  {
   "cell_type": "code",
   "execution_count": null,
   "id": "c31d6500",
   "metadata": {},
   "outputs": [],
   "source": []
  },
  {
   "cell_type": "markdown",
   "id": "51eda8cc",
   "metadata": {},
   "source": [
    "Crea tablas resumen que crucen las variables categóricas del dataset"
   ]
  },
  {
   "cell_type": "code",
   "execution_count": null,
   "id": "3f0f74a9",
   "metadata": {},
   "outputs": [],
   "source": []
  },
  {
   "cell_type": "markdown",
   "id": "d18055b6",
   "metadata": {},
   "source": [
    "Prueba ahora a imrimir esas tablas con plot.barh()"
   ]
  },
  {
   "cell_type": "code",
   "execution_count": null,
   "id": "11221111",
   "metadata": {},
   "outputs": [],
   "source": []
  },
  {
   "cell_type": "markdown",
   "id": "ba5b3cdd",
   "metadata": {},
   "source": [
    "¿Qué variables están más correlacionadas?"
   ]
  },
  {
   "cell_type": "code",
   "execution_count": null,
   "id": "407d0a12",
   "metadata": {},
   "outputs": [],
   "source": []
  },
  {
   "cell_type": "markdown",
   "id": "0243989d",
   "metadata": {},
   "source": [
    "Crea nubes de puntos con los 3 o 4 pares de variables con mayor correlacion"
   ]
  },
  {
   "cell_type": "code",
   "execution_count": null,
   "id": "3a04eec8",
   "metadata": {},
   "outputs": [],
   "source": []
  },
  {
   "cell_type": "markdown",
   "id": "1e876aac",
   "metadata": {},
   "source": [
    "### Gestión de fechas"
   ]
  },
  {
   "cell_type": "markdown",
   "id": "bb929957",
   "metadata": {},
   "source": [
    "Homogeniza el formato de las fechas de inicio y fin. Puedes hacerlo de muchas maneras distintas. El paquete datetime puede ser de gran ayuda ( https://stackabuse.com/converting-strings-to-datetime-in-python/ o https://stackoverflow.com/questions/466345/converting-string-into-datetime )."
   ]
  },
  {
   "cell_type": "code",
   "execution_count": null,
   "id": "176a74c1",
   "metadata": {},
   "outputs": [],
   "source": []
  },
  {
   "cell_type": "markdown",
   "id": "641efd17",
   "metadata": {},
   "source": [
    "Crea una columna que sea el tiempo total de contrato, usando los datos de las columnas ya existentes"
   ]
  },
  {
   "cell_type": "code",
   "execution_count": null,
   "id": "9e14d4b5",
   "metadata": {},
   "outputs": [],
   "source": []
  },
  {
   "cell_type": "markdown",
   "id": "92dcfa4d",
   "metadata": {},
   "source": [
    "### Filtrar y exportar"
   ]
  },
  {
   "cell_type": "markdown",
   "id": "ee72475e",
   "metadata": {},
   "source": [
    "Creamos un dataset fitrando solo datos de Barcelona, otro para Girona y otro para resto y exportamos cada uno en una hoja de un libro excel"
   ]
  },
  {
   "cell_type": "code",
   "execution_count": null,
   "id": "ede54295",
   "metadata": {},
   "outputs": [],
   "source": []
  },
  {
   "cell_type": "markdown",
   "id": "391b53fc",
   "metadata": {},
   "source": [
    "### Gráficos\n",
    "\n",
    "\n",
    "Crea una visualización para:\n",
    "\n",
    "- Una variable numérica\n",
    "\n",
    "\n",
    "- Una variable categórica\n",
    "\n",
    "\n",
    "- Una variable numérica y una categórica\n",
    "\n",
    "\n",
    "- Dos variables numéricas\n",
    "\n",
    "\n",
    "- Dos variables categóricas\n",
    "\n",
    "\n",
    "- Dos variables categóricas y una numérica\n",
    "\n",
    "\n",
    "- Dos variables numéricas y una categórica\n",
    "\n",
    "\n",
    "- Todas las variables numéricas y una categórica\n",
    "\n",
    "\n",
    "- Todas las variables numéricas y dos categóricas\n",
    "\n"
   ]
  },
  {
   "cell_type": "code",
   "execution_count": null,
   "id": "ff76269c",
   "metadata": {},
   "outputs": [],
   "source": []
  },
  {
   "cell_type": "code",
   "execution_count": null,
   "id": "3f15a69a",
   "metadata": {},
   "outputs": [],
   "source": []
  }
 ],
 "metadata": {
  "kernelspec": {
   "display_name": "Python 3 (ipykernel)",
   "language": "python",
   "name": "python3"
  },
  "language_info": {
   "codemirror_mode": {
    "name": "ipython",
    "version": 3
   },
   "file_extension": ".py",
   "mimetype": "text/x-python",
   "name": "python",
   "nbconvert_exporter": "python",
   "pygments_lexer": "ipython3",
   "version": "3.9.13"
  }
 },
 "nbformat": 4,
 "nbformat_minor": 5
}
