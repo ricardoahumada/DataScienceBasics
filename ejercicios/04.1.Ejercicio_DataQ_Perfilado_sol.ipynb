{
 "cells": [
  {
   "cell_type": "markdown",
   "metadata": {},
   "source": [
    "# Ejercicio Data Quality - Perfilado\n",
    "## Evaluar la calidad de datos de las ventas de productos"
   ]
  },
  {
   "cell_type": "markdown",
   "metadata": {},
   "source": [
    "Se quiere hacer una evaluación de calidad de datos sobre las ventas (sales) y pagos (payments). Para ello se requiere hacer un análisis de los siguientes puntos:\n",
    "- Calidad de los datos\n",
    "- Selección de clave principal\n",
    "- Identificación de cardinalidad\n",
    "- Obtener media, varianza y desviacion Estandar, covarianza, correlacion\n",
    "- Mejorar la calidad.\n",
    "\n",
    "**Referencia**: “Estadística Descriptiva con Python y Pandas”: https://coderhook.github.io/Descriptive%20Statistics\n",
    "\n",
    "- Columnas sales:, orderNumber, orderLineNumber, orderDate, shippedDate, requiredDate, customerNumber, employeeNumber, productCode, status, comments, quantityOrdered, priceEach, sales_amount, origin\n",
    "\n",
    "- Columnas payments:, customerNumber, checkNumber, paymentDate, amount"
   ]
  },
  {
   "cell_type": "markdown",
   "metadata": {},
   "source": [
    "## Carga"
   ]
  },
  {
   "cell_type": "code",
   "execution_count": null,
   "metadata": {},
   "outputs": [],
   "source": [
    "import pandas as pd\n",
    "import numpy as np\n",
    "from tabulate import tabulate"
   ]
  },
  {
   "cell_type": "code",
   "execution_count": null,
   "metadata": {},
   "outputs": [],
   "source": [
    "sales_df = pd.read_csv(\n",
    "    'https://github.com/ricardoahumada/DataScienceBasics/raw/refs/heads/main/data/company_sales/sales.csv')"
   ]
  },
  {
   "cell_type": "code",
   "execution_count": null,
   "metadata": {},
   "outputs": [],
   "source": [
    "payments_df = pd.read_csv(\n",
    "    'https://github.com/ricardoahumada/DataScienceBasics/raw/refs/heads/main/data/company_sales/payments.csv')"
   ]
  },
  {
   "cell_type": "markdown",
   "metadata": {},
   "source": [
    "## Calidad"
   ]
  },
  {
   "cell_type": "markdown",
   "metadata": {},
   "source": [
    "### Sales"
   ]
  },
  {
   "cell_type": "code",
   "execution_count": null,
   "metadata": {},
   "outputs": [],
   "source": [
    "# columnas\n",
    "sales_df.columns = ['orderNumber', 'orderLineNumber', 'orderDate', 'shippedDate', 'requiredDate', 'customerNumber',\n",
    "                    'employeeNumber', 'productCode', 'status', 'comments', 'quantityOrdered', 'priceEach', 'sales_amount', 'origin']\n",
    "sales_df.info()"
   ]
  },
  {
   "cell_type": "code",
   "execution_count": null,
   "metadata": {},
   "outputs": [],
   "source": [
    "sales_df.head(5)"
   ]
  },
  {
   "cell_type": "code",
   "execution_count": null,
   "metadata": {},
   "outputs": [],
   "source": [
    "sales_df.tail(5)"
   ]
  },
  {
   "cell_type": "code",
   "execution_count": null,
   "metadata": {},
   "outputs": [],
   "source": [
    "sales_df.sample(20)"
   ]
  },
  {
   "cell_type": "code",
   "execution_count": null,
   "metadata": {},
   "outputs": [],
   "source": [
    "sales_df.shape"
   ]
  },
  {
   "cell_type": "code",
   "execution_count": null,
   "metadata": {},
   "outputs": [],
   "source": [
    "sales_df_clean = sales_df.drop(columns=['comments', 'orderDate',\n",
    "                                        'shippedDate', 'requiredDate'])"
   ]
  },
  {
   "cell_type": "code",
   "execution_count": null,
   "metadata": {},
   "outputs": [],
   "source": [
    "sales_df_clean.info()"
   ]
  },
  {
   "cell_type": "code",
   "execution_count": null,
   "metadata": {},
   "outputs": [],
   "source": [
    "# nulos\n",
    "sales_df_clean.isna().sum()\n",
    "# sales_df_clean.dropna(inplace=True)\n",
    "# sales_df_clean.isna().sum()"
   ]
  },
  {
   "cell_type": "code",
   "execution_count": null,
   "metadata": {},
   "outputs": [],
   "source": [
    "# extremos\n",
    "z_scores = (sales_df_clean-sales_df_clean.mean(numeric_only=True)) / \\\n",
    "    sales_df_clean.std(numeric_only=True)\n",
    "z_scores_abs = z_scores.apply(np.abs)\n",
    "print(tabulate(z_scores_abs, headers='keys'))"
   ]
  },
  {
   "cell_type": "code",
   "execution_count": null,
   "metadata": {},
   "outputs": [],
   "source": [
    "umbral = 3\n",
    "\n",
    "out_mask = ~z_scores[z_scores_abs > umbral].isna()\n",
    "print('\\nOutliers per column:\\n')\n",
    "print(out_mask.sum())"
   ]
  },
  {
   "cell_type": "code",
   "execution_count": null,
   "metadata": {},
   "outputs": [],
   "source": [
    "outliers = sales_df_clean['quantityOrdered'][out_mask['quantityOrdered']]\n",
    "print('Outliers:\\n', outliers)"
   ]
  },
  {
   "cell_type": "code",
   "execution_count": null,
   "metadata": {},
   "outputs": [],
   "source": [
    "sales_df_clean['quantityOrdered'].describe()"
   ]
  },
  {
   "cell_type": "code",
   "execution_count": null,
   "metadata": {},
   "outputs": [],
   "source": [
    "sales_df_clean.drop(outliers, inplace=True)\n",
    "sales_df_clean.shape"
   ]
  },
  {
   "cell_type": "code",
   "execution_count": null,
   "metadata": {},
   "outputs": [],
   "source": [
    "# duplicados\n",
    "sales_df_clean[sales_df_clean.duplicated()]"
   ]
  },
  {
   "cell_type": "code",
   "execution_count": null,
   "metadata": {},
   "outputs": [],
   "source": [
    "sales_df_clean['complete_order_number'] = sales_df_clean['orderNumber'].astype(\n",
    "    'str')+'-'+sales_df_clean['orderLineNumber'].astype('str')"
   ]
  },
  {
   "cell_type": "code",
   "execution_count": null,
   "metadata": {},
   "outputs": [],
   "source": [
    "sales_df_clean.head()"
   ]
  },
  {
   "cell_type": "code",
   "execution_count": null,
   "metadata": {},
   "outputs": [],
   "source": [
    "sales_df_clean.info()"
   ]
  },
  {
   "cell_type": "code",
   "execution_count": null,
   "metadata": {},
   "outputs": [],
   "source": [
    "dup_ordnums = sales_df_clean[sales_df_clean.duplicated(\n",
    ")]['complete_order_number']\n",
    "\n",
    "\n",
    "dup_ordnums.values"
   ]
  },
  {
   "cell_type": "code",
   "execution_count": null,
   "metadata": {},
   "outputs": [],
   "source": [
    "sales_df_clean[sales_df_clean['complete_order_number'].isin(\n",
    "    dup_ordnums.values)]"
   ]
  },
  {
   "cell_type": "code",
   "execution_count": null,
   "metadata": {},
   "outputs": [],
   "source": [
    "sales_df_clean.drop_duplicates(inplace=True)\n",
    "sales_df_clean[sales_df_clean.duplicated()]"
   ]
  },
  {
   "cell_type": "code",
   "execution_count": null,
   "metadata": {},
   "outputs": [],
   "source": [
    "# incoherencias\n",
    "sales_df_clean.info()"
   ]
  },
  {
   "cell_type": "code",
   "execution_count": null,
   "metadata": {},
   "outputs": [],
   "source": [
    "sales_df_clean['status'].unique()"
   ]
  },
  {
   "cell_type": "code",
   "execution_count": null,
   "metadata": {},
   "outputs": [],
   "source": [
    "sales_df_clean['productCode'].unique()"
   ]
  },
  {
   "cell_type": "code",
   "execution_count": null,
   "metadata": {},
   "outputs": [],
   "source": [
    "# cardinalidad\n",
    "def calc_cardinalidad(adf):\n",
    "    result = {}\n",
    "    for col in adf.columns:\n",
    "        print('\\n- Valores únicos para \"{0}\"'.format(col), '\\n')\n",
    "        # print(adf[col].unique())\n",
    "        card = len(adf[col].unique())\n",
    "        print('Num valores únicos: ', len(adf[col].unique()))\n",
    "        result[col] = card\n",
    "\n",
    "    return result\n",
    "\n",
    "\n",
    "sales_card = calc_cardinalidad(sales_df_clean)\n",
    "print(sales_card)"
   ]
  },
  {
   "cell_type": "code",
   "execution_count": null,
   "metadata": {},
   "outputs": [],
   "source": [
    "sales_df_clean.columns"
   ]
  },
  {
   "cell_type": "code",
   "execution_count": null,
   "metadata": {},
   "outputs": [],
   "source": [
    "sales_df_clean[['productCode', 'status', 'origin']] = sales_df_clean[[\n",
    "    'productCode', 'status', 'origin']].astype('category')"
   ]
  },
  {
   "cell_type": "code",
   "execution_count": null,
   "metadata": {},
   "outputs": [],
   "source": [
    "sales_df_clean.info()"
   ]
  },
  {
   "cell_type": "code",
   "execution_count": null,
   "metadata": {},
   "outputs": [],
   "source": [
    "sales_df_clean.describe()"
   ]
  },
  {
   "cell_type": "code",
   "execution_count": null,
   "metadata": {},
   "outputs": [],
   "source": [
    "sales_df_clean.describe(include='category')"
   ]
  },
  {
   "cell_type": "code",
   "execution_count": null,
   "metadata": {},
   "outputs": [],
   "source": [
    "# frecuencias\n",
    "for col in sales_df_clean.columns:\n",
    "\n",
    "    print('\\n- Frecuencias para \"{0}\"'.format(col), '\\n')\n",
    "\n",
    "    print(sales_df_clean[col].value_counts())"
   ]
  },
  {
   "cell_type": "code",
   "execution_count": null,
   "metadata": {},
   "outputs": [],
   "source": [
    "sales_df_clean.columns"
   ]
  },
  {
   "cell_type": "code",
   "execution_count": null,
   "metadata": {},
   "outputs": [],
   "source": [
    "# correlación\n",
    "sales_corr = sales_df_clean.corr('pearson', numeric_only=True)\n",
    "sales_corr"
   ]
  },
  {
   "cell_type": "code",
   "execution_count": null,
   "metadata": {},
   "outputs": [],
   "source": [
    "sales_corr[np.abs(sales_corr) >= 0.7]"
   ]
  },
  {
   "cell_type": "code",
   "execution_count": null,
   "metadata": {},
   "outputs": [],
   "source": [
    "# sesgo\n",
    "\n",
    "sales_skw = sales_df_clean.skew(numeric_only=True)\n",
    "sales_skw"
   ]
  },
  {
   "cell_type": "code",
   "execution_count": null,
   "metadata": {},
   "outputs": [],
   "source": [
    "sales_skw[np.abs(sales_skw) > 2]"
   ]
  },
  {
   "cell_type": "code",
   "execution_count": null,
   "metadata": {},
   "outputs": [],
   "source": [
    "# kurtosis\n",
    "sales_kurt = sales_df_clean.kurt(numeric_only=True)\n",
    "sales_kurt"
   ]
  },
  {
   "cell_type": "code",
   "execution_count": null,
   "metadata": {},
   "outputs": [],
   "source": [
    "sales_kurt[sales_kurt > np.abs(3)]"
   ]
  },
  {
   "cell_type": "markdown",
   "metadata": {},
   "source": [
    "### payments"
   ]
  },
  {
   "cell_type": "code",
   "execution_count": 36,
   "metadata": {},
   "outputs": [
    {
     "name": "stdout",
     "output_type": "stream",
     "text": [
      "<class 'pandas.core.frame.DataFrame'>\n",
      "RangeIndex: 278 entries, 0 to 277\n",
      "Data columns (total 4 columns):\n",
      " #   Column          Non-Null Count  Dtype  \n",
      "---  ------          --------------  -----  \n",
      " 0   customerNumber  278 non-null    int64  \n",
      " 1   checkNumber     278 non-null    object \n",
      " 2   paymentDate     278 non-null    object \n",
      " 3   amount          278 non-null    float64\n",
      "dtypes: float64(1), int64(1), object(2)\n",
      "memory usage: 8.8+ KB\n"
     ]
    }
   ],
   "source": [
    "payments_df.columns = ['customerNumber',\n",
    "                       'checkNumber', 'paymentDate', 'amount']\n",
    "\n",
    "\n",
    "payments_df.info()"
   ]
  },
  {
   "cell_type": "code",
   "execution_count": 37,
   "metadata": {},
   "outputs": [
    {
     "data": {
      "text/plain": [
       "customerNumber    0\n",
       "checkNumber       0\n",
       "paymentDate       0\n",
       "amount            0\n",
       "dtype: int64"
      ]
     },
     "execution_count": 37,
     "metadata": {},
     "output_type": "execute_result"
    }
   ],
   "source": [
    "payments_df.isna().sum()"
   ]
  },
  {
   "cell_type": "code",
   "execution_count": 38,
   "metadata": {},
   "outputs": [
    {
     "name": "stdout",
     "output_type": "stream",
     "text": [
      "iqr:\n",
      " 29892.835000000003\n",
      "umbrales inf:\n",
      " -29695.117500000004\n",
      "\n",
      "umbrales sup:\n",
      " 89876.2225\n"
     ]
    }
   ],
   "source": [
    "# extremos\n",
    "amount_col = payments_df['amount']\n",
    "\n",
    "\n",
    "q1 = np.percentile(amount_col, 25)\n",
    "q3 = np.percentile(amount_col, 75)\n",
    "iqr = q3 - q1\n",
    "print('iqr:\\n', iqr)\n",
    "\n",
    "umbra_sup = q3+1.5*iqr\n",
    "umbra_inf = q1-1.5*iqr\n",
    "\n",
    "print('umbrales inf:\\n', umbra_inf)\n",
    "print('\\numbrales sup:\\n', umbra_sup)"
   ]
  },
  {
   "cell_type": "code",
   "execution_count": 39,
   "metadata": {},
   "outputs": [
    {
     "data": {
      "text/plain": [
       "17    101244.59\n",
       "23    111654.40\n",
       "41    116208.40\n",
       "43    120166.58\n",
       "61    105743.00\n",
       "Name: amount, dtype: float64"
      ]
     },
     "execution_count": 39,
     "metadata": {},
     "output_type": "execute_result"
    }
   ],
   "source": [
    "am_outliers = amount_col[((amount_col < umbra_inf) | (amount_col > umbra_sup))]\n",
    "am_outliers"
   ]
  },
  {
   "cell_type": "code",
   "execution_count": 40,
   "metadata": {},
   "outputs": [
    {
     "data": {
      "text/plain": [
       "count       278.000000\n",
       "mean      31827.944281\n",
       "std       21096.143249\n",
       "min         615.450000\n",
       "25%       15144.135000\n",
       "50%       31369.150000\n",
       "75%       45036.970000\n",
       "max      120166.580000\n",
       "Name: amount, dtype: float64"
      ]
     },
     "execution_count": 40,
     "metadata": {},
     "output_type": "execute_result"
    }
   ],
   "source": [
    "amount_col.describe()"
   ]
  },
  {
   "cell_type": "code",
   "execution_count": null,
   "metadata": {},
   "outputs": [],
   "source": [
    "payments_df.drop(am_outliers.index, inplace=True)\n",
    "payments_df.shape"
   ]
  },
  {
   "cell_type": "code",
   "execution_count": 41,
   "metadata": {},
   "outputs": [
    {
     "data": {
      "text/plain": [
       "5"
      ]
     },
     "execution_count": 41,
     "metadata": {},
     "output_type": "execute_result"
    }
   ],
   "source": [
    "#duplicados\n",
    "payments_df.duplicated().sum()"
   ]
  },
  {
   "cell_type": "code",
   "execution_count": 42,
   "metadata": {},
   "outputs": [
    {
     "data": {
      "text/html": [
       "<div>\n",
       "<style scoped>\n",
       "    .dataframe tbody tr th:only-of-type {\n",
       "        vertical-align: middle;\n",
       "    }\n",
       "\n",
       "    .dataframe tbody tr th {\n",
       "        vertical-align: top;\n",
       "    }\n",
       "\n",
       "    .dataframe thead th {\n",
       "        text-align: right;\n",
       "    }\n",
       "</style>\n",
       "<table border=\"1\" class=\"dataframe\">\n",
       "  <thead>\n",
       "    <tr style=\"text-align: right;\">\n",
       "      <th></th>\n",
       "      <th>customerNumber</th>\n",
       "      <th>checkNumber</th>\n",
       "      <th>paymentDate</th>\n",
       "      <th>amount</th>\n",
       "    </tr>\n",
       "  </thead>\n",
       "  <tbody>\n",
       "    <tr>\n",
       "      <th>32</th>\n",
       "      <td>129</td>\n",
       "      <td>ID449593</td>\n",
       "      <td>2003-12-11</td>\n",
       "      <td>13923.93</td>\n",
       "    </tr>\n",
       "    <tr>\n",
       "      <th>86</th>\n",
       "      <td>175</td>\n",
       "      <td>CITI3434344</td>\n",
       "      <td>2005-05-19</td>\n",
       "      <td>14500.78</td>\n",
       "    </tr>\n",
       "    <tr>\n",
       "      <th>144</th>\n",
       "      <td>260</td>\n",
       "      <td>IO164641</td>\n",
       "      <td>2004-08-30</td>\n",
       "      <td>13527.58</td>\n",
       "    </tr>\n",
       "    <tr>\n",
       "      <th>215</th>\n",
       "      <td>381</td>\n",
       "      <td>GB117430</td>\n",
       "      <td>2005-02-03</td>\n",
       "      <td>7379.90</td>\n",
       "    </tr>\n",
       "    <tr>\n",
       "      <th>269</th>\n",
       "      <td>487</td>\n",
       "      <td>AH612904</td>\n",
       "      <td>2003-09-28</td>\n",
       "      <td>14997.09</td>\n",
       "    </tr>\n",
       "  </tbody>\n",
       "</table>\n",
       "</div>"
      ],
      "text/plain": [
       "     customerNumber  checkNumber paymentDate    amount\n",
       "32              129     ID449593  2003-12-11  13923.93\n",
       "86              175  CITI3434344  2005-05-19  14500.78\n",
       "144             260     IO164641  2004-08-30  13527.58\n",
       "215             381     GB117430  2005-02-03   7379.90\n",
       "269             487     AH612904  2003-09-28  14997.09"
      ]
     },
     "execution_count": 42,
     "metadata": {},
     "output_type": "execute_result"
    }
   ],
   "source": [
    "payments_df[payments_df.duplicated()]"
   ]
  },
  {
   "cell_type": "code",
   "execution_count": 43,
   "metadata": {},
   "outputs": [
    {
     "name": "stdout",
     "output_type": "stream",
     "text": [
      "<class 'pandas.core.frame.DataFrame'>\n",
      "RangeIndex: 278 entries, 0 to 277\n",
      "Data columns (total 5 columns):\n",
      " #   Column          Non-Null Count  Dtype  \n",
      "---  ------          --------------  -----  \n",
      " 0   customerNumber  278 non-null    int64  \n",
      " 1   checkNumber     278 non-null    object \n",
      " 2   paymentDate     278 non-null    object \n",
      " 3   amount          278 non-null    float64\n",
      " 4   customer-check  278 non-null    object \n",
      "dtypes: float64(1), int64(1), object(3)\n",
      "memory usage: 11.0+ KB\n"
     ]
    }
   ],
   "source": [
    "payments_df['customer-check'] = payments_df['customerNumber'].astype(\n",
    "    str)+'-'+payments_df['checkNumber'].astype(str)\n",
    "payments_df.info()"
   ]
  },
  {
   "cell_type": "code",
   "execution_count": 44,
   "metadata": {},
   "outputs": [
    {
     "data": {
      "text/html": [
       "<div>\n",
       "<style scoped>\n",
       "    .dataframe tbody tr th:only-of-type {\n",
       "        vertical-align: middle;\n",
       "    }\n",
       "\n",
       "    .dataframe tbody tr th {\n",
       "        vertical-align: top;\n",
       "    }\n",
       "\n",
       "    .dataframe thead th {\n",
       "        text-align: right;\n",
       "    }\n",
       "</style>\n",
       "<table border=\"1\" class=\"dataframe\">\n",
       "  <thead>\n",
       "    <tr style=\"text-align: right;\">\n",
       "      <th></th>\n",
       "      <th>customerNumber</th>\n",
       "      <th>checkNumber</th>\n",
       "      <th>paymentDate</th>\n",
       "      <th>amount</th>\n",
       "      <th>customer-check</th>\n",
       "    </tr>\n",
       "  </thead>\n",
       "  <tbody>\n",
       "    <tr>\n",
       "      <th>32</th>\n",
       "      <td>129</td>\n",
       "      <td>ID449593</td>\n",
       "      <td>2003-12-11</td>\n",
       "      <td>13923.93</td>\n",
       "      <td>129-ID449593</td>\n",
       "    </tr>\n",
       "    <tr>\n",
       "      <th>86</th>\n",
       "      <td>175</td>\n",
       "      <td>CITI3434344</td>\n",
       "      <td>2005-05-19</td>\n",
       "      <td>14500.78</td>\n",
       "      <td>175-CITI3434344</td>\n",
       "    </tr>\n",
       "    <tr>\n",
       "      <th>144</th>\n",
       "      <td>260</td>\n",
       "      <td>IO164641</td>\n",
       "      <td>2004-08-30</td>\n",
       "      <td>13527.58</td>\n",
       "      <td>260-IO164641</td>\n",
       "    </tr>\n",
       "    <tr>\n",
       "      <th>215</th>\n",
       "      <td>381</td>\n",
       "      <td>GB117430</td>\n",
       "      <td>2005-02-03</td>\n",
       "      <td>7379.90</td>\n",
       "      <td>381-GB117430</td>\n",
       "    </tr>\n",
       "    <tr>\n",
       "      <th>269</th>\n",
       "      <td>487</td>\n",
       "      <td>AH612904</td>\n",
       "      <td>2003-09-28</td>\n",
       "      <td>14997.09</td>\n",
       "      <td>487-AH612904</td>\n",
       "    </tr>\n",
       "  </tbody>\n",
       "</table>\n",
       "</div>"
      ],
      "text/plain": [
       "     customerNumber  checkNumber paymentDate    amount   customer-check\n",
       "32              129     ID449593  2003-12-11  13923.93     129-ID449593\n",
       "86              175  CITI3434344  2005-05-19  14500.78  175-CITI3434344\n",
       "144             260     IO164641  2004-08-30  13527.58     260-IO164641\n",
       "215             381     GB117430  2005-02-03   7379.90     381-GB117430\n",
       "269             487     AH612904  2003-09-28  14997.09     487-AH612904"
      ]
     },
     "execution_count": 44,
     "metadata": {},
     "output_type": "execute_result"
    }
   ],
   "source": [
    "payments_df[payments_df.duplicated()]"
   ]
  },
  {
   "cell_type": "code",
   "execution_count": 45,
   "metadata": {},
   "outputs": [
    {
     "data": {
      "text/plain": [
       "array(['129-ID449593', '175-CITI3434344', '260-IO164641', '381-GB117430',\n",
       "       '487-AH612904'], dtype=object)"
      ]
     },
     "execution_count": 45,
     "metadata": {},
     "output_type": "execute_result"
    }
   ],
   "source": [
    "cust_check_ids = payments_df[payments_df.duplicated()]['customer-check'].values\n",
    "cust_check_ids"
   ]
  },
  {
   "cell_type": "code",
   "execution_count": 46,
   "metadata": {},
   "outputs": [
    {
     "data": {
      "text/html": [
       "<div>\n",
       "<style scoped>\n",
       "    .dataframe tbody tr th:only-of-type {\n",
       "        vertical-align: middle;\n",
       "    }\n",
       "\n",
       "    .dataframe tbody tr th {\n",
       "        vertical-align: top;\n",
       "    }\n",
       "\n",
       "    .dataframe thead th {\n",
       "        text-align: right;\n",
       "    }\n",
       "</style>\n",
       "<table border=\"1\" class=\"dataframe\">\n",
       "  <thead>\n",
       "    <tr style=\"text-align: right;\">\n",
       "      <th></th>\n",
       "      <th>customerNumber</th>\n",
       "      <th>checkNumber</th>\n",
       "      <th>paymentDate</th>\n",
       "      <th>amount</th>\n",
       "      <th>customer-check</th>\n",
       "    </tr>\n",
       "  </thead>\n",
       "  <tbody>\n",
       "    <tr>\n",
       "      <th>31</th>\n",
       "      <td>129</td>\n",
       "      <td>ID449593</td>\n",
       "      <td>2003-12-11</td>\n",
       "      <td>13923.93</td>\n",
       "      <td>129-ID449593</td>\n",
       "    </tr>\n",
       "    <tr>\n",
       "      <th>32</th>\n",
       "      <td>129</td>\n",
       "      <td>ID449593</td>\n",
       "      <td>2003-12-11</td>\n",
       "      <td>13923.93</td>\n",
       "      <td>129-ID449593</td>\n",
       "    </tr>\n",
       "    <tr>\n",
       "      <th>85</th>\n",
       "      <td>175</td>\n",
       "      <td>CITI3434344</td>\n",
       "      <td>2005-05-19</td>\n",
       "      <td>14500.78</td>\n",
       "      <td>175-CITI3434344</td>\n",
       "    </tr>\n",
       "    <tr>\n",
       "      <th>86</th>\n",
       "      <td>175</td>\n",
       "      <td>CITI3434344</td>\n",
       "      <td>2005-05-19</td>\n",
       "      <td>14500.78</td>\n",
       "      <td>175-CITI3434344</td>\n",
       "    </tr>\n",
       "    <tr>\n",
       "      <th>143</th>\n",
       "      <td>260</td>\n",
       "      <td>IO164641</td>\n",
       "      <td>2004-08-30</td>\n",
       "      <td>13527.58</td>\n",
       "      <td>260-IO164641</td>\n",
       "    </tr>\n",
       "    <tr>\n",
       "      <th>144</th>\n",
       "      <td>260</td>\n",
       "      <td>IO164641</td>\n",
       "      <td>2004-08-30</td>\n",
       "      <td>13527.58</td>\n",
       "      <td>260-IO164641</td>\n",
       "    </tr>\n",
       "    <tr>\n",
       "      <th>214</th>\n",
       "      <td>381</td>\n",
       "      <td>GB117430</td>\n",
       "      <td>2005-02-03</td>\n",
       "      <td>7379.90</td>\n",
       "      <td>381-GB117430</td>\n",
       "    </tr>\n",
       "    <tr>\n",
       "      <th>215</th>\n",
       "      <td>381</td>\n",
       "      <td>GB117430</td>\n",
       "      <td>2005-02-03</td>\n",
       "      <td>7379.90</td>\n",
       "      <td>381-GB117430</td>\n",
       "    </tr>\n",
       "    <tr>\n",
       "      <th>268</th>\n",
       "      <td>487</td>\n",
       "      <td>AH612904</td>\n",
       "      <td>2003-09-28</td>\n",
       "      <td>14997.09</td>\n",
       "      <td>487-AH612904</td>\n",
       "    </tr>\n",
       "    <tr>\n",
       "      <th>269</th>\n",
       "      <td>487</td>\n",
       "      <td>AH612904</td>\n",
       "      <td>2003-09-28</td>\n",
       "      <td>14997.09</td>\n",
       "      <td>487-AH612904</td>\n",
       "    </tr>\n",
       "  </tbody>\n",
       "</table>\n",
       "</div>"
      ],
      "text/plain": [
       "     customerNumber  checkNumber paymentDate    amount   customer-check\n",
       "31              129     ID449593  2003-12-11  13923.93     129-ID449593\n",
       "32              129     ID449593  2003-12-11  13923.93     129-ID449593\n",
       "85              175  CITI3434344  2005-05-19  14500.78  175-CITI3434344\n",
       "86              175  CITI3434344  2005-05-19  14500.78  175-CITI3434344\n",
       "143             260     IO164641  2004-08-30  13527.58     260-IO164641\n",
       "144             260     IO164641  2004-08-30  13527.58     260-IO164641\n",
       "214             381     GB117430  2005-02-03   7379.90     381-GB117430\n",
       "215             381     GB117430  2005-02-03   7379.90     381-GB117430\n",
       "268             487     AH612904  2003-09-28  14997.09     487-AH612904\n",
       "269             487     AH612904  2003-09-28  14997.09     487-AH612904"
      ]
     },
     "execution_count": 46,
     "metadata": {},
     "output_type": "execute_result"
    }
   ],
   "source": [
    "payments_df[payments_df['customer-check'].isin(cust_check_ids)]"
   ]
  },
  {
   "cell_type": "code",
   "execution_count": 47,
   "metadata": {},
   "outputs": [
    {
     "data": {
      "text/html": [
       "<div>\n",
       "<style scoped>\n",
       "    .dataframe tbody tr th:only-of-type {\n",
       "        vertical-align: middle;\n",
       "    }\n",
       "\n",
       "    .dataframe tbody tr th {\n",
       "        vertical-align: top;\n",
       "    }\n",
       "\n",
       "    .dataframe thead th {\n",
       "        text-align: right;\n",
       "    }\n",
       "</style>\n",
       "<table border=\"1\" class=\"dataframe\">\n",
       "  <thead>\n",
       "    <tr style=\"text-align: right;\">\n",
       "      <th></th>\n",
       "      <th>customer-check</th>\n",
       "      <th>amount</th>\n",
       "      <th>customerNumber</th>\n",
       "      <th>checkNumber</th>\n",
       "      <th>paymentDate</th>\n",
       "    </tr>\n",
       "  </thead>\n",
       "  <tbody>\n",
       "    <tr>\n",
       "      <th>31</th>\n",
       "      <td>129-ID449593</td>\n",
       "      <td>27847.86</td>\n",
       "      <td>129</td>\n",
       "      <td>ID449593</td>\n",
       "      <td>2003-12-11</td>\n",
       "    </tr>\n",
       "    <tr>\n",
       "      <th>84</th>\n",
       "      <td>175-CITI3434344</td>\n",
       "      <td>29001.56</td>\n",
       "      <td>175</td>\n",
       "      <td>CITI3434344</td>\n",
       "      <td>2005-05-19</td>\n",
       "    </tr>\n",
       "    <tr>\n",
       "      <th>141</th>\n",
       "      <td>260-IO164641</td>\n",
       "      <td>27055.16</td>\n",
       "      <td>260</td>\n",
       "      <td>IO164641</td>\n",
       "      <td>2004-08-30</td>\n",
       "    </tr>\n",
       "    <tr>\n",
       "      <th>211</th>\n",
       "      <td>381-GB117430</td>\n",
       "      <td>14759.80</td>\n",
       "      <td>381</td>\n",
       "      <td>GB117430</td>\n",
       "      <td>2005-02-03</td>\n",
       "    </tr>\n",
       "    <tr>\n",
       "      <th>264</th>\n",
       "      <td>487-AH612904</td>\n",
       "      <td>29994.18</td>\n",
       "      <td>487</td>\n",
       "      <td>AH612904</td>\n",
       "      <td>2003-09-28</td>\n",
       "    </tr>\n",
       "  </tbody>\n",
       "</table>\n",
       "</div>"
      ],
      "text/plain": [
       "      customer-check    amount  customerNumber  checkNumber paymentDate\n",
       "31      129-ID449593  27847.86             129     ID449593  2003-12-11\n",
       "84   175-CITI3434344  29001.56             175  CITI3434344  2005-05-19\n",
       "141     260-IO164641  27055.16             260     IO164641  2004-08-30\n",
       "211     381-GB117430  14759.80             381     GB117430  2005-02-03\n",
       "264     487-AH612904  29994.18             487     AH612904  2003-09-28"
      ]
     },
     "execution_count": 47,
     "metadata": {},
     "output_type": "execute_result"
    }
   ],
   "source": [
    "def doNothing(x):\n",
    "    return list(x)[0]\n",
    "\n",
    "\n",
    "added_payments_df = payments_df.groupby('customer-check').agg(\n",
    "    {'amount': 'sum', 'customerNumber': doNothing, 'checkNumber': doNothing, 'paymentDate': doNothing}).reset_index()\n",
    "added_payments_df[added_payments_df['customer-check'].isin(cust_check_ids)]"
   ]
  },
  {
   "cell_type": "code",
   "execution_count": 48,
   "metadata": {},
   "outputs": [
    {
     "name": "stdout",
     "output_type": "stream",
     "text": [
      "<class 'pandas.core.frame.DataFrame'>\n",
      "RangeIndex: 273 entries, 0 to 272\n",
      "Data columns (total 5 columns):\n",
      " #   Column          Non-Null Count  Dtype  \n",
      "---  ------          --------------  -----  \n",
      " 0   customer-check  273 non-null    object \n",
      " 1   amount          273 non-null    float64\n",
      " 2   customerNumber  273 non-null    int64  \n",
      " 3   checkNumber     273 non-null    object \n",
      " 4   paymentDate     273 non-null    object \n",
      "dtypes: float64(1), int64(1), object(3)\n",
      "memory usage: 10.8+ KB\n"
     ]
    }
   ],
   "source": [
    "# incoherencias\n",
    "added_payments_df.info()"
   ]
  },
  {
   "cell_type": "code",
   "execution_count": 49,
   "metadata": {},
   "outputs": [],
   "source": [
    "added_payments_df['paymentDate'] = pd.to_datetime(\n",
    "    added_payments_df['paymentDate'])\n",
    "\n",
    "added_payments_df['checkNumber'] = added_payments_df['checkNumber'].astype(\n",
    "    'category')\n",
    "added_payments_df['customer-check'] = added_payments_df['customer-check'].astype(\n",
    "    'category')"
   ]
  },
  {
   "cell_type": "code",
   "execution_count": 50,
   "metadata": {},
   "outputs": [
    {
     "name": "stdout",
     "output_type": "stream",
     "text": [
      "<class 'pandas.core.frame.DataFrame'>\n",
      "RangeIndex: 273 entries, 0 to 272\n",
      "Data columns (total 5 columns):\n",
      " #   Column          Non-Null Count  Dtype         \n",
      "---  ------          --------------  -----         \n",
      " 0   customer-check  273 non-null    category      \n",
      " 1   amount          273 non-null    float64       \n",
      " 2   customerNumber  273 non-null    int64         \n",
      " 3   checkNumber     273 non-null    category      \n",
      " 4   paymentDate     273 non-null    datetime64[ns]\n",
      "dtypes: category(2), datetime64[ns](1), float64(1), int64(1)\n",
      "memory usage: 28.1 KB\n"
     ]
    }
   ],
   "source": [
    "added_payments_df.info()"
   ]
  },
  {
   "cell_type": "code",
   "execution_count": 51,
   "metadata": {},
   "outputs": [
    {
     "name": "stdout",
     "output_type": "stream",
     "text": [
      "\n",
      "- Valores únicos para \"customer-check\" \n",
      "\n",
      "Num valores únicos:  273\n",
      "\n",
      "- Valores únicos para \"amount\" \n",
      "\n",
      "Num valores únicos:  273\n",
      "\n",
      "- Valores únicos para \"customerNumber\" \n",
      "\n",
      "Num valores únicos:  98\n",
      "\n",
      "- Valores únicos para \"checkNumber\" \n",
      "\n",
      "Num valores únicos:  273\n",
      "\n",
      "- Valores únicos para \"paymentDate\" \n",
      "\n",
      "Num valores únicos:  232\n",
      "{'customer-check': 273, 'amount': 273, 'customerNumber': 98, 'checkNumber': 273, 'paymentDate': 232}\n"
     ]
    }
   ],
   "source": [
    "payments_card = calc_cardinalidad(added_payments_df)\n",
    "print(payments_card)"
   ]
  },
  {
   "cell_type": "code",
   "execution_count": 52,
   "metadata": {},
   "outputs": [
    {
     "name": "stdout",
     "output_type": "stream",
     "text": [
      "103-HQ336336    1\n",
      "333-HL209210    1\n",
      "339-AP286625    1\n",
      "334-LF737277    1\n",
      "334-HH517378    1\n",
      "               ..\n",
      "187-KL124726    1\n",
      "189-BO711618    1\n",
      "189-NM916675    1\n",
      "198-FI192930    1\n",
      "496-MN89921     1\n",
      "Name: customer-check, Length: 273, dtype: int64\n",
      "6066.78     1\n",
      "23936.53    1\n",
      "23333.06    1\n",
      "28394.54    1\n",
      "29716.86    1\n",
      "           ..\n",
      "48425.69    1\n",
      "17359.53    1\n",
      "32538.74    1\n",
      "9658.74     1\n",
      "52166.00    1\n",
      "Name: amount, Length: 273, dtype: int64\n",
      "141    13\n",
      "124     9\n",
      "398     4\n",
      "381     4\n",
      "323     4\n",
      "       ..\n",
      "357     2\n",
      "450     1\n",
      "415     1\n",
      "211     1\n",
      "239     1\n",
      "Name: customerNumber, Length: 98, dtype: int64\n",
      "AB661578    1\n",
      "JPMR4544    1\n",
      "KH910279    1\n",
      "KG644125    1\n",
      "KF480160    1\n",
      "           ..\n",
      "FI192930    1\n",
      "FN155234    1\n",
      "FN640986    1\n",
      "FP170292    1\n",
      "PT550181    1\n",
      "Name: checkNumber, Length: 273, dtype: int64\n",
      "2004-06-21    3\n",
      "2003-12-09    3\n",
      "2003-11-24    3\n",
      "2003-11-18    3\n",
      "2004-12-06    2\n",
      "             ..\n",
      "2003-01-30    1\n",
      "2005-03-10    1\n",
      "2004-10-21    1\n",
      "2004-11-03    1\n",
      "2003-07-16    1\n",
      "Name: paymentDate, Length: 232, dtype: int64\n"
     ]
    }
   ],
   "source": [
    "# frecuencias\n",
    "for col in added_payments_df.columns:\n",
    "    # print('\\n- Frecuencias para \"{0}\"'.format(col), '\\n')\n",
    "    print(added_payments_df[col].value_counts())"
   ]
  },
  {
   "cell_type": "code",
   "execution_count": 54,
   "metadata": {},
   "outputs": [
    {
     "data": {
      "text/html": [
       "<div>\n",
       "<style scoped>\n",
       "    .dataframe tbody tr th:only-of-type {\n",
       "        vertical-align: middle;\n",
       "    }\n",
       "\n",
       "    .dataframe tbody tr th {\n",
       "        vertical-align: top;\n",
       "    }\n",
       "\n",
       "    .dataframe thead th {\n",
       "        text-align: right;\n",
       "    }\n",
       "</style>\n",
       "<table border=\"1\" class=\"dataframe\">\n",
       "  <thead>\n",
       "    <tr style=\"text-align: right;\">\n",
       "      <th></th>\n",
       "      <th>amount</th>\n",
       "      <th>customerNumber</th>\n",
       "    </tr>\n",
       "  </thead>\n",
       "  <tbody>\n",
       "    <tr>\n",
       "      <th>amount</th>\n",
       "      <td>1.000000</td>\n",
       "      <td>-0.195275</td>\n",
       "    </tr>\n",
       "    <tr>\n",
       "      <th>customerNumber</th>\n",
       "      <td>-0.195275</td>\n",
       "      <td>1.000000</td>\n",
       "    </tr>\n",
       "  </tbody>\n",
       "</table>\n",
       "</div>"
      ],
      "text/plain": [
       "                  amount  customerNumber\n",
       "amount          1.000000       -0.195275\n",
       "customerNumber -0.195275        1.000000"
      ]
     },
     "execution_count": 54,
     "metadata": {},
     "output_type": "execute_result"
    }
   ],
   "source": [
    "# correlación\n",
    "payments_corr = added_payments_df.corr('pearson')\n",
    "payments_corr"
   ]
  },
  {
   "cell_type": "code",
   "execution_count": 55,
   "metadata": {},
   "outputs": [
    {
     "data": {
      "text/html": [
       "<div>\n",
       "<style scoped>\n",
       "    .dataframe tbody tr th:only-of-type {\n",
       "        vertical-align: middle;\n",
       "    }\n",
       "\n",
       "    .dataframe tbody tr th {\n",
       "        vertical-align: top;\n",
       "    }\n",
       "\n",
       "    .dataframe thead th {\n",
       "        text-align: right;\n",
       "    }\n",
       "</style>\n",
       "<table border=\"1\" class=\"dataframe\">\n",
       "  <thead>\n",
       "    <tr style=\"text-align: right;\">\n",
       "      <th></th>\n",
       "      <th>amount</th>\n",
       "      <th>customerNumber</th>\n",
       "    </tr>\n",
       "  </thead>\n",
       "  <tbody>\n",
       "    <tr>\n",
       "      <th>amount</th>\n",
       "      <td>1.0</td>\n",
       "      <td>NaN</td>\n",
       "    </tr>\n",
       "    <tr>\n",
       "      <th>customerNumber</th>\n",
       "      <td>NaN</td>\n",
       "      <td>1.0</td>\n",
       "    </tr>\n",
       "  </tbody>\n",
       "</table>\n",
       "</div>"
      ],
      "text/plain": [
       "                amount  customerNumber\n",
       "amount             1.0             NaN\n",
       "customerNumber     NaN             1.0"
      ]
     },
     "execution_count": 55,
     "metadata": {},
     "output_type": "execute_result"
    }
   ],
   "source": [
    "payments_corr[np.abs(payments_corr) >= 0.7]"
   ]
  },
  {
   "cell_type": "code",
   "execution_count": 56,
   "metadata": {},
   "outputs": [
    {
     "data": {
      "text/plain": [
       "amount            1.116880\n",
       "customerNumber    0.340642\n",
       "dtype: float64"
      ]
     },
     "execution_count": 56,
     "metadata": {},
     "output_type": "execute_result"
    }
   ],
   "source": [
    "# sesgo\n",
    "\n",
    "payments_skw = added_payments_df.skew(numeric_only=True)\n",
    "payments_skw"
   ]
  },
  {
   "cell_type": "code",
   "execution_count": 57,
   "metadata": {},
   "outputs": [
    {
     "data": {
      "text/plain": [
       "Series([], dtype: float64)"
      ]
     },
     "execution_count": 57,
     "metadata": {},
     "output_type": "execute_result"
    }
   ],
   "source": [
    "payments_skw[np.abs(payments_skw) > 2]"
   ]
  },
  {
   "cell_type": "code",
   "execution_count": 58,
   "metadata": {},
   "outputs": [
    {
     "data": {
      "text/plain": [
       "amount            2.485139\n",
       "customerNumber   -1.195111\n",
       "dtype: float64"
      ]
     },
     "execution_count": 58,
     "metadata": {},
     "output_type": "execute_result"
    }
   ],
   "source": [
    "# kurtosis\n",
    "payments_kurt = added_payments_df.kurt(numeric_only=True)\n",
    "payments_kurt"
   ]
  },
  {
   "cell_type": "code",
   "execution_count": 59,
   "metadata": {},
   "outputs": [
    {
     "data": {
      "text/plain": [
       "Series([], dtype: float64)"
      ]
     },
     "execution_count": 59,
     "metadata": {},
     "output_type": "execute_result"
    }
   ],
   "source": [
    "payments_kurt[payments_kurt > np.abs(3)]"
   ]
  },
  {
   "cell_type": "markdown",
   "metadata": {},
   "source": [
    "## Mezclado de datos"
   ]
  },
  {
   "cell_type": "code",
   "execution_count": 60,
   "metadata": {},
   "outputs": [
    {
     "name": "stdout",
     "output_type": "stream",
     "text": [
      "<class 'pandas.core.frame.DataFrame'>\n",
      "Int64Index: 2988 entries, 0 to 3000\n",
      "Data columns (total 11 columns):\n",
      " #   Column                 Non-Null Count  Dtype   \n",
      "---  ------                 --------------  -----   \n",
      " 0   orderNumber            2988 non-null   int64   \n",
      " 1   orderLineNumber        2988 non-null   int64   \n",
      " 2   customerNumber         2988 non-null   int64   \n",
      " 3   employeeNumber         2988 non-null   int64   \n",
      " 4   productCode            2988 non-null   category\n",
      " 5   status                 2988 non-null   category\n",
      " 6   quantityOrdered        2988 non-null   int64   \n",
      " 7   priceEach              2988 non-null   float64 \n",
      " 8   sales_amount           2988 non-null   float64 \n",
      " 9   origin                 2988 non-null   category\n",
      " 10  complete_order_number  2988 non-null   object  \n",
      "dtypes: category(3), float64(2), int64(5), object(1)\n",
      "memory usage: 224.1+ KB\n"
     ]
    }
   ],
   "source": [
    "sales_df_clean.info()"
   ]
  },
  {
   "cell_type": "code",
   "execution_count": 61,
   "metadata": {},
   "outputs": [
    {
     "name": "stdout",
     "output_type": "stream",
     "text": [
      "<class 'pandas.core.frame.DataFrame'>\n",
      "RangeIndex: 273 entries, 0 to 272\n",
      "Data columns (total 5 columns):\n",
      " #   Column          Non-Null Count  Dtype         \n",
      "---  ------          --------------  -----         \n",
      " 0   customer-check  273 non-null    category      \n",
      " 1   amount          273 non-null    float64       \n",
      " 2   customerNumber  273 non-null    int64         \n",
      " 3   checkNumber     273 non-null    category      \n",
      " 4   paymentDate     273 non-null    datetime64[ns]\n",
      "dtypes: category(2), datetime64[ns](1), float64(1), int64(1)\n",
      "memory usage: 28.1 KB\n"
     ]
    }
   ],
   "source": [
    "added_payments_df.info()"
   ]
  },
  {
   "cell_type": "code",
   "execution_count": 62,
   "metadata": {},
   "outputs": [
    {
     "name": "stdout",
     "output_type": "stream",
     "text": [
      "<class 'pandas.core.frame.DataFrame'>\n",
      "Int64Index: 11991 entries, 0 to 11990\n",
      "Data columns (total 15 columns):\n",
      " #   Column                 Non-Null Count  Dtype         \n",
      "---  ------                 --------------  -----         \n",
      " 0   orderNumber            11991 non-null  int64         \n",
      " 1   orderLineNumber        11991 non-null  int64         \n",
      " 2   customerNumber         11991 non-null  int64         \n",
      " 3   employeeNumber         11991 non-null  int64         \n",
      " 4   productCode            11991 non-null  category      \n",
      " 5   status                 11991 non-null  category      \n",
      " 6   quantityOrdered        11991 non-null  int64         \n",
      " 7   priceEach              11991 non-null  float64       \n",
      " 8   sales_amount           11991 non-null  float64       \n",
      " 9   origin                 11991 non-null  category      \n",
      " 10  complete_order_number  11991 non-null  object        \n",
      " 11  customer-check         11991 non-null  category      \n",
      " 12  amount                 11991 non-null  float64       \n",
      " 13  checkNumber            11991 non-null  category      \n",
      " 14  paymentDate            11991 non-null  datetime64[ns]\n",
      "dtypes: category(5), datetime64[ns](1), float64(3), int64(5), object(1)\n",
      "memory usage: 1.1+ MB\n"
     ]
    }
   ],
   "source": [
    "merged_df = pd.merge(sales_df_clean, added_payments_df,\n",
    "                     on='customerNumber', how='left')\n",
    "merged_df.info()"
   ]
  },
  {
   "cell_type": "code",
   "execution_count": 63,
   "metadata": {},
   "outputs": [
    {
     "data": {
      "text/html": [
       "<div>\n",
       "<style scoped>\n",
       "    .dataframe tbody tr th:only-of-type {\n",
       "        vertical-align: middle;\n",
       "    }\n",
       "\n",
       "    .dataframe tbody tr th {\n",
       "        vertical-align: top;\n",
       "    }\n",
       "\n",
       "    .dataframe thead th {\n",
       "        text-align: right;\n",
       "    }\n",
       "</style>\n",
       "<table border=\"1\" class=\"dataframe\">\n",
       "  <thead>\n",
       "    <tr style=\"text-align: right;\">\n",
       "      <th></th>\n",
       "      <th>orderNumber</th>\n",
       "      <th>orderLineNumber</th>\n",
       "      <th>customerNumber</th>\n",
       "      <th>employeeNumber</th>\n",
       "      <th>productCode</th>\n",
       "      <th>status</th>\n",
       "      <th>quantityOrdered</th>\n",
       "      <th>priceEach</th>\n",
       "      <th>sales_amount</th>\n",
       "      <th>origin</th>\n",
       "      <th>complete_order_number</th>\n",
       "      <th>customer-check</th>\n",
       "      <th>amount</th>\n",
       "      <th>checkNumber</th>\n",
       "      <th>paymentDate</th>\n",
       "    </tr>\n",
       "  </thead>\n",
       "  <tbody>\n",
       "    <tr>\n",
       "      <th>0</th>\n",
       "      <td>10100</td>\n",
       "      <td>1</td>\n",
       "      <td>363</td>\n",
       "      <td>1216</td>\n",
       "      <td>S24_3969</td>\n",
       "      <td>Shipped</td>\n",
       "      <td>49</td>\n",
       "      <td>35.29</td>\n",
       "      <td>1729.21</td>\n",
       "      <td>spain</td>\n",
       "      <td>10100-1</td>\n",
       "      <td>363-HL575273</td>\n",
       "      <td>50799.69</td>\n",
       "      <td>HL575273</td>\n",
       "      <td>2004-11-17</td>\n",
       "    </tr>\n",
       "    <tr>\n",
       "      <th>1</th>\n",
       "      <td>10100</td>\n",
       "      <td>1</td>\n",
       "      <td>363</td>\n",
       "      <td>1216</td>\n",
       "      <td>S24_3969</td>\n",
       "      <td>Shipped</td>\n",
       "      <td>49</td>\n",
       "      <td>35.29</td>\n",
       "      <td>1729.21</td>\n",
       "      <td>spain</td>\n",
       "      <td>10100-1</td>\n",
       "      <td>363-IS232033</td>\n",
       "      <td>10223.83</td>\n",
       "      <td>IS232033</td>\n",
       "      <td>2003-01-16</td>\n",
       "    </tr>\n",
       "    <tr>\n",
       "      <th>2</th>\n",
       "      <td>10100</td>\n",
       "      <td>1</td>\n",
       "      <td>363</td>\n",
       "      <td>1216</td>\n",
       "      <td>S24_3969</td>\n",
       "      <td>Shipped</td>\n",
       "      <td>49</td>\n",
       "      <td>35.29</td>\n",
       "      <td>1729.21</td>\n",
       "      <td>spain</td>\n",
       "      <td>10100-1</td>\n",
       "      <td>363-PN238558</td>\n",
       "      <td>55425.77</td>\n",
       "      <td>PN238558</td>\n",
       "      <td>2003-12-05</td>\n",
       "    </tr>\n",
       "    <tr>\n",
       "      <th>3</th>\n",
       "      <td>10100</td>\n",
       "      <td>2</td>\n",
       "      <td>363</td>\n",
       "      <td>1216</td>\n",
       "      <td>S18_2248</td>\n",
       "      <td>Shipped</td>\n",
       "      <td>50</td>\n",
       "      <td>55.09</td>\n",
       "      <td>2754.50</td>\n",
       "      <td>spain</td>\n",
       "      <td>10100-2</td>\n",
       "      <td>363-HL575273</td>\n",
       "      <td>50799.69</td>\n",
       "      <td>HL575273</td>\n",
       "      <td>2004-11-17</td>\n",
       "    </tr>\n",
       "    <tr>\n",
       "      <th>4</th>\n",
       "      <td>10100</td>\n",
       "      <td>2</td>\n",
       "      <td>363</td>\n",
       "      <td>1216</td>\n",
       "      <td>S18_2248</td>\n",
       "      <td>Shipped</td>\n",
       "      <td>50</td>\n",
       "      <td>55.09</td>\n",
       "      <td>2754.50</td>\n",
       "      <td>spain</td>\n",
       "      <td>10100-2</td>\n",
       "      <td>363-IS232033</td>\n",
       "      <td>10223.83</td>\n",
       "      <td>IS232033</td>\n",
       "      <td>2003-01-16</td>\n",
       "    </tr>\n",
       "  </tbody>\n",
       "</table>\n",
       "</div>"
      ],
      "text/plain": [
       "   orderNumber  orderLineNumber  customerNumber  employeeNumber productCode  \\\n",
       "0        10100                1             363            1216    S24_3969   \n",
       "1        10100                1             363            1216    S24_3969   \n",
       "2        10100                1             363            1216    S24_3969   \n",
       "3        10100                2             363            1216    S18_2248   \n",
       "4        10100                2             363            1216    S18_2248   \n",
       "\n",
       "    status  quantityOrdered  priceEach  sales_amount origin  \\\n",
       "0  Shipped               49      35.29       1729.21  spain   \n",
       "1  Shipped               49      35.29       1729.21  spain   \n",
       "2  Shipped               49      35.29       1729.21  spain   \n",
       "3  Shipped               50      55.09       2754.50  spain   \n",
       "4  Shipped               50      55.09       2754.50  spain   \n",
       "\n",
       "  complete_order_number customer-check    amount checkNumber paymentDate  \n",
       "0               10100-1   363-HL575273  50799.69    HL575273  2004-11-17  \n",
       "1               10100-1   363-IS232033  10223.83    IS232033  2003-01-16  \n",
       "2               10100-1   363-PN238558  55425.77    PN238558  2003-12-05  \n",
       "3               10100-2   363-HL575273  50799.69    HL575273  2004-11-17  \n",
       "4               10100-2   363-IS232033  10223.83    IS232033  2003-01-16  "
      ]
     },
     "execution_count": 63,
     "metadata": {},
     "output_type": "execute_result"
    }
   ],
   "source": [
    "merged_df.head()"
   ]
  },
  {
   "cell_type": "code",
   "execution_count": 64,
   "metadata": {},
   "outputs": [
    {
     "data": {
      "text/html": [
       "<div>\n",
       "<style scoped>\n",
       "    .dataframe tbody tr th:only-of-type {\n",
       "        vertical-align: middle;\n",
       "    }\n",
       "\n",
       "    .dataframe tbody tr th {\n",
       "        vertical-align: top;\n",
       "    }\n",
       "\n",
       "    .dataframe thead th {\n",
       "        text-align: right;\n",
       "    }\n",
       "</style>\n",
       "<table border=\"1\" class=\"dataframe\">\n",
       "  <thead>\n",
       "    <tr style=\"text-align: right;\">\n",
       "      <th></th>\n",
       "      <th>orderNumber</th>\n",
       "      <th>orderLineNumber</th>\n",
       "      <th>customerNumber</th>\n",
       "      <th>employeeNumber</th>\n",
       "      <th>productCode</th>\n",
       "      <th>status</th>\n",
       "      <th>quantityOrdered</th>\n",
       "      <th>priceEach</th>\n",
       "      <th>sales_amount</th>\n",
       "      <th>origin</th>\n",
       "      <th>complete_order_number</th>\n",
       "      <th>customer-check</th>\n",
       "      <th>amount</th>\n",
       "      <th>checkNumber</th>\n",
       "      <th>paymentDate</th>\n",
       "    </tr>\n",
       "  </thead>\n",
       "  <tbody>\n",
       "    <tr>\n",
       "      <th>11986</th>\n",
       "      <td>10425</td>\n",
       "      <td>12</td>\n",
       "      <td>119</td>\n",
       "      <td>1370</td>\n",
       "      <td>S10_4962</td>\n",
       "      <td>In Process</td>\n",
       "      <td>38</td>\n",
       "      <td>131.49</td>\n",
       "      <td>4996.62</td>\n",
       "      <td>spain</td>\n",
       "      <td>10425-12</td>\n",
       "      <td>119-LN373447</td>\n",
       "      <td>47924.19</td>\n",
       "      <td>LN373447</td>\n",
       "      <td>2004-08-08</td>\n",
       "    </tr>\n",
       "    <tr>\n",
       "      <th>11987</th>\n",
       "      <td>10425</td>\n",
       "      <td>12</td>\n",
       "      <td>119</td>\n",
       "      <td>1370</td>\n",
       "      <td>S10_4962</td>\n",
       "      <td>In Process</td>\n",
       "      <td>38</td>\n",
       "      <td>131.49</td>\n",
       "      <td>4996.62</td>\n",
       "      <td>spain</td>\n",
       "      <td>10425-12</td>\n",
       "      <td>119-NG94694</td>\n",
       "      <td>49523.67</td>\n",
       "      <td>NG94694</td>\n",
       "      <td>2005-02-22</td>\n",
       "    </tr>\n",
       "    <tr>\n",
       "      <th>11988</th>\n",
       "      <td>10425</td>\n",
       "      <td>13</td>\n",
       "      <td>119</td>\n",
       "      <td>1370</td>\n",
       "      <td>S18_4600</td>\n",
       "      <td>In Process</td>\n",
       "      <td>38</td>\n",
       "      <td>107.76</td>\n",
       "      <td>4094.88</td>\n",
       "      <td>spain</td>\n",
       "      <td>10425-13</td>\n",
       "      <td>119-DB933704</td>\n",
       "      <td>19501.82</td>\n",
       "      <td>DB933704</td>\n",
       "      <td>2004-11-14</td>\n",
       "    </tr>\n",
       "    <tr>\n",
       "      <th>11989</th>\n",
       "      <td>10425</td>\n",
       "      <td>13</td>\n",
       "      <td>119</td>\n",
       "      <td>1370</td>\n",
       "      <td>S18_4600</td>\n",
       "      <td>In Process</td>\n",
       "      <td>38</td>\n",
       "      <td>107.76</td>\n",
       "      <td>4094.88</td>\n",
       "      <td>spain</td>\n",
       "      <td>10425-13</td>\n",
       "      <td>119-LN373447</td>\n",
       "      <td>47924.19</td>\n",
       "      <td>LN373447</td>\n",
       "      <td>2004-08-08</td>\n",
       "    </tr>\n",
       "    <tr>\n",
       "      <th>11990</th>\n",
       "      <td>10425</td>\n",
       "      <td>13</td>\n",
       "      <td>119</td>\n",
       "      <td>1370</td>\n",
       "      <td>S18_4600</td>\n",
       "      <td>In Process</td>\n",
       "      <td>38</td>\n",
       "      <td>107.76</td>\n",
       "      <td>4094.88</td>\n",
       "      <td>spain</td>\n",
       "      <td>10425-13</td>\n",
       "      <td>119-NG94694</td>\n",
       "      <td>49523.67</td>\n",
       "      <td>NG94694</td>\n",
       "      <td>2005-02-22</td>\n",
       "    </tr>\n",
       "  </tbody>\n",
       "</table>\n",
       "</div>"
      ],
      "text/plain": [
       "       orderNumber  orderLineNumber  customerNumber  employeeNumber  \\\n",
       "11986        10425               12             119            1370   \n",
       "11987        10425               12             119            1370   \n",
       "11988        10425               13             119            1370   \n",
       "11989        10425               13             119            1370   \n",
       "11990        10425               13             119            1370   \n",
       "\n",
       "      productCode      status  quantityOrdered  priceEach  sales_amount  \\\n",
       "11986    S10_4962  In Process               38     131.49       4996.62   \n",
       "11987    S10_4962  In Process               38     131.49       4996.62   \n",
       "11988    S18_4600  In Process               38     107.76       4094.88   \n",
       "11989    S18_4600  In Process               38     107.76       4094.88   \n",
       "11990    S18_4600  In Process               38     107.76       4094.88   \n",
       "\n",
       "      origin complete_order_number customer-check    amount checkNumber  \\\n",
       "11986  spain              10425-12   119-LN373447  47924.19    LN373447   \n",
       "11987  spain              10425-12    119-NG94694  49523.67     NG94694   \n",
       "11988  spain              10425-13   119-DB933704  19501.82    DB933704   \n",
       "11989  spain              10425-13   119-LN373447  47924.19    LN373447   \n",
       "11990  spain              10425-13    119-NG94694  49523.67     NG94694   \n",
       "\n",
       "      paymentDate  \n",
       "11986  2004-08-08  \n",
       "11987  2005-02-22  \n",
       "11988  2004-11-14  \n",
       "11989  2004-08-08  \n",
       "11990  2005-02-22  "
      ]
     },
     "execution_count": 64,
     "metadata": {},
     "output_type": "execute_result"
    }
   ],
   "source": [
    "merged_df.tail()"
   ]
  },
  {
   "cell_type": "markdown",
   "metadata": {},
   "source": [
    "#### Insights by Sales and payments"
   ]
  },
  {
   "cell_type": "code",
   "execution_count": 70,
   "metadata": {},
   "outputs": [
    {
     "data": {
      "text/html": [
       "<div>\n",
       "<style scoped>\n",
       "    .dataframe tbody tr th:only-of-type {\n",
       "        vertical-align: middle;\n",
       "    }\n",
       "\n",
       "    .dataframe tbody tr th {\n",
       "        vertical-align: top;\n",
       "    }\n",
       "\n",
       "    .dataframe thead th {\n",
       "        text-align: right;\n",
       "    }\n",
       "</style>\n",
       "<table border=\"1\" class=\"dataframe\">\n",
       "  <thead>\n",
       "    <tr style=\"text-align: right;\">\n",
       "      <th></th>\n",
       "      <th>customerNumber</th>\n",
       "      <th>num</th>\n",
       "      <th>tot_sale</th>\n",
       "      <th>tot_amount</th>\n",
       "    </tr>\n",
       "  </thead>\n",
       "  <tbody>\n",
       "    <tr>\n",
       "      <th>0</th>\n",
       "      <td>103</td>\n",
       "      <td>21</td>\n",
       "      <td>66943.08</td>\n",
       "      <td>156200.52</td>\n",
       "    </tr>\n",
       "    <tr>\n",
       "      <th>1</th>\n",
       "      <td>112</td>\n",
       "      <td>87</td>\n",
       "      <td>240542.94</td>\n",
       "      <td>2325248.42</td>\n",
       "    </tr>\n",
       "    <tr>\n",
       "      <th>2</th>\n",
       "      <td>114</td>\n",
       "      <td>220</td>\n",
       "      <td>722340.28</td>\n",
       "      <td>9932178.85</td>\n",
       "    </tr>\n",
       "    <tr>\n",
       "      <th>3</th>\n",
       "      <td>119</td>\n",
       "      <td>159</td>\n",
       "      <td>475719.36</td>\n",
       "      <td>6198333.04</td>\n",
       "    </tr>\n",
       "    <tr>\n",
       "      <th>4</th>\n",
       "      <td>121</td>\n",
       "      <td>128</td>\n",
       "      <td>416899.16</td>\n",
       "      <td>3335193.28</td>\n",
       "    </tr>\n",
       "    <tr>\n",
       "      <th>...</th>\n",
       "      <td>...</td>\n",
       "      <td>...</td>\n",
       "      <td>...</td>\n",
       "      <td>...</td>\n",
       "    </tr>\n",
       "    <tr>\n",
       "      <th>93</th>\n",
       "      <td>486</td>\n",
       "      <td>66</td>\n",
       "      <td>223295.61</td>\n",
       "      <td>1709984.98</td>\n",
       "    </tr>\n",
       "    <tr>\n",
       "      <th>94</th>\n",
       "      <td>487</td>\n",
       "      <td>30</td>\n",
       "      <td>85140.74</td>\n",
       "      <td>638511.90</td>\n",
       "    </tr>\n",
       "    <tr>\n",
       "      <th>95</th>\n",
       "      <td>489</td>\n",
       "      <td>24</td>\n",
       "      <td>59172.30</td>\n",
       "      <td>355033.80</td>\n",
       "    </tr>\n",
       "    <tr>\n",
       "      <th>96</th>\n",
       "      <td>495</td>\n",
       "      <td>36</td>\n",
       "      <td>131083.48</td>\n",
       "      <td>1179751.32</td>\n",
       "    </tr>\n",
       "    <tr>\n",
       "      <th>97</th>\n",
       "      <td>496</td>\n",
       "      <td>144</td>\n",
       "      <td>412382.37</td>\n",
       "      <td>5495865.12</td>\n",
       "    </tr>\n",
       "  </tbody>\n",
       "</table>\n",
       "<p>98 rows × 4 columns</p>\n",
       "</div>"
      ],
      "text/plain": [
       "    customerNumber  num   tot_sale  tot_amount\n",
       "0              103   21   66943.08   156200.52\n",
       "1              112   87  240542.94  2325248.42\n",
       "2              114  220  722340.28  9932178.85\n",
       "3              119  159  475719.36  6198333.04\n",
       "4              121  128  416899.16  3335193.28\n",
       "..             ...  ...        ...         ...\n",
       "93             486   66  223295.61  1709984.98\n",
       "94             487   30   85140.74   638511.90\n",
       "95             489   24   59172.30   355033.80\n",
       "96             495   36  131083.48  1179751.32\n",
       "97             496  144  412382.37  5495865.12\n",
       "\n",
       "[98 rows x 4 columns]"
      ]
     },
     "execution_count": 70,
     "metadata": {},
     "output_type": "execute_result"
    }
   ],
   "source": [
    "customer_sales_pays = merged_df.groupby('customerNumber').agg(num=('complete_order_number', 'count'), tot_sale=('sales_amount', 'sum'), tot_amount=('amount', 'sum')).reset_index()\n",
    "\n",
    "customer_sales_pays"
   ]
  },
  {
   "cell_type": "code",
   "execution_count": 72,
   "metadata": {},
   "outputs": [
    {
     "name": "stdout",
     "output_type": "stream",
     "text": [
      "# top ten por número de compras\n"
     ]
    },
    {
     "data": {
      "text/html": [
       "<div>\n",
       "<style scoped>\n",
       "    .dataframe tbody tr th:only-of-type {\n",
       "        vertical-align: middle;\n",
       "    }\n",
       "\n",
       "    .dataframe tbody tr th {\n",
       "        vertical-align: top;\n",
       "    }\n",
       "\n",
       "    .dataframe thead th {\n",
       "        text-align: right;\n",
       "    }\n",
       "</style>\n",
       "<table border=\"1\" class=\"dataframe\">\n",
       "  <thead>\n",
       "    <tr style=\"text-align: right;\">\n",
       "      <th></th>\n",
       "      <th>customerNumber</th>\n",
       "      <th>num</th>\n",
       "    </tr>\n",
       "  </thead>\n",
       "  <tbody>\n",
       "    <tr>\n",
       "      <th>9</th>\n",
       "      <td>141</td>\n",
       "      <td>3367</td>\n",
       "    </tr>\n",
       "    <tr>\n",
       "      <th>5</th>\n",
       "      <td>124</td>\n",
       "      <td>1620</td>\n",
       "    </tr>\n",
       "    <tr>\n",
       "      <th>2</th>\n",
       "      <td>114</td>\n",
       "      <td>220</td>\n",
       "    </tr>\n",
       "    <tr>\n",
       "      <th>14</th>\n",
       "      <td>151</td>\n",
       "      <td>192</td>\n",
       "    </tr>\n",
       "    <tr>\n",
       "      <th>58</th>\n",
       "      <td>323</td>\n",
       "      <td>184</td>\n",
       "    </tr>\n",
       "    <tr>\n",
       "      <th>47</th>\n",
       "      <td>276</td>\n",
       "      <td>184</td>\n",
       "    </tr>\n",
       "    <tr>\n",
       "      <th>13</th>\n",
       "      <td>148</td>\n",
       "      <td>172</td>\n",
       "    </tr>\n",
       "    <tr>\n",
       "      <th>67</th>\n",
       "      <td>353</td>\n",
       "      <td>164</td>\n",
       "    </tr>\n",
       "    <tr>\n",
       "      <th>3</th>\n",
       "      <td>119</td>\n",
       "      <td>159</td>\n",
       "    </tr>\n",
       "    <tr>\n",
       "      <th>26</th>\n",
       "      <td>187</td>\n",
       "      <td>153</td>\n",
       "    </tr>\n",
       "  </tbody>\n",
       "</table>\n",
       "</div>"
      ],
      "text/plain": [
       "    customerNumber   num\n",
       "9              141  3367\n",
       "5              124  1620\n",
       "2              114   220\n",
       "14             151   192\n",
       "58             323   184\n",
       "47             276   184\n",
       "13             148   172\n",
       "67             353   164\n",
       "3              119   159\n",
       "26             187   153"
      ]
     },
     "execution_count": 72,
     "metadata": {},
     "output_type": "execute_result"
    }
   ],
   "source": [
    "print('# top ten por número de compras')\n",
    "customer_sales_pays.sort_values('num', ascending=False)[\n",
    "    ['customerNumber', 'num']].head(10)"
   ]
  },
  {
   "cell_type": "code",
   "execution_count": 73,
   "metadata": {},
   "outputs": [
    {
     "name": "stdout",
     "output_type": "stream",
     "text": [
      "# top ten por monto de compras\n"
     ]
    },
    {
     "data": {
      "text/html": [
       "<div>\n",
       "<style scoped>\n",
       "    .dataframe tbody tr th:only-of-type {\n",
       "        vertical-align: middle;\n",
       "    }\n",
       "\n",
       "    .dataframe tbody tr th {\n",
       "        vertical-align: top;\n",
       "    }\n",
       "\n",
       "    .dataframe thead th {\n",
       "        text-align: right;\n",
       "    }\n",
       "</style>\n",
       "<table border=\"1\" class=\"dataframe\">\n",
       "  <thead>\n",
       "    <tr style=\"text-align: right;\">\n",
       "      <th></th>\n",
       "      <th>customerNumber</th>\n",
       "      <th>tot_sale</th>\n",
       "    </tr>\n",
       "  </thead>\n",
       "  <tbody>\n",
       "    <tr>\n",
       "      <th>9</th>\n",
       "      <td>141</td>\n",
       "      <td>10668964.02</td>\n",
       "    </tr>\n",
       "    <tr>\n",
       "      <th>5</th>\n",
       "      <td>124</td>\n",
       "      <td>5326446.06</td>\n",
       "    </tr>\n",
       "    <tr>\n",
       "      <th>2</th>\n",
       "      <td>114</td>\n",
       "      <td>722340.28</td>\n",
       "    </tr>\n",
       "    <tr>\n",
       "      <th>14</th>\n",
       "      <td>151</td>\n",
       "      <td>711655.80</td>\n",
       "    </tr>\n",
       "    <tr>\n",
       "      <th>13</th>\n",
       "      <td>148</td>\n",
       "      <td>624924.00</td>\n",
       "    </tr>\n",
       "    <tr>\n",
       "      <th>58</th>\n",
       "      <td>323</td>\n",
       "      <td>618488.32</td>\n",
       "    </tr>\n",
       "    <tr>\n",
       "      <th>47</th>\n",
       "      <td>276</td>\n",
       "      <td>548136.88</td>\n",
       "    </tr>\n",
       "    <tr>\n",
       "      <th>11</th>\n",
       "      <td>145</td>\n",
       "      <td>516340.48</td>\n",
       "    </tr>\n",
       "    <tr>\n",
       "      <th>67</th>\n",
       "      <td>353</td>\n",
       "      <td>507932.76</td>\n",
       "    </tr>\n",
       "    <tr>\n",
       "      <th>3</th>\n",
       "      <td>119</td>\n",
       "      <td>475719.36</td>\n",
       "    </tr>\n",
       "  </tbody>\n",
       "</table>\n",
       "</div>"
      ],
      "text/plain": [
       "    customerNumber     tot_sale\n",
       "9              141  10668964.02\n",
       "5              124   5326446.06\n",
       "2              114    722340.28\n",
       "14             151    711655.80\n",
       "13             148    624924.00\n",
       "58             323    618488.32\n",
       "47             276    548136.88\n",
       "11             145    516340.48\n",
       "67             353    507932.76\n",
       "3              119    475719.36"
      ]
     },
     "execution_count": 73,
     "metadata": {},
     "output_type": "execute_result"
    }
   ],
   "source": [
    "print('# top ten por monto de compras')\n",
    "customer_sales_pays.sort_values('tot_sale', ascending=False)[\n",
    "    ['customerNumber', 'tot_sale']].head(10)"
   ]
  },
  {
   "cell_type": "code",
   "execution_count": 76,
   "metadata": {},
   "outputs": [
    {
     "name": "stdout",
     "output_type": "stream",
     "text": [
      "# top ten por monto de pagos\n"
     ]
    },
    {
     "data": {
      "text/html": [
       "<div>\n",
       "<style scoped>\n",
       "    .dataframe tbody tr th:only-of-type {\n",
       "        vertical-align: middle;\n",
       "    }\n",
       "\n",
       "    .dataframe tbody tr th {\n",
       "        vertical-align: top;\n",
       "    }\n",
       "\n",
       "    .dataframe thead th {\n",
       "        text-align: right;\n",
       "    }\n",
       "</style>\n",
       "<table border=\"1\" class=\"dataframe\">\n",
       "  <thead>\n",
       "    <tr style=\"text-align: right;\">\n",
       "      <th></th>\n",
       "      <th>customerNumber</th>\n",
       "      <th>tot_amount</th>\n",
       "    </tr>\n",
       "  </thead>\n",
       "  <tbody>\n",
       "    <tr>\n",
       "      <th>9</th>\n",
       "      <td>141</td>\n",
       "      <td>1.853764e+08</td>\n",
       "    </tr>\n",
       "    <tr>\n",
       "      <th>5</th>\n",
       "      <td>124</td>\n",
       "      <td>1.051539e+08</td>\n",
       "    </tr>\n",
       "    <tr>\n",
       "      <th>2</th>\n",
       "      <td>114</td>\n",
       "      <td>9.932179e+06</td>\n",
       "    </tr>\n",
       "    <tr>\n",
       "      <th>14</th>\n",
       "      <td>151</td>\n",
       "      <td>8.539870e+06</td>\n",
       "    </tr>\n",
       "    <tr>\n",
       "      <th>26</th>\n",
       "      <td>187</td>\n",
       "      <td>7.568915e+06</td>\n",
       "    </tr>\n",
       "    <tr>\n",
       "      <th>58</th>\n",
       "      <td>323</td>\n",
       "      <td>7.112616e+06</td>\n",
       "    </tr>\n",
       "    <tr>\n",
       "      <th>13</th>\n",
       "      <td>148</td>\n",
       "      <td>6.718794e+06</td>\n",
       "    </tr>\n",
       "    <tr>\n",
       "      <th>47</th>\n",
       "      <td>276</td>\n",
       "      <td>6.303574e+06</td>\n",
       "    </tr>\n",
       "    <tr>\n",
       "      <th>3</th>\n",
       "      <td>119</td>\n",
       "      <td>6.198333e+06</td>\n",
       "    </tr>\n",
       "    <tr>\n",
       "      <th>48</th>\n",
       "      <td>278</td>\n",
       "      <td>5.738836e+06</td>\n",
       "    </tr>\n",
       "  </tbody>\n",
       "</table>\n",
       "</div>"
      ],
      "text/plain": [
       "    customerNumber    tot_amount\n",
       "9              141  1.853764e+08\n",
       "5              124  1.051539e+08\n",
       "2              114  9.932179e+06\n",
       "14             151  8.539870e+06\n",
       "26             187  7.568915e+06\n",
       "58             323  7.112616e+06\n",
       "13             148  6.718794e+06\n",
       "47             276  6.303574e+06\n",
       "3              119  6.198333e+06\n",
       "48             278  5.738836e+06"
      ]
     },
     "execution_count": 76,
     "metadata": {},
     "output_type": "execute_result"
    }
   ],
   "source": [
    "print('# top ten por monto de pagos')\n",
    "customer_sales_pays.sort_values('tot_amount', ascending=False)[\n",
    "    ['customerNumber', 'tot_amount']].head(10)"
   ]
  },
  {
   "cell_type": "markdown",
   "metadata": {},
   "source": [
    "#### Insights by origin"
   ]
  },
  {
   "cell_type": "code",
   "execution_count": 77,
   "metadata": {},
   "outputs": [
    {
     "data": {
      "text/html": [
       "<div>\n",
       "<style scoped>\n",
       "    .dataframe tbody tr th:only-of-type {\n",
       "        vertical-align: middle;\n",
       "    }\n",
       "\n",
       "    .dataframe tbody tr th {\n",
       "        vertical-align: top;\n",
       "    }\n",
       "\n",
       "    .dataframe thead th {\n",
       "        text-align: right;\n",
       "    }\n",
       "</style>\n",
       "<table border=\"1\" class=\"dataframe\">\n",
       "  <thead>\n",
       "    <tr style=\"text-align: right;\">\n",
       "      <th></th>\n",
       "      <th>origin</th>\n",
       "      <th>num</th>\n",
       "      <th>tot_sale</th>\n",
       "      <th>tot_amount</th>\n",
       "    </tr>\n",
       "  </thead>\n",
       "  <tbody>\n",
       "    <tr>\n",
       "      <th>0</th>\n",
       "      <td>japan</td>\n",
       "      <td>428</td>\n",
       "      <td>1467969.00</td>\n",
       "      <td>1.417051e+07</td>\n",
       "    </tr>\n",
       "    <tr>\n",
       "      <th>1</th>\n",
       "      <td>spain</td>\n",
       "      <td>11563</td>\n",
       "      <td>37023663.46</td>\n",
       "      <td>5.094805e+08</td>\n",
       "    </tr>\n",
       "  </tbody>\n",
       "</table>\n",
       "</div>"
      ],
      "text/plain": [
       "  origin    num     tot_sale    tot_amount\n",
       "0  japan    428   1467969.00  1.417051e+07\n",
       "1  spain  11563  37023663.46  5.094805e+08"
      ]
     },
     "execution_count": 77,
     "metadata": {},
     "output_type": "execute_result"
    }
   ],
   "source": [
    "by_origin = merged_df.groupby('origin').agg(num=('complete_order_number', 'count'), tot_sale=(\n",
    "    'sales_amount', 'sum'), tot_amount=('amount', 'sum')).reset_index()\n",
    "\n",
    "by_origin"
   ]
  },
  {
   "cell_type": "markdown",
   "metadata": {},
   "source": [
    "#### Insights by date"
   ]
  },
  {
   "cell_type": "code",
   "execution_count": 78,
   "metadata": {},
   "outputs": [
    {
     "data": {
      "text/html": [
       "<div>\n",
       "<style scoped>\n",
       "    .dataframe tbody tr th:only-of-type {\n",
       "        vertical-align: middle;\n",
       "    }\n",
       "\n",
       "    .dataframe tbody tr th {\n",
       "        vertical-align: top;\n",
       "    }\n",
       "\n",
       "    .dataframe thead th {\n",
       "        text-align: right;\n",
       "    }\n",
       "</style>\n",
       "<table border=\"1\" class=\"dataframe\">\n",
       "  <thead>\n",
       "    <tr style=\"text-align: right;\">\n",
       "      <th></th>\n",
       "      <th></th>\n",
       "      <th>num</th>\n",
       "      <th>tot_sale</th>\n",
       "      <th>tot_ammount</th>\n",
       "    </tr>\n",
       "    <tr>\n",
       "      <th>year</th>\n",
       "      <th>month</th>\n",
       "      <th></th>\n",
       "      <th></th>\n",
       "      <th></th>\n",
       "    </tr>\n",
       "  </thead>\n",
       "  <tbody>\n",
       "    <tr>\n",
       "      <th rowspan=\"12\" valign=\"top\">2003</th>\n",
       "      <th>1</th>\n",
       "      <td>81</td>\n",
       "      <td>264884.69</td>\n",
       "      <td>717057.94</td>\n",
       "    </tr>\n",
       "    <tr>\n",
       "      <th>2</th>\n",
       "      <td>327</td>\n",
       "      <td>1053999.45</td>\n",
       "      <td>13962943.76</td>\n",
       "    </tr>\n",
       "    <tr>\n",
       "      <th>3</th>\n",
       "      <td>189</td>\n",
       "      <td>564074.40</td>\n",
       "      <td>7656653.14</td>\n",
       "    </tr>\n",
       "    <tr>\n",
       "      <th>4</th>\n",
       "      <td>314</td>\n",
       "      <td>1066448.75</td>\n",
       "      <td>5603591.46</td>\n",
       "    </tr>\n",
       "    <tr>\n",
       "      <th>5</th>\n",
       "      <td>239</td>\n",
       "      <td>765701.40</td>\n",
       "      <td>6398322.22</td>\n",
       "    </tr>\n",
       "    <tr>\n",
       "      <th>6</th>\n",
       "      <td>135</td>\n",
       "      <td>442817.16</td>\n",
       "      <td>6024837.25</td>\n",
       "    </tr>\n",
       "    <tr>\n",
       "      <th>7</th>\n",
       "      <td>468</td>\n",
       "      <td>1470009.14</td>\n",
       "      <td>13198441.27</td>\n",
       "    </tr>\n",
       "    <tr>\n",
       "      <th>8</th>\n",
       "      <td>333</td>\n",
       "      <td>1065266.12</td>\n",
       "      <td>24853485.99</td>\n",
       "    </tr>\n",
       "    <tr>\n",
       "      <th>9</th>\n",
       "      <td>134</td>\n",
       "      <td>396909.32</td>\n",
       "      <td>4782035.76</td>\n",
       "    </tr>\n",
       "    <tr>\n",
       "      <th>10</th>\n",
       "      <td>515</td>\n",
       "      <td>1656871.86</td>\n",
       "      <td>19166694.82</td>\n",
       "    </tr>\n",
       "    <tr>\n",
       "      <th>11</th>\n",
       "      <td>653</td>\n",
       "      <td>2079319.25</td>\n",
       "      <td>26760930.23</td>\n",
       "    </tr>\n",
       "    <tr>\n",
       "      <th>12</th>\n",
       "      <td>751</td>\n",
       "      <td>2454565.46</td>\n",
       "      <td>38632481.71</td>\n",
       "    </tr>\n",
       "    <tr>\n",
       "      <th rowspan=\"12\" valign=\"top\">2004</th>\n",
       "      <th>1</th>\n",
       "      <td>373</td>\n",
       "      <td>1170876.20</td>\n",
       "      <td>20183803.79</td>\n",
       "    </tr>\n",
       "    <tr>\n",
       "      <th>2</th>\n",
       "      <td>122</td>\n",
       "      <td>390740.66</td>\n",
       "      <td>2340354.99</td>\n",
       "    </tr>\n",
       "    <tr>\n",
       "      <th>3</th>\n",
       "      <td>452</td>\n",
       "      <td>1454322.67</td>\n",
       "      <td>18374798.23</td>\n",
       "    </tr>\n",
       "    <tr>\n",
       "      <th>4</th>\n",
       "      <td>234</td>\n",
       "      <td>749005.28</td>\n",
       "      <td>4579526.84</td>\n",
       "    </tr>\n",
       "    <tr>\n",
       "      <th>5</th>\n",
       "      <td>401</td>\n",
       "      <td>1344802.99</td>\n",
       "      <td>10703521.26</td>\n",
       "    </tr>\n",
       "    <tr>\n",
       "      <th>6</th>\n",
       "      <td>193</td>\n",
       "      <td>672600.36</td>\n",
       "      <td>6647919.95</td>\n",
       "    </tr>\n",
       "    <tr>\n",
       "      <th>7</th>\n",
       "      <td>543</td>\n",
       "      <td>1755881.95</td>\n",
       "      <td>17191516.09</td>\n",
       "    </tr>\n",
       "    <tr>\n",
       "      <th>8</th>\n",
       "      <td>740</td>\n",
       "      <td>2345663.66</td>\n",
       "      <td>28984978.81</td>\n",
       "    </tr>\n",
       "    <tr>\n",
       "      <th>9</th>\n",
       "      <td>401</td>\n",
       "      <td>1283078.57</td>\n",
       "      <td>14207216.19</td>\n",
       "    </tr>\n",
       "    <tr>\n",
       "      <th>10</th>\n",
       "      <td>134</td>\n",
       "      <td>426108.06</td>\n",
       "      <td>4128778.23</td>\n",
       "    </tr>\n",
       "    <tr>\n",
       "      <th>11</th>\n",
       "      <td>1066</td>\n",
       "      <td>3432530.26</td>\n",
       "      <td>42320490.19</td>\n",
       "    </tr>\n",
       "    <tr>\n",
       "      <th>12</th>\n",
       "      <td>1063</td>\n",
       "      <td>3378942.13</td>\n",
       "      <td>62483537.47</td>\n",
       "    </tr>\n",
       "    <tr>\n",
       "      <th rowspan=\"6\" valign=\"top\">2005</th>\n",
       "      <th>1</th>\n",
       "      <td>177</td>\n",
       "      <td>538207.10</td>\n",
       "      <td>5212531.88</td>\n",
       "    </tr>\n",
       "    <tr>\n",
       "      <th>2</th>\n",
       "      <td>259</td>\n",
       "      <td>797947.84</td>\n",
       "      <td>8871011.17</td>\n",
       "    </tr>\n",
       "    <tr>\n",
       "      <th>3</th>\n",
       "      <td>830</td>\n",
       "      <td>2680433.42</td>\n",
       "      <td>69309794.44</td>\n",
       "    </tr>\n",
       "    <tr>\n",
       "      <th>4</th>\n",
       "      <td>317</td>\n",
       "      <td>1024869.55</td>\n",
       "      <td>18600198.61</td>\n",
       "    </tr>\n",
       "    <tr>\n",
       "      <th>5</th>\n",
       "      <td>486</td>\n",
       "      <td>1577288.21</td>\n",
       "      <td>19591982.91</td>\n",
       "    </tr>\n",
       "    <tr>\n",
       "      <th>6</th>\n",
       "      <td>61</td>\n",
       "      <td>187466.55</td>\n",
       "      <td>2161580.94</td>\n",
       "    </tr>\n",
       "  </tbody>\n",
       "</table>\n",
       "</div>"
      ],
      "text/plain": [
       "             num    tot_sale  tot_ammount\n",
       "year month                               \n",
       "2003 1        81   264884.69    717057.94\n",
       "     2       327  1053999.45  13962943.76\n",
       "     3       189   564074.40   7656653.14\n",
       "     4       314  1066448.75   5603591.46\n",
       "     5       239   765701.40   6398322.22\n",
       "     6       135   442817.16   6024837.25\n",
       "     7       468  1470009.14  13198441.27\n",
       "     8       333  1065266.12  24853485.99\n",
       "     9       134   396909.32   4782035.76\n",
       "     10      515  1656871.86  19166694.82\n",
       "     11      653  2079319.25  26760930.23\n",
       "     12      751  2454565.46  38632481.71\n",
       "2004 1       373  1170876.20  20183803.79\n",
       "     2       122   390740.66   2340354.99\n",
       "     3       452  1454322.67  18374798.23\n",
       "     4       234   749005.28   4579526.84\n",
       "     5       401  1344802.99  10703521.26\n",
       "     6       193   672600.36   6647919.95\n",
       "     7       543  1755881.95  17191516.09\n",
       "     8       740  2345663.66  28984978.81\n",
       "     9       401  1283078.57  14207216.19\n",
       "     10      134   426108.06   4128778.23\n",
       "     11     1066  3432530.26  42320490.19\n",
       "     12     1063  3378942.13  62483537.47\n",
       "2005 1       177   538207.10   5212531.88\n",
       "     2       259   797947.84   8871011.17\n",
       "     3       830  2680433.42  69309794.44\n",
       "     4       317  1024869.55  18600198.61\n",
       "     5       486  1577288.21  19591982.91\n",
       "     6        61   187466.55   2161580.94"
      ]
     },
     "execution_count": 78,
     "metadata": {},
     "output_type": "execute_result"
    }
   ],
   "source": [
    "paymentDate = merged_df['paymentDate']\n",
    "\n",
    "by_date = merged_df.groupby([paymentDate.dt.year, paymentDate.dt.month]).agg(num=(\n",
    "    'orderNumber', 'count'), tot_sale=('sales_amount', 'sum'), tot_ammount=('amount', 'sum'))\n",
    "\n",
    "by_date.index.names = ['year', 'month']\n",
    "\n",
    "by_date"
   ]
  },
  {
   "cell_type": "code",
   "execution_count": 79,
   "metadata": {},
   "outputs": [
    {
     "name": "stdout",
     "output_type": "stream",
     "text": [
      "# top años por número de compras\n"
     ]
    },
    {
     "data": {
      "text/html": [
       "<div>\n",
       "<style scoped>\n",
       "    .dataframe tbody tr th:only-of-type {\n",
       "        vertical-align: middle;\n",
       "    }\n",
       "\n",
       "    .dataframe tbody tr th {\n",
       "        vertical-align: top;\n",
       "    }\n",
       "\n",
       "    .dataframe thead th {\n",
       "        text-align: right;\n",
       "    }\n",
       "</style>\n",
       "<table border=\"1\" class=\"dataframe\">\n",
       "  <thead>\n",
       "    <tr style=\"text-align: right;\">\n",
       "      <th></th>\n",
       "      <th>num</th>\n",
       "    </tr>\n",
       "    <tr>\n",
       "      <th>year</th>\n",
       "      <th></th>\n",
       "    </tr>\n",
       "  </thead>\n",
       "  <tbody>\n",
       "    <tr>\n",
       "      <th>2004</th>\n",
       "      <td>5722</td>\n",
       "    </tr>\n",
       "    <tr>\n",
       "      <th>2003</th>\n",
       "      <td>4139</td>\n",
       "    </tr>\n",
       "    <tr>\n",
       "      <th>2005</th>\n",
       "      <td>2130</td>\n",
       "    </tr>\n",
       "  </tbody>\n",
       "</table>\n",
       "</div>"
      ],
      "text/plain": [
       "       num\n",
       "year      \n",
       "2004  5722\n",
       "2003  4139\n",
       "2005  2130"
      ]
     },
     "execution_count": 79,
     "metadata": {},
     "output_type": "execute_result"
    }
   ],
   "source": [
    "print('# top años por número de compras')\n",
    "by_date.sort_values('num', ascending=False).groupby('year').agg({'num': sum}).sort_values('num', ascending=False)"
   ]
  },
  {
   "cell_type": "code",
   "execution_count": 80,
   "metadata": {},
   "outputs": [
    {
     "name": "stdout",
     "output_type": "stream",
     "text": [
      "# top meses por número de compras\n"
     ]
    },
    {
     "data": {
      "text/html": [
       "<div>\n",
       "<style scoped>\n",
       "    .dataframe tbody tr th:only-of-type {\n",
       "        vertical-align: middle;\n",
       "    }\n",
       "\n",
       "    .dataframe tbody tr th {\n",
       "        vertical-align: top;\n",
       "    }\n",
       "\n",
       "    .dataframe thead th {\n",
       "        text-align: right;\n",
       "    }\n",
       "</style>\n",
       "<table border=\"1\" class=\"dataframe\">\n",
       "  <thead>\n",
       "    <tr style=\"text-align: right;\">\n",
       "      <th></th>\n",
       "      <th>num</th>\n",
       "    </tr>\n",
       "    <tr>\n",
       "      <th>month</th>\n",
       "      <th></th>\n",
       "    </tr>\n",
       "  </thead>\n",
       "  <tbody>\n",
       "    <tr>\n",
       "      <th>12</th>\n",
       "      <td>1814</td>\n",
       "    </tr>\n",
       "    <tr>\n",
       "      <th>11</th>\n",
       "      <td>1719</td>\n",
       "    </tr>\n",
       "    <tr>\n",
       "      <th>3</th>\n",
       "      <td>1471</td>\n",
       "    </tr>\n",
       "  </tbody>\n",
       "</table>\n",
       "</div>"
      ],
      "text/plain": [
       "        num\n",
       "month      \n",
       "12     1814\n",
       "11     1719\n",
       "3      1471"
      ]
     },
     "execution_count": 80,
     "metadata": {},
     "output_type": "execute_result"
    }
   ],
   "source": [
    "print('# top meses por número de compras')\n",
    "by_date.groupby('month').agg({'num': sum}).sort_values(\n",
    "    'num', ascending=False).head(3)"
   ]
  },
  {
   "cell_type": "code",
   "execution_count": 82,
   "metadata": {},
   "outputs": [
    {
     "data": {
      "text/html": [
       "<div>\n",
       "<style scoped>\n",
       "    .dataframe tbody tr th:only-of-type {\n",
       "        vertical-align: middle;\n",
       "    }\n",
       "\n",
       "    .dataframe tbody tr th {\n",
       "        vertical-align: top;\n",
       "    }\n",
       "\n",
       "    .dataframe thead th {\n",
       "        text-align: right;\n",
       "    }\n",
       "</style>\n",
       "<table border=\"1\" class=\"dataframe\">\n",
       "  <thead>\n",
       "    <tr style=\"text-align: right;\">\n",
       "      <th></th>\n",
       "      <th>orderNumber</th>\n",
       "      <th>orderLineNumber</th>\n",
       "      <th>customerNumber</th>\n",
       "      <th>employeeNumber</th>\n",
       "      <th>quantityOrdered</th>\n",
       "      <th>priceEach</th>\n",
       "      <th>sales_amount</th>\n",
       "      <th>amount</th>\n",
       "    </tr>\n",
       "  </thead>\n",
       "  <tbody>\n",
       "    <tr>\n",
       "      <th>orderNumber</th>\n",
       "      <td>1.000000</td>\n",
       "      <td>-0.044374</td>\n",
       "      <td>-0.053594</td>\n",
       "      <td>0.090720</td>\n",
       "      <td>0.060507</td>\n",
       "      <td>-0.003680</td>\n",
       "      <td>0.034800</td>\n",
       "      <td>0.074286</td>\n",
       "    </tr>\n",
       "    <tr>\n",
       "      <th>orderLineNumber</th>\n",
       "      <td>-0.044374</td>\n",
       "      <td>1.000000</td>\n",
       "      <td>-0.046280</td>\n",
       "      <td>-0.025341</td>\n",
       "      <td>-0.032029</td>\n",
       "      <td>0.004692</td>\n",
       "      <td>-0.023035</td>\n",
       "      <td>0.067127</td>\n",
       "    </tr>\n",
       "    <tr>\n",
       "      <th>customerNumber</th>\n",
       "      <td>-0.053594</td>\n",
       "      <td>-0.046280</td>\n",
       "      <td>1.000000</td>\n",
       "      <td>0.052050</td>\n",
       "      <td>-0.007862</td>\n",
       "      <td>-0.008469</td>\n",
       "      <td>-0.007947</td>\n",
       "      <td>-0.314820</td>\n",
       "    </tr>\n",
       "    <tr>\n",
       "      <th>employeeNumber</th>\n",
       "      <td>0.090720</td>\n",
       "      <td>-0.025341</td>\n",
       "      <td>0.052050</td>\n",
       "      <td>1.000000</td>\n",
       "      <td>-0.012939</td>\n",
       "      <td>-0.026228</td>\n",
       "      <td>-0.029114</td>\n",
       "      <td>-0.025593</td>\n",
       "    </tr>\n",
       "    <tr>\n",
       "      <th>quantityOrdered</th>\n",
       "      <td>0.060507</td>\n",
       "      <td>-0.032029</td>\n",
       "      <td>-0.007862</td>\n",
       "      <td>-0.012939</td>\n",
       "      <td>1.000000</td>\n",
       "      <td>0.024957</td>\n",
       "      <td>0.567646</td>\n",
       "      <td>0.015247</td>\n",
       "    </tr>\n",
       "    <tr>\n",
       "      <th>priceEach</th>\n",
       "      <td>-0.003680</td>\n",
       "      <td>0.004692</td>\n",
       "      <td>-0.008469</td>\n",
       "      <td>-0.026228</td>\n",
       "      <td>0.024957</td>\n",
       "      <td>1.000000</td>\n",
       "      <td>0.807990</td>\n",
       "      <td>-0.003561</td>\n",
       "    </tr>\n",
       "    <tr>\n",
       "      <th>sales_amount</th>\n",
       "      <td>0.034800</td>\n",
       "      <td>-0.023035</td>\n",
       "      <td>-0.007947</td>\n",
       "      <td>-0.029114</td>\n",
       "      <td>0.567646</td>\n",
       "      <td>0.807990</td>\n",
       "      <td>1.000000</td>\n",
       "      <td>0.004488</td>\n",
       "    </tr>\n",
       "    <tr>\n",
       "      <th>amount</th>\n",
       "      <td>0.074286</td>\n",
       "      <td>0.067127</td>\n",
       "      <td>-0.314820</td>\n",
       "      <td>-0.025593</td>\n",
       "      <td>0.015247</td>\n",
       "      <td>-0.003561</td>\n",
       "      <td>0.004488</td>\n",
       "      <td>1.000000</td>\n",
       "    </tr>\n",
       "  </tbody>\n",
       "</table>\n",
       "</div>"
      ],
      "text/plain": [
       "                 orderNumber  orderLineNumber  customerNumber  employeeNumber  \\\n",
       "orderNumber         1.000000        -0.044374       -0.053594        0.090720   \n",
       "orderLineNumber    -0.044374         1.000000       -0.046280       -0.025341   \n",
       "customerNumber     -0.053594        -0.046280        1.000000        0.052050   \n",
       "employeeNumber      0.090720        -0.025341        0.052050        1.000000   \n",
       "quantityOrdered     0.060507        -0.032029       -0.007862       -0.012939   \n",
       "priceEach          -0.003680         0.004692       -0.008469       -0.026228   \n",
       "sales_amount        0.034800        -0.023035       -0.007947       -0.029114   \n",
       "amount              0.074286         0.067127       -0.314820       -0.025593   \n",
       "\n",
       "                 quantityOrdered  priceEach  sales_amount    amount  \n",
       "orderNumber             0.060507  -0.003680      0.034800  0.074286  \n",
       "orderLineNumber        -0.032029   0.004692     -0.023035  0.067127  \n",
       "customerNumber         -0.007862  -0.008469     -0.007947 -0.314820  \n",
       "employeeNumber         -0.012939  -0.026228     -0.029114 -0.025593  \n",
       "quantityOrdered         1.000000   0.024957      0.567646  0.015247  \n",
       "priceEach               0.024957   1.000000      0.807990 -0.003561  \n",
       "sales_amount            0.567646   0.807990      1.000000  0.004488  \n",
       "amount                  0.015247  -0.003561      0.004488  1.000000  "
      ]
     },
     "execution_count": 82,
     "metadata": {},
     "output_type": "execute_result"
    }
   ],
   "source": [
    "merged_df_corr = merged_df.corr('pearson')\n",
    "merged_df_corr"
   ]
  },
  {
   "cell_type": "code",
   "execution_count": 83,
   "metadata": {},
   "outputs": [
    {
     "data": {
      "text/html": [
       "<div>\n",
       "<style scoped>\n",
       "    .dataframe tbody tr th:only-of-type {\n",
       "        vertical-align: middle;\n",
       "    }\n",
       "\n",
       "    .dataframe tbody tr th {\n",
       "        vertical-align: top;\n",
       "    }\n",
       "\n",
       "    .dataframe thead th {\n",
       "        text-align: right;\n",
       "    }\n",
       "</style>\n",
       "<table border=\"1\" class=\"dataframe\">\n",
       "  <thead>\n",
       "    <tr style=\"text-align: right;\">\n",
       "      <th></th>\n",
       "      <th>orderNumber</th>\n",
       "      <th>orderLineNumber</th>\n",
       "      <th>customerNumber</th>\n",
       "      <th>employeeNumber</th>\n",
       "      <th>quantityOrdered</th>\n",
       "      <th>priceEach</th>\n",
       "      <th>sales_amount</th>\n",
       "      <th>amount</th>\n",
       "    </tr>\n",
       "  </thead>\n",
       "  <tbody>\n",
       "    <tr>\n",
       "      <th>orderNumber</th>\n",
       "      <td>NaN</td>\n",
       "      <td>NaN</td>\n",
       "      <td>NaN</td>\n",
       "      <td>NaN</td>\n",
       "      <td>NaN</td>\n",
       "      <td>NaN</td>\n",
       "      <td>NaN</td>\n",
       "      <td>NaN</td>\n",
       "    </tr>\n",
       "    <tr>\n",
       "      <th>orderLineNumber</th>\n",
       "      <td>NaN</td>\n",
       "      <td>NaN</td>\n",
       "      <td>NaN</td>\n",
       "      <td>NaN</td>\n",
       "      <td>NaN</td>\n",
       "      <td>NaN</td>\n",
       "      <td>NaN</td>\n",
       "      <td>NaN</td>\n",
       "    </tr>\n",
       "    <tr>\n",
       "      <th>customerNumber</th>\n",
       "      <td>NaN</td>\n",
       "      <td>NaN</td>\n",
       "      <td>NaN</td>\n",
       "      <td>NaN</td>\n",
       "      <td>NaN</td>\n",
       "      <td>NaN</td>\n",
       "      <td>NaN</td>\n",
       "      <td>NaN</td>\n",
       "    </tr>\n",
       "    <tr>\n",
       "      <th>employeeNumber</th>\n",
       "      <td>NaN</td>\n",
       "      <td>NaN</td>\n",
       "      <td>NaN</td>\n",
       "      <td>NaN</td>\n",
       "      <td>NaN</td>\n",
       "      <td>NaN</td>\n",
       "      <td>NaN</td>\n",
       "      <td>NaN</td>\n",
       "    </tr>\n",
       "    <tr>\n",
       "      <th>quantityOrdered</th>\n",
       "      <td>NaN</td>\n",
       "      <td>NaN</td>\n",
       "      <td>NaN</td>\n",
       "      <td>NaN</td>\n",
       "      <td>NaN</td>\n",
       "      <td>NaN</td>\n",
       "      <td>NaN</td>\n",
       "      <td>NaN</td>\n",
       "    </tr>\n",
       "    <tr>\n",
       "      <th>priceEach</th>\n",
       "      <td>NaN</td>\n",
       "      <td>NaN</td>\n",
       "      <td>NaN</td>\n",
       "      <td>NaN</td>\n",
       "      <td>NaN</td>\n",
       "      <td>NaN</td>\n",
       "      <td>0.80799</td>\n",
       "      <td>NaN</td>\n",
       "    </tr>\n",
       "    <tr>\n",
       "      <th>sales_amount</th>\n",
       "      <td>NaN</td>\n",
       "      <td>NaN</td>\n",
       "      <td>NaN</td>\n",
       "      <td>NaN</td>\n",
       "      <td>NaN</td>\n",
       "      <td>0.80799</td>\n",
       "      <td>NaN</td>\n",
       "      <td>NaN</td>\n",
       "    </tr>\n",
       "    <tr>\n",
       "      <th>amount</th>\n",
       "      <td>NaN</td>\n",
       "      <td>NaN</td>\n",
       "      <td>NaN</td>\n",
       "      <td>NaN</td>\n",
       "      <td>NaN</td>\n",
       "      <td>NaN</td>\n",
       "      <td>NaN</td>\n",
       "      <td>NaN</td>\n",
       "    </tr>\n",
       "  </tbody>\n",
       "</table>\n",
       "</div>"
      ],
      "text/plain": [
       "                 orderNumber  orderLineNumber  customerNumber  employeeNumber  \\\n",
       "orderNumber              NaN              NaN             NaN             NaN   \n",
       "orderLineNumber          NaN              NaN             NaN             NaN   \n",
       "customerNumber           NaN              NaN             NaN             NaN   \n",
       "employeeNumber           NaN              NaN             NaN             NaN   \n",
       "quantityOrdered          NaN              NaN             NaN             NaN   \n",
       "priceEach                NaN              NaN             NaN             NaN   \n",
       "sales_amount             NaN              NaN             NaN             NaN   \n",
       "amount                   NaN              NaN             NaN             NaN   \n",
       "\n",
       "                 quantityOrdered  priceEach  sales_amount  amount  \n",
       "orderNumber                  NaN        NaN           NaN     NaN  \n",
       "orderLineNumber              NaN        NaN           NaN     NaN  \n",
       "customerNumber               NaN        NaN           NaN     NaN  \n",
       "employeeNumber               NaN        NaN           NaN     NaN  \n",
       "quantityOrdered              NaN        NaN           NaN     NaN  \n",
       "priceEach                    NaN        NaN       0.80799     NaN  \n",
       "sales_amount                 NaN    0.80799           NaN     NaN  \n",
       "amount                       NaN        NaN           NaN     NaN  "
      ]
     },
     "execution_count": 83,
     "metadata": {},
     "output_type": "execute_result"
    }
   ],
   "source": [
    "merged_df_corr[(merged_df_corr > 0.7) & (merged_df_corr != 1)]"
   ]
  },
  {
   "cell_type": "markdown",
   "metadata": {},
   "source": [
    "## Conclusiones"
   ]
  },
  {
   "cell_type": "markdown",
   "metadata": {},
   "source": [
    "**sales:**\n",
    "- nulos: eliminadas 3 columnas. Luego no nulos\n",
    "- anomalías: 17 outliers elimiandos de quantityOrdered\n",
    "- duplicados: 5 duplicados elimiandos\n",
    "- incoherencias: ajustados tipos\n",
    "- cardinalidad: descompensación en origen: 21 - 1 (spain-japan) y en status (shipped +90%)\n",
    "- estadística descriptiva: correlación entre 'sales_amount' y 'priceEach'. No Sesgo significativo.\n",
    "\n",
    "**payments:**\n",
    "- nulos: no nulos\n",
    "- anomalías: 6 outliers elimiandos en amount\n",
    "- duplicados: 6 duplicados mezclados\n",
    "- incoherencias: ajustados tipos\n",
    "- cardinalidad: no se observan descompensaciones\n",
    "- estadística descriptiva: no correlación fuerte. no sesgo.\n",
    "\n",
    "**datos finales:**\n",
    "- 4 primeros clientes son los mismos en los top tens\n",
    "- Origen mayoritario de spain, pero monto total de japan\n",
    "- Año de más ventas 2004\n",
    "- Meses de más ventas: 11, 12, 5"
   ]
  },
  {
   "cell_type": "markdown",
   "metadata": {},
   "source": [
    "## Guardar"
   ]
  },
  {
   "cell_type": "code",
   "execution_count": 85,
   "metadata": {},
   "outputs": [],
   "source": [
    "merged_df.to_csv(\n",
    "    '../data/company_sales/output/merged_lean_df.csv', index=False)"
   ]
  },
  {
   "cell_type": "code",
   "execution_count": 87,
   "metadata": {},
   "outputs": [],
   "source": [
    "merged_df.to_pickle(\n",
    "    '../data/company_sales/output/merged_lean_df.pkl')"
   ]
  },
  {
   "cell_type": "code",
   "execution_count": null,
   "metadata": {},
   "outputs": [],
   "source": [
    "# ! pip install fastparquet"
   ]
  },
  {
   "cell_type": "code",
   "execution_count": 86,
   "metadata": {},
   "outputs": [],
   "source": [
    "merged_df.to_parquet(\n",
    "    '../data/company_sales/output/merged_lean_df.parquet')"
   ]
  }
 ],
 "metadata": {
  "kernelspec": {
   "display_name": "Python 3.8 - AzureML",
   "language": "python",
   "name": "python38-azureml"
  },
  "language_info": {
   "codemirror_mode": {
    "name": "ipython",
    "version": 3
   },
   "file_extension": ".py",
   "mimetype": "text/x-python",
   "name": "python",
   "nbconvert_exporter": "python",
   "pygments_lexer": "ipython3",
   "version": "3.10.11"
  }
 },
 "nbformat": 4,
 "nbformat_minor": 2
}
