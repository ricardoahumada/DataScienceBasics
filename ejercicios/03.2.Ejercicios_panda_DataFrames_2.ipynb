{
 "cells": [
  {
   "cell_type": "markdown",
   "metadata": {},
   "source": [
    "# Ejercicios Pandas DataFrames 02"
   ]
  },
  {
   "cell_type": "markdown",
   "metadata": {},
   "source": [
    "Carga el dataset de vuelos \"flights14.csv\""
   ]
  },
  {
   "cell_type": "code",
   "execution_count": 22,
   "metadata": {},
   "outputs": [
    {
     "data": {
      "text/html": [
       "<div>\n",
       "<style scoped>\n",
       "    .dataframe tbody tr th:only-of-type {\n",
       "        vertical-align: middle;\n",
       "    }\n",
       "\n",
       "    .dataframe tbody tr th {\n",
       "        vertical-align: top;\n",
       "    }\n",
       "\n",
       "    .dataframe thead th {\n",
       "        text-align: right;\n",
       "    }\n",
       "</style>\n",
       "<table border=\"1\" class=\"dataframe\">\n",
       "  <thead>\n",
       "    <tr style=\"text-align: right;\">\n",
       "      <th></th>\n",
       "      <th>year</th>\n",
       "      <th>month</th>\n",
       "      <th>day</th>\n",
       "      <th>dep_delay</th>\n",
       "      <th>arr_delay</th>\n",
       "      <th>carrier</th>\n",
       "      <th>origin</th>\n",
       "      <th>dest</th>\n",
       "      <th>air_time</th>\n",
       "      <th>distance</th>\n",
       "      <th>hour</th>\n",
       "    </tr>\n",
       "  </thead>\n",
       "  <tbody>\n",
       "    <tr>\n",
       "      <th>1</th>\n",
       "      <td>2014</td>\n",
       "      <td>1</td>\n",
       "      <td>1</td>\n",
       "      <td>14</td>\n",
       "      <td>13</td>\n",
       "      <td>AA</td>\n",
       "      <td>JFK</td>\n",
       "      <td>LAX</td>\n",
       "      <td>359</td>\n",
       "      <td>2475</td>\n",
       "      <td>9</td>\n",
       "    </tr>\n",
       "    <tr>\n",
       "      <th>2</th>\n",
       "      <td>2014</td>\n",
       "      <td>1</td>\n",
       "      <td>1</td>\n",
       "      <td>-3</td>\n",
       "      <td>13</td>\n",
       "      <td>AA</td>\n",
       "      <td>JFK</td>\n",
       "      <td>LAX</td>\n",
       "      <td>363</td>\n",
       "      <td>2475</td>\n",
       "      <td>11</td>\n",
       "    </tr>\n",
       "    <tr>\n",
       "      <th>3</th>\n",
       "      <td>2014</td>\n",
       "      <td>1</td>\n",
       "      <td>1</td>\n",
       "      <td>2</td>\n",
       "      <td>9</td>\n",
       "      <td>AA</td>\n",
       "      <td>JFK</td>\n",
       "      <td>LAX</td>\n",
       "      <td>351</td>\n",
       "      <td>2475</td>\n",
       "      <td>19</td>\n",
       "    </tr>\n",
       "    <tr>\n",
       "      <th>4</th>\n",
       "      <td>2014</td>\n",
       "      <td>1</td>\n",
       "      <td>1</td>\n",
       "      <td>-8</td>\n",
       "      <td>-26</td>\n",
       "      <td>AA</td>\n",
       "      <td>LGA</td>\n",
       "      <td>PBI</td>\n",
       "      <td>157</td>\n",
       "      <td>1035</td>\n",
       "      <td>7</td>\n",
       "    </tr>\n",
       "    <tr>\n",
       "      <th>5</th>\n",
       "      <td>2014</td>\n",
       "      <td>1</td>\n",
       "      <td>1</td>\n",
       "      <td>2</td>\n",
       "      <td>1</td>\n",
       "      <td>AA</td>\n",
       "      <td>JFK</td>\n",
       "      <td>LAX</td>\n",
       "      <td>350</td>\n",
       "      <td>2475</td>\n",
       "      <td>13</td>\n",
       "    </tr>\n",
       "  </tbody>\n",
       "</table>\n",
       "</div>"
      ],
      "text/plain": [
       "   year  month  day  dep_delay  arr_delay carrier origin dest  air_time  \\\n",
       "1  2014      1    1         14         13      AA    JFK  LAX       359   \n",
       "2  2014      1    1         -3         13      AA    JFK  LAX       363   \n",
       "3  2014      1    1          2          9      AA    JFK  LAX       351   \n",
       "4  2014      1    1         -8        -26      AA    LGA  PBI       157   \n",
       "5  2014      1    1          2          1      AA    JFK  LAX       350   \n",
       "\n",
       "   distance  hour  \n",
       "1      2475     9  \n",
       "2      2475    11  \n",
       "3      2475    19  \n",
       "4      1035     7  \n",
       "5      2475    13  "
      ]
     },
     "execution_count": 22,
     "metadata": {},
     "output_type": "execute_result"
    }
   ],
   "source": [
    "import pandas as pd\n",
    "\n",
    "df = pd.read_csv('../data/flights14.csv', index_col=0)\n",
    "df.head()"
   ]
  },
  {
   "cell_type": "code",
   "execution_count": null,
   "metadata": {},
   "outputs": [],
   "source": [
    "df.info()"
   ]
  },
  {
   "cell_type": "markdown",
   "metadata": {},
   "source": [
    "1. Escribe un programa Pandas para dividir los datos basados en origen y destino. Muestra cada grupo y el número de elementos por grupo"
   ]
  },
  {
   "cell_type": "code",
   "execution_count": null,
   "metadata": {},
   "outputs": [],
   "source": [
    "gdf = df.groupby(['origin','dest'])\n",
    "\n",
    "for g, vals in gdf.groups.items():\n",
    "    print(g, len(vals))"
   ]
  },
  {
   "cell_type": "code",
   "execution_count": null,
   "metadata": {},
   "outputs": [],
   "source": [
    "gdf.agg({'year':'count'}).rename(columns={'year':'num'})"
   ]
  },
  {
   "cell_type": "markdown",
   "metadata": {},
   "source": [
    "2. Escribe un programa Pandas para calcula la media, desviación estándar, min y max del retraso total de cada orgige-destino."
   ]
  },
  {
   "cell_type": "code",
   "execution_count": 27,
   "metadata": {},
   "outputs": [
    {
     "name": "stdout",
     "output_type": "stream",
     "text": [
      "            total_delay                      \n",
      "                   mean         std min   max\n",
      "origin dest                                  \n",
      "EWR    ALB    35.230769   92.478247 -36   618\n",
      "       ANC    15.307692   43.453777 -30   121\n",
      "       ATL    32.235533  114.946191 -47  2177\n",
      "       AUS     5.871479   63.006811 -62   539\n",
      "       AVL    24.903448   82.071727 -33   625\n",
      "...                 ...         ...  ..   ...\n",
      "LGA    SYR    23.346386   88.091602 -54   844\n",
      "       TPA    15.267279   80.570698 -57   964\n",
      "       TVC    71.500000  183.741200 -41   765\n",
      "       TYS    17.305389   57.004937 -44   291\n",
      "       XNA     6.911565   53.977890 -64   320\n",
      "\n",
      "[221 rows x 4 columns]\n"
     ]
    }
   ],
   "source": [
    "df['total_delay'] = df['dep_delay']+df['arr_delay']\n",
    "gdf = df.groupby(['origin','dest'])\n",
    "# gdf.first()\n",
    "\n",
    "agdf = gdf.agg({'total_delay':['mean','std','min','max']})\n",
    "print(agdf)"
   ]
  },
  {
   "cell_type": "markdown",
   "metadata": {},
   "source": [
    "3. Escribe un programa Pandas para dividir un conjunto de datos y agruparlos por dos columnas, y luego ordenar los resultados agregados dentro de los grupos.\n",
    "\n",
    "En el siguiente conjunto de datos de vuelos, agrupar \"date\" (fecha completa) y \"carrier\". Luego ordenar la suma de 'total_delay' dentro de los grupos."
   ]
  },
  {
   "cell_type": "code",
   "execution_count": 35,
   "metadata": {},
   "outputs": [
    {
     "data": {
      "text/plain": [
       "date        carrier\n",
       "2014-01-01  B6         9383\n",
       "            UA         5897\n",
       "            EV         4675\n",
       "            MQ         3122\n",
       "            WN         2744\n",
       "                       ... \n",
       "2014-10-31  UA         4862\n",
       "            AA         3090\n",
       "            VX           14\n",
       "            HA           -4\n",
       "            F9          -20\n",
       "Name: total_delay, Length: 1520, dtype: int64"
      ]
     },
     "execution_count": 35,
     "metadata": {},
     "output_type": "execute_result"
    }
   ],
   "source": [
    "df['date'] = pd.to_datetime(df[['year', 'month', 'day']])\n",
    "# df.info()\n",
    "\n",
    "gdf = df.groupby(['date', 'carrier']).agg({\"total_delay\": sum})\n",
    "gdf[\"total_delay\"].groupby(level=0, group_keys=False).nlargest()"
   ]
  },
  {
   "cell_type": "markdown",
   "metadata": {},
   "source": [
    "4. Escribe un programa Pandas para contar el múmero de retrasos de salida por mes y origen."
   ]
  },
  {
   "cell_type": "code",
   "execution_count": null,
   "metadata": {},
   "outputs": [],
   "source": []
  },
  {
   "cell_type": "markdown",
   "metadata": {},
   "source": [
    "5. Escribe un programa Pandas para cargar los datos de productos y ventas del archivo FoodMarket.xlsx y mézclalos en un solo dataframe."
   ]
  },
  {
   "cell_type": "code",
   "execution_count": null,
   "metadata": {},
   "outputs": [],
   "source": []
  },
  {
   "cell_type": "markdown",
   "metadata": {},
   "source": [
    "6. Escribe un programa Pandas para extraer información sobre el número de compras totales y el monto total por nombre de producto y año. "
   ]
  },
  {
   "cell_type": "code",
   "execution_count": null,
   "metadata": {},
   "outputs": [],
   "source": []
  }
 ],
 "metadata": {
  "kernelspec": {
   "display_name": "Python 3.8 - AzureML",
   "language": "python",
   "name": "python38-azureml"
  },
  "language_info": {
   "codemirror_mode": {
    "name": "ipython",
    "version": 3
   },
   "file_extension": ".py",
   "mimetype": "text/x-python",
   "name": "python",
   "nbconvert_exporter": "python",
   "pygments_lexer": "ipython3",
   "version": "3.10.11"
  }
 },
 "nbformat": 4,
 "nbformat_minor": 2
}
