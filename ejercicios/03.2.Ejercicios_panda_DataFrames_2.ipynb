{
 "cells": [
  {
   "cell_type": "markdown",
   "metadata": {},
   "source": [
    "# Ejercicios Pandas DataFrames 02"
   ]
  },
  {
   "cell_type": "markdown",
   "metadata": {},
   "source": [
    "Carga el dataset de vuelos \"flights14.csv\""
   ]
  },
  {
   "cell_type": "code",
   "execution_count": null,
   "metadata": {},
   "outputs": [],
   "source": [
    "import pandas as pd\n",
    "\n",
    "df = pd.read_csv('../data/flights14.csv', index_col=0)\n",
    "df.head()"
   ]
  },
  {
   "cell_type": "code",
   "execution_count": null,
   "metadata": {},
   "outputs": [],
   "source": [
    "df.info()"
   ]
  },
  {
   "cell_type": "markdown",
   "metadata": {},
   "source": [
    "1. Escribe un programa Pandas para dividir los datos basados en origen y destino. Muestra cada grupo y el número de elementos por grupo"
   ]
  },
  {
   "cell_type": "code",
   "execution_count": null,
   "metadata": {},
   "outputs": [],
   "source": [
    "gdf = df.groupby(['origin', 'dest'])\n",
    "\n",
    "for g, vals in gdf.groups.items():\n",
    "    print(g, len(vals))"
   ]
  },
  {
   "cell_type": "code",
   "execution_count": null,
   "metadata": {},
   "outputs": [],
   "source": [
    "gdf.agg({'year': 'count'}).rename(columns={'year': 'num'})"
   ]
  },
  {
   "cell_type": "markdown",
   "metadata": {},
   "source": [
    "2. Escribe un programa Pandas para calcula la media, desviación estándar, min y max del retraso total de cada orgige-destino."
   ]
  },
  {
   "cell_type": "code",
   "execution_count": null,
   "metadata": {},
   "outputs": [],
   "source": [
    "df['total_delay'] = df['dep_delay']+df['arr_delay']\n",
    "gdf = df.groupby(['origin', 'dest'])\n",
    "# gdf.first()\n",
    "\n",
    "agdf = gdf.agg({'total_delay': ['mean', 'std', 'min', 'max']})\n",
    "print(agdf)"
   ]
  },
  {
   "cell_type": "markdown",
   "metadata": {},
   "source": [
    "3. Escribe un programa Pandas para dividir un conjunto de datos y agruparlos por dos columnas, y luego ordenar los resultados agregados dentro de los grupos.\n",
    "\n",
    "En el siguiente conjunto de datos de vuelos, agrupar \"date\" (fecha completa) y \"carrier\". Luego ordenar la suma de 'total_delay' dentro de los grupos."
   ]
  },
  {
   "cell_type": "code",
   "execution_count": null,
   "metadata": {},
   "outputs": [],
   "source": [
    "df['date'] = pd.to_datetime(df[['year', 'month', 'day']])\n",
    "# df.info()\n",
    "\n",
    "gdf = df.groupby(['date', 'carrier']).agg({\"total_delay\": sum})\n",
    "gdf[\"total_delay\"].groupby(level=0, group_keys=False).nlargest()"
   ]
  },
  {
   "cell_type": "markdown",
   "metadata": {},
   "source": [
    "4. Escribe un programa Pandas para contar el múmero de retrasos de salida por mes y origen."
   ]
  },
  {
   "cell_type": "code",
   "execution_count": null,
   "metadata": {},
   "outputs": [],
   "source": []
  },
  {
   "cell_type": "markdown",
   "metadata": {},
   "source": [
    "5. Escribe un programa Pandas para cargar los datos de productos y ventas del archivo FoodMarket.xlsx y mézclalos en un solo dataframe."
   ]
  },
  {
   "cell_type": "code",
   "execution_count": null,
   "metadata": {},
   "outputs": [],
   "source": [
    "import pandas as pd\n",
    "df_prods = pd.read_excel('../data/FoodMarket.xlsx', sheet_name='Products')\n",
    "df_prods.sort_values(['Product'], ascending=True, inplace=True)\n",
    "df_prods.info()\n",
    "print(df_prods.head())\n",
    "print(df_prods.tail())\n",
    "df_prods.describe()"
   ]
  },
  {
   "cell_type": "code",
   "execution_count": null,
   "metadata": {},
   "outputs": [],
   "source": [
    "df_purch = pd.read_excel('../data/FoodMarket.xlsx', sheet_name='Purchases')\n",
    "df_purch.info()\n",
    "print(df_purch.head())\n",
    "print(df_purch.tail())\n",
    "df_purch.describe()"
   ]
  },
  {
   "cell_type": "code",
   "execution_count": 10,
   "metadata": {},
   "outputs": [],
   "source": [
    "# !pip install tabulate"
   ]
  },
  {
   "cell_type": "code",
   "execution_count": null,
   "metadata": {},
   "outputs": [],
   "source": [
    "from tabulate import tabulate\n",
    "\n",
    "# Combinando\n",
    "\n",
    "df = pd.merge(df_purch, df_prods, on=\"Product\")\n",
    "df.rename(columns={'Name.x': 'ProductName'}, inplace=True)\n",
    "df.info()\n",
    "df.describe()\n",
    "print('\\n')\n",
    "print(tabulate(df.head(), headers='keys'))\n",
    "print('\\n')\n",
    "print(tabulate(df.tail(), headers='keys'))"
   ]
  },
  {
   "cell_type": "markdown",
   "metadata": {},
   "source": [
    "6. Escribe un programa Pandas para extraer información sobre el número de compras totales y el monto total por nombre de producto y año. "
   ]
  },
  {
   "cell_type": "code",
   "execution_count": 17,
   "metadata": {},
   "outputs": [
    {
     "data": {
      "text/html": [
       "<div>\n",
       "<style scoped>\n",
       "    .dataframe tbody tr th:only-of-type {\n",
       "        vertical-align: middle;\n",
       "    }\n",
       "\n",
       "    .dataframe tbody tr th {\n",
       "        vertical-align: top;\n",
       "    }\n",
       "\n",
       "    .dataframe thead th {\n",
       "        text-align: right;\n",
       "    }\n",
       "</style>\n",
       "<table border=\"1\" class=\"dataframe\">\n",
       "  <thead>\n",
       "    <tr style=\"text-align: right;\">\n",
       "      <th></th>\n",
       "      <th>Code</th>\n",
       "      <th>Product</th>\n",
       "      <th>Seller</th>\n",
       "      <th>Buyer</th>\n",
       "      <th>Fecha</th>\n",
       "      <th>Quantity</th>\n",
       "      <th>ProductName</th>\n",
       "      <th>provider</th>\n",
       "      <th>Price</th>\n",
       "      <th>total-price</th>\n",
       "    </tr>\n",
       "  </thead>\n",
       "  <tbody>\n",
       "    <tr>\n",
       "      <th>0</th>\n",
       "      <td>1</td>\n",
       "      <td>15</td>\n",
       "      <td>37</td>\n",
       "      <td>90</td>\n",
       "      <td>2020-11-10</td>\n",
       "      <td>25</td>\n",
       "      <td>Cheese soups</td>\n",
       "      <td>1</td>\n",
       "      <td>10.116339</td>\n",
       "      <td>252.908485</td>\n",
       "    </tr>\n",
       "    <tr>\n",
       "      <th>1</th>\n",
       "      <td>79</td>\n",
       "      <td>15</td>\n",
       "      <td>42</td>\n",
       "      <td>205</td>\n",
       "      <td>2020-07-28</td>\n",
       "      <td>26</td>\n",
       "      <td>Cheese soups</td>\n",
       "      <td>1</td>\n",
       "      <td>10.116339</td>\n",
       "      <td>263.024825</td>\n",
       "    </tr>\n",
       "    <tr>\n",
       "      <th>2</th>\n",
       "      <td>164</td>\n",
       "      <td>15</td>\n",
       "      <td>55</td>\n",
       "      <td>101</td>\n",
       "      <td>2020-11-11</td>\n",
       "      <td>46</td>\n",
       "      <td>Cheese soups</td>\n",
       "      <td>1</td>\n",
       "      <td>10.116339</td>\n",
       "      <td>465.351613</td>\n",
       "    </tr>\n",
       "    <tr>\n",
       "      <th>3</th>\n",
       "      <td>196</td>\n",
       "      <td>15</td>\n",
       "      <td>15</td>\n",
       "      <td>121</td>\n",
       "      <td>2021-03-15</td>\n",
       "      <td>40</td>\n",
       "      <td>Cheese soups</td>\n",
       "      <td>1</td>\n",
       "      <td>10.116339</td>\n",
       "      <td>404.653577</td>\n",
       "    </tr>\n",
       "    <tr>\n",
       "      <th>4</th>\n",
       "      <td>291</td>\n",
       "      <td>15</td>\n",
       "      <td>15</td>\n",
       "      <td>174</td>\n",
       "      <td>2019-12-13</td>\n",
       "      <td>45</td>\n",
       "      <td>Cheese soups</td>\n",
       "      <td>1</td>\n",
       "      <td>10.116339</td>\n",
       "      <td>455.235274</td>\n",
       "    </tr>\n",
       "    <tr>\n",
       "      <th>...</th>\n",
       "      <td>...</td>\n",
       "      <td>...</td>\n",
       "      <td>...</td>\n",
       "      <td>...</td>\n",
       "      <td>...</td>\n",
       "      <td>...</td>\n",
       "      <td>...</td>\n",
       "      <td>...</td>\n",
       "      <td>...</td>\n",
       "      <td>...</td>\n",
       "    </tr>\n",
       "    <tr>\n",
       "      <th>1496</th>\n",
       "      <td>1176</td>\n",
       "      <td>21</td>\n",
       "      <td>36</td>\n",
       "      <td>79</td>\n",
       "      <td>2019-11-26</td>\n",
       "      <td>28</td>\n",
       "      <td>Doughnut varieties</td>\n",
       "      <td>1</td>\n",
       "      <td>8.236004</td>\n",
       "      <td>230.608122</td>\n",
       "    </tr>\n",
       "    <tr>\n",
       "      <th>1497</th>\n",
       "      <td>1326</td>\n",
       "      <td>21</td>\n",
       "      <td>21</td>\n",
       "      <td>114</td>\n",
       "      <td>2020-09-27</td>\n",
       "      <td>39</td>\n",
       "      <td>Doughnut varieties</td>\n",
       "      <td>1</td>\n",
       "      <td>8.236004</td>\n",
       "      <td>321.204170</td>\n",
       "    </tr>\n",
       "    <tr>\n",
       "      <th>1498</th>\n",
       "      <td>1414</td>\n",
       "      <td>21</td>\n",
       "      <td>19</td>\n",
       "      <td>76</td>\n",
       "      <td>2019-03-25</td>\n",
       "      <td>31</td>\n",
       "      <td>Doughnut varieties</td>\n",
       "      <td>1</td>\n",
       "      <td>8.236004</td>\n",
       "      <td>255.316135</td>\n",
       "    </tr>\n",
       "    <tr>\n",
       "      <th>1499</th>\n",
       "      <td>1442</td>\n",
       "      <td>21</td>\n",
       "      <td>49</td>\n",
       "      <td>23</td>\n",
       "      <td>2020-04-20</td>\n",
       "      <td>27</td>\n",
       "      <td>Doughnut varieties</td>\n",
       "      <td>1</td>\n",
       "      <td>8.236004</td>\n",
       "      <td>222.372117</td>\n",
       "    </tr>\n",
       "    <tr>\n",
       "      <th>1500</th>\n",
       "      <td>1500</td>\n",
       "      <td>21</td>\n",
       "      <td>2</td>\n",
       "      <td>194</td>\n",
       "      <td>2021-02-18</td>\n",
       "      <td>35</td>\n",
       "      <td>Doughnut varieties</td>\n",
       "      <td>1</td>\n",
       "      <td>8.236004</td>\n",
       "      <td>288.260152</td>\n",
       "    </tr>\n",
       "  </tbody>\n",
       "</table>\n",
       "<p>1501 rows × 10 columns</p>\n",
       "</div>"
      ],
      "text/plain": [
       "      Code  Product  Seller  Buyer      Fecha  Quantity         ProductName  \\\n",
       "0        1       15      37     90 2020-11-10        25        Cheese soups   \n",
       "1       79       15      42    205 2020-07-28        26        Cheese soups   \n",
       "2      164       15      55    101 2020-11-11        46        Cheese soups   \n",
       "3      196       15      15    121 2021-03-15        40        Cheese soups   \n",
       "4      291       15      15    174 2019-12-13        45        Cheese soups   \n",
       "...    ...      ...     ...    ...        ...       ...                 ...   \n",
       "1496  1176       21      36     79 2019-11-26        28  Doughnut varieties   \n",
       "1497  1326       21      21    114 2020-09-27        39  Doughnut varieties   \n",
       "1498  1414       21      19     76 2019-03-25        31  Doughnut varieties   \n",
       "1499  1442       21      49     23 2020-04-20        27  Doughnut varieties   \n",
       "1500  1500       21       2    194 2021-02-18        35  Doughnut varieties   \n",
       "\n",
       "      provider      Price  total-price  \n",
       "0            1  10.116339   252.908485  \n",
       "1            1  10.116339   263.024825  \n",
       "2            1  10.116339   465.351613  \n",
       "3            1  10.116339   404.653577  \n",
       "4            1  10.116339   455.235274  \n",
       "...        ...        ...          ...  \n",
       "1496         1   8.236004   230.608122  \n",
       "1497         1   8.236004   321.204170  \n",
       "1498         1   8.236004   255.316135  \n",
       "1499         1   8.236004   222.372117  \n",
       "1500         1   8.236004   288.260152  \n",
       "\n",
       "[1501 rows x 10 columns]"
      ]
     },
     "execution_count": 17,
     "metadata": {},
     "output_type": "execute_result"
    }
   ],
   "source": [
    "df['total-price']=df['Quantity']*df['Price']\n",
    "df"
   ]
  },
  {
   "cell_type": "code",
   "execution_count": null,
   "metadata": {},
   "outputs": [
    {
     "data": {
      "text/html": [
       "<div>\n",
       "<style scoped>\n",
       "    .dataframe tbody tr th:only-of-type {\n",
       "        vertical-align: middle;\n",
       "    }\n",
       "\n",
       "    .dataframe tbody tr th {\n",
       "        vertical-align: top;\n",
       "    }\n",
       "\n",
       "    .dataframe thead th {\n",
       "        text-align: right;\n",
       "    }\n",
       "</style>\n",
       "<table border=\"1\" class=\"dataframe\">\n",
       "  <thead>\n",
       "    <tr style=\"text-align: right;\">\n",
       "      <th></th>\n",
       "      <th></th>\n",
       "      <th>SumQ</th>\n",
       "      <th>SumTotalPrice</th>\n",
       "    </tr>\n",
       "    <tr>\n",
       "      <th>ProductName</th>\n",
       "      <th>Fecha</th>\n",
       "      <th></th>\n",
       "      <th></th>\n",
       "    </tr>\n",
       "  </thead>\n",
       "  <tbody>\n",
       "    <tr>\n",
       "      <th rowspan=\"3\" valign=\"top\">American cheeses</th>\n",
       "      <th>2019</th>\n",
       "      <td>183</td>\n",
       "      <td>1631.19</td>\n",
       "    </tr>\n",
       "    <tr>\n",
       "      <th>2020</th>\n",
       "      <td>384</td>\n",
       "      <td>3422.82</td>\n",
       "    </tr>\n",
       "    <tr>\n",
       "      <th>2021</th>\n",
       "      <td>97</td>\n",
       "      <td>864.62</td>\n",
       "    </tr>\n",
       "    <tr>\n",
       "      <th rowspan=\"2\" valign=\"top\">Appellation d'Origine Contrôlée cheeses</th>\n",
       "      <th>2019</th>\n",
       "      <td>241</td>\n",
       "      <td>2580.06</td>\n",
       "    </tr>\n",
       "    <tr>\n",
       "      <th>2020</th>\n",
       "      <td>184</td>\n",
       "      <td>1969.84</td>\n",
       "    </tr>\n",
       "    <tr>\n",
       "      <th>...</th>\n",
       "      <th>...</th>\n",
       "      <td>...</td>\n",
       "      <td>...</td>\n",
       "    </tr>\n",
       "    <tr>\n",
       "      <th rowspan=\"2\" valign=\"top\">Vegetables</th>\n",
       "      <th>2019</th>\n",
       "      <td>249</td>\n",
       "      <td>9230.55</td>\n",
       "    </tr>\n",
       "    <tr>\n",
       "      <th>2020</th>\n",
       "      <td>108</td>\n",
       "      <td>4003.61</td>\n",
       "    </tr>\n",
       "    <tr>\n",
       "      <th rowspan=\"3\" valign=\"top\">Vodkas</th>\n",
       "      <th>2019</th>\n",
       "      <td>348</td>\n",
       "      <td>14060.76</td>\n",
       "    </tr>\n",
       "    <tr>\n",
       "      <th>2020</th>\n",
       "      <td>187</td>\n",
       "      <td>7555.64</td>\n",
       "    </tr>\n",
       "    <tr>\n",
       "      <th>2021</th>\n",
       "      <td>66</td>\n",
       "      <td>2666.70</td>\n",
       "    </tr>\n",
       "  </tbody>\n",
       "</table>\n",
       "<p>205 rows × 2 columns</p>\n",
       "</div>"
      ],
      "text/plain": [
       "                                               SumQ  SumTotalPrice\n",
       "ProductName                             Fecha                     \n",
       "American cheeses                        2019    183        1631.19\n",
       "                                        2020    384        3422.82\n",
       "                                        2021     97         864.62\n",
       "Appellation d'Origine Contrôlée cheeses 2019    241        2580.06\n",
       "                                        2020    184        1969.84\n",
       "...                                             ...            ...\n",
       "Vegetables                              2019    249        9230.55\n",
       "                                        2020    108        4003.61\n",
       "Vodkas                                  2019    348       14060.76\n",
       "                                        2020    187        7555.64\n",
       "                                        2021     66        2666.70\n",
       "\n",
       "[205 rows x 2 columns]"
      ]
     },
     "execution_count": 23,
     "metadata": {},
     "output_type": "execute_result"
    }
   ],
   "source": [
    "gdf = df.groupby(['ProductName', df['Fecha'].dt.year]\n",
    "                 ).agg(SumQ=('Quantity', sum), SumTotalPrice=('total-price', lambda x: round(sum(x), 2)))\n",
    "gdf"
   ]
  }
 ],
 "metadata": {
  "kernelspec": {
   "display_name": "Python 3.8 - AzureML",
   "language": "python",
   "name": "python38-azureml"
  },
  "language_info": {
   "codemirror_mode": {
    "name": "ipython",
    "version": 3
   },
   "file_extension": ".py",
   "mimetype": "text/x-python",
   "name": "python",
   "nbconvert_exporter": "python",
   "pygments_lexer": "ipython3",
   "version": "3.10.11"
  }
 },
 "nbformat": 4,
 "nbformat_minor": 2
}
