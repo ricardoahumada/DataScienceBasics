{
 "cells": [
  {
   "cell_type": "markdown",
   "metadata": {},
   "source": [
    "# Pandas"
   ]
  },
  {
   "cell_type": "code",
   "execution_count": 1,
   "metadata": {},
   "outputs": [],
   "source": [
    "import pandas as pd"
   ]
  },
  {
   "cell_type": "markdown",
   "metadata": {},
   "source": [
    "## Series"
   ]
  },
  {
   "cell_type": "code",
   "execution_count": null,
   "metadata": {},
   "outputs": [],
   "source": [
    "help(pd.Series)"
   ]
  },
  {
   "cell_type": "code",
   "execution_count": null,
   "metadata": {},
   "outputs": [],
   "source": [
    "s = pd.Series([1, 2, 3, 4, 5, 6])\n",
    "s"
   ]
  },
  {
   "cell_type": "code",
   "execution_count": null,
   "metadata": {},
   "outputs": [],
   "source": [
    "s = pd.Series({'math':10, 'leng':7, 'art': 2})\n",
    "s"
   ]
  },
  {
   "cell_type": "code",
   "execution_count": null,
   "metadata": {},
   "outputs": [],
   "source": [
    "print(s.size)\n",
    "print(s.index)\n",
    "print(s.dtype)"
   ]
  },
  {
   "cell_type": "code",
   "execution_count": null,
   "metadata": {},
   "outputs": [],
   "source": [
    "print(s['math'])\n",
    "print(s[1])\n",
    "print(s[:2])\n",
    "print(s[['leng','art']])\n"
   ]
  },
  {
   "cell_type": "markdown",
   "metadata": {},
   "source": [
    "#### Resumen descriptivo"
   ]
  },
  {
   "cell_type": "code",
   "execution_count": null,
   "metadata": {},
   "outputs": [],
   "source": [
    "s = pd.Series([1, 2, 3, 4, 2, 5, 6])\n",
    "\n",
    "print(s.count())\n",
    "print(s.value_counts())\n",
    "print(s.value_counts(normalize=True))\n",
    "print(s.min())\n",
    "print(s.max())\n",
    "print(s.var())\n",
    "print(s.std())"
   ]
  },
  {
   "cell_type": "code",
   "execution_count": null,
   "metadata": {},
   "outputs": [],
   "source": [
    "print(s.describe())"
   ]
  },
  {
   "cell_type": "code",
   "execution_count": null,
   "metadata": {},
   "outputs": [],
   "source": [
    "print(s.sum())\n",
    "print(s.cumsum())"
   ]
  },
  {
   "cell_type": "markdown",
   "metadata": {},
   "source": [
    "#### Operariones"
   ]
  },
  {
   "cell_type": "code",
   "execution_count": null,
   "metadata": {},
   "outputs": [],
   "source": [
    "s * 2\n",
    "s % 2"
   ]
  },
  {
   "cell_type": "code",
   "execution_count": null,
   "metadata": {},
   "outputs": [],
   "source": [
    "st = pd.Series(['a', 'b', 'c'])\n",
    "st*4"
   ]
  },
  {
   "cell_type": "code",
   "execution_count": null,
   "metadata": {},
   "outputs": [],
   "source": [
    "help(s.apply)"
   ]
  },
  {
   "cell_type": "code",
   "execution_count": null,
   "metadata": {},
   "outputs": [],
   "source": [
    "import math\n",
    "import numpy as np\n",
    "s.apply(np.sqrt)"
   ]
  },
  {
   "cell_type": "code",
   "execution_count": null,
   "metadata": {},
   "outputs": [],
   "source": [
    "st.apply(str.upper)"
   ]
  },
  {
   "cell_type": "code",
   "execution_count": null,
   "metadata": {},
   "outputs": [],
   "source": [
    "def mifunc(val):\n",
    "    return str(val).upper()\n",
    "\n",
    "s.apply(lambda x: x*2+3)\n",
    "\n",
    "st.apply(mifunc)"
   ]
  },
  {
   "cell_type": "markdown",
   "metadata": {},
   "source": [
    "#### Filtrar y ordenar"
   ]
  },
  {
   "cell_type": "code",
   "execution_count": null,
   "metadata": {},
   "outputs": [],
   "source": [
    "mask  = s > 2\n",
    "print(mask)\n",
    "\n",
    "s2 = s[mask]\n",
    "print(s2)\n",
    "print(s)"
   ]
  },
  {
   "cell_type": "code",
   "execution_count": null,
   "metadata": {},
   "outputs": [],
   "source": [
    "s.sort_values()\n",
    "s.sort_index(ascending=False)"
   ]
  },
  {
   "cell_type": "code",
   "execution_count": null,
   "metadata": {},
   "outputs": [],
   "source": [
    "sx = pd.Series(['a', 'b', None, 'c', np.nan, 'd'])\n",
    "print(sx)\n",
    "\n",
    "sy = sx.dropna()\n",
    "print(sy)\n"
   ]
  },
  {
   "cell_type": "code",
   "execution_count": null,
   "metadata": {},
   "outputs": [],
   "source": [
    "help(sx.drop)"
   ]
  },
  {
   "cell_type": "markdown",
   "metadata": {},
   "source": [
    "## DataFrames"
   ]
  },
  {
   "cell_type": "markdown",
   "metadata": {},
   "source": [
    "### Creación"
   ]
  },
  {
   "cell_type": "code",
   "execution_count": null,
   "metadata": {},
   "outputs": [],
   "source": [
    "help(pd.DataFrame)"
   ]
  },
  {
   "cell_type": "code",
   "execution_count": 54,
   "metadata": {},
   "outputs": [],
   "source": [
    "\n",
    "diccionario = {\n",
    "    'nombre': ['María', 'Luis', 'Carmen', 'Antonio'],\n",
    "    'edad': [18, 22, 20, 21],\n",
    "    'grado': ['Economía', 'Medicina', 'Arquitectura', 'Economía'],\n",
    "    'correo': ['maria@gmail.com', 'luis@yahoo.es', 'carmen@gmail.com', 'antonio@gmail.com']\n",
    "}\n",
    "\n",
    "lista_de_listas = [['María', 18],\n",
    "                   ['Luis', 22],\n",
    "                   ['Carmen', 20]]\n",
    "\n",
    "lista_de_dicts = [{'Nombre': 'María', 'Edad': 18},\n",
    "                  {'Nombre': 'Luis', 'Edad': 22},\n",
    "                  {'Nombre': 'Carmen'}]"
   ]
  },
  {
   "cell_type": "code",
   "execution_count": null,
   "metadata": {},
   "outputs": [],
   "source": [
    "df = pd.DataFrame(diccionario)\n",
    "df"
   ]
  },
  {
   "cell_type": "code",
   "execution_count": null,
   "metadata": {},
   "outputs": [],
   "source": [
    "df = pd.DataFrame(lista_de_dicts)\n",
    "df"
   ]
  },
  {
   "cell_type": "code",
   "execution_count": null,
   "metadata": {},
   "outputs": [],
   "source": [
    "df = pd.DataFrame(lista_de_listas, columns=['Nombre','Edad'])\n",
    "df"
   ]
  },
  {
   "cell_type": "markdown",
   "metadata": {},
   "source": [
    "#### Desde fuentes"
   ]
  },
  {
   "cell_type": "code",
   "execution_count": null,
   "metadata": {},
   "outputs": [],
   "source": [
    "dfcol = pd.read_csv(\"../data/colesterol.csv\")\n",
    "print(dfcol)"
   ]
  },
  {
   "cell_type": "code",
   "execution_count": null,
   "metadata": {},
   "outputs": [],
   "source": [
    "dfcol = pd.read_csv(\"https://github.com/ricardoahumada/DataScienceBasics/raw/refs/heads/main/data/colesterol.csv\")\n",
    "print(dfcol)"
   ]
  },
  {
   "cell_type": "code",
   "execution_count": null,
   "metadata": {},
   "outputs": [],
   "source": [
    "dffr = pd.read_json('../data/frutas.json')\n",
    "dffr"
   ]
  },
  {
   "cell_type": "code",
   "execution_count": null,
   "metadata": {},
   "outputs": [],
   "source": [
    "# !pip install sqlite3\n",
    "import sqlite3\n",
    "\n",
    "con_sqlt = sqlite3.connect(\"../data/database.db\")\n",
    "dfdb = pd.read_sql_query(\"SELECT * FROM movies\", con_sqlt)\n",
    "con_sqlt.close()\n",
    "\n",
    "dfdb"
   ]
  },
  {
   "cell_type": "code",
   "execution_count": null,
   "metadata": {},
   "outputs": [],
   "source": [
    "# !pip install openpyxl"
   ]
  },
  {
   "cell_type": "code",
   "execution_count": null,
   "metadata": {},
   "outputs": [],
   "source": [
    "dfxl = pd.read_excel(\"../data/FoodMarket.xlsx\", sheet_name='Purchases')\n",
    "dfxl"
   ]
  },
  {
   "cell_type": "markdown",
   "metadata": {},
   "source": [
    "### Exportar"
   ]
  },
  {
   "cell_type": "code",
   "execution_count": 64,
   "metadata": {},
   "outputs": [],
   "source": [
    "dfxl.to_json('../data/Purchases.json')"
   ]
  },
  {
   "cell_type": "code",
   "execution_count": null,
   "metadata": {},
   "outputs": [],
   "source": [
    "# !pip install pysqlite3"
   ]
  },
  {
   "cell_type": "code",
   "execution_count": null,
   "metadata": {},
   "outputs": [],
   "source": [
    "import sqlite3\n",
    "\n",
    "con_sqlt = sqlite3.connect(\"../data/database.db\")\n",
    "\n",
    "dffr.to_sql(name=\"frutas\", con=con_sqlt)\n",
    "\n",
    "# con_sqlt.close()"
   ]
  },
  {
   "cell_type": "markdown",
   "metadata": {},
   "source": [
    "### Atributos"
   ]
  },
  {
   "cell_type": "code",
   "execution_count": null,
   "metadata": {},
   "outputs": [],
   "source": [
    "dfxl.info()\n",
    "dfcol.info()"
   ]
  },
  {
   "cell_type": "code",
   "execution_count": null,
   "metadata": {},
   "outputs": [],
   "source": [
    "dfcol.size\n",
    "dfcol.shape\n",
    "dfxl.shape"
   ]
  },
  {
   "cell_type": "code",
   "execution_count": null,
   "metadata": {},
   "outputs": [],
   "source": [
    "print(dfxl.columns)\n",
    "print(dfxl.index)\n",
    "print(dfxl.axes)\n",
    "print(dfxl.values)"
   ]
  },
  {
   "cell_type": "code",
   "execution_count": null,
   "metadata": {},
   "outputs": [],
   "source": [
    "print(dfcol.dtypes)"
   ]
  },
  {
   "cell_type": "code",
   "execution_count": null,
   "metadata": {},
   "outputs": [],
   "source": [
    "dfxl.head(10)"
   ]
  },
  {
   "cell_type": "code",
   "execution_count": null,
   "metadata": {},
   "outputs": [],
   "source": [
    "dfxl.tail(10)"
   ]
  },
  {
   "cell_type": "code",
   "execution_count": null,
   "metadata": {},
   "outputs": [],
   "source": [
    "dfxl.describe()"
   ]
  },
  {
   "cell_type": "markdown",
   "metadata": {},
   "source": [
    "### Renombrar y modificar: índices y columnas"
   ]
  },
  {
   "cell_type": "code",
   "execution_count": 112,
   "metadata": {},
   "outputs": [],
   "source": [
    "dfcol.rename(columns={'nombre': 'nombre y apellido', 'peso': 'pesos'}, index={0: 1000, 10: 101}, inplace=True)"
   ]
  },
  {
   "cell_type": "code",
   "execution_count": null,
   "metadata": {},
   "outputs": [],
   "source": [
    "dfcol"
   ]
  },
  {
   "cell_type": "code",
   "execution_count": null,
   "metadata": {},
   "outputs": [],
   "source": [
    "dfcol.set_index(\"nombre y apellido\")"
   ]
  },
  {
   "cell_type": "code",
   "execution_count": null,
   "metadata": {},
   "outputs": [],
   "source": [
    "dfcol.reindex(index=[4, 3, 1], columns=['edad', 'altura'])"
   ]
  },
  {
   "cell_type": "markdown",
   "metadata": {},
   "source": [
    "### Acceso y filtrar"
   ]
  },
  {
   "cell_type": "code",
   "execution_count": null,
   "metadata": {},
   "outputs": [],
   "source": [
    "help(dfcol.loc)"
   ]
  },
  {
   "cell_type": "code",
   "execution_count": null,
   "metadata": {},
   "outputs": [],
   "source": [
    "help(dfcol.iloc)"
   ]
  },
  {
   "cell_type": "code",
   "execution_count": null,
   "metadata": {},
   "outputs": [],
   "source": [
    "dfcol"
   ]
  },
  {
   "cell_type": "code",
   "execution_count": null,
   "metadata": {},
   "outputs": [],
   "source": [
    "dfcol[['altura','peso']]"
   ]
  },
  {
   "cell_type": "code",
   "execution_count": null,
   "metadata": {},
   "outputs": [],
   "source": [
    "dfcol.iloc[1,:3]"
   ]
  },
  {
   "cell_type": "code",
   "execution_count": null,
   "metadata": {},
   "outputs": [],
   "source": [
    "dfcol.iloc[1:5, 2:4]"
   ]
  },
  {
   "cell_type": "code",
   "execution_count": null,
   "metadata": {},
   "outputs": [],
   "source": [
    "dfcol.loc[2:, ['colesterol','peso']]"
   ]
  },
  {
   "cell_type": "code",
   "execution_count": null,
   "metadata": {},
   "outputs": [],
   "source": [
    "mask = dfcol.loc[:, 'peso'] > 70\n",
    "print(mask)\n",
    "dfcol[mask]"
   ]
  },
  {
   "cell_type": "code",
   "execution_count": null,
   "metadata": {},
   "outputs": [],
   "source": [
    "mask = dfcol.loc[:, ['pesos', 'altura']] > [70, 1.5]\n",
    "mask\n",
    "dfcol[mask]"
   ]
  },
  {
   "cell_type": "code",
   "execution_count": null,
   "metadata": {},
   "outputs": [],
   "source": [
    "mask = dfcol.isin([20, 1.7,'Javier García Sánchez'])\n",
    "print(mask)\n",
    "dfcol[mask]"
   ]
  },
  {
   "cell_type": "code",
   "execution_count": null,
   "metadata": {},
   "outputs": [],
   "source": [
    "mask = ~dfcol.isin({'peso':[75,85],'edad':[35]})\n",
    "print(mask)\n",
    "dfcol[mask]"
   ]
  },
  {
   "cell_type": "code",
   "execution_count": null,
   "metadata": {},
   "outputs": [],
   "source": [
    "dfcol[mask].dropna()"
   ]
  },
  {
   "cell_type": "markdown",
   "metadata": {},
   "source": [
    "### Operaciones columnas"
   ]
  },
  {
   "cell_type": "code",
   "execution_count": null,
   "metadata": {},
   "outputs": [],
   "source": [
    "import pandas as pd\n",
    "dfcol = pd.read_csv(\"../data/colesterol.csv\")\n",
    "dfcol.info()"
   ]
  },
  {
   "cell_type": "code",
   "execution_count": null,
   "metadata": {},
   "outputs": [],
   "source": [
    "dfcol['edad'].describe()"
   ]
  },
  {
   "cell_type": "code",
   "execution_count": null,
   "metadata": {},
   "outputs": [],
   "source": [
    "print(dfcol['edad'].count())\n",
    "print(dfcol['edad'].mean())\n",
    "print(dfcol['edad'].std())"
   ]
  },
  {
   "cell_type": "code",
   "execution_count": null,
   "metadata": {},
   "outputs": [],
   "source": [
    "dfcol.describe()"
   ]
  },
  {
   "cell_type": "code",
   "execution_count": null,
   "metadata": {},
   "outputs": [],
   "source": [
    "dfcol.describe(include='object')"
   ]
  },
  {
   "cell_type": "code",
   "execution_count": null,
   "metadata": {},
   "outputs": [],
   "source": [
    "# help(dfcol.select_dtypes)\n",
    "\n",
    "dfcol.select_dtypes(include=['int64','float64'])"
   ]
  },
  {
   "cell_type": "code",
   "execution_count": null,
   "metadata": {},
   "outputs": [],
   "source": [
    "categorias = dfcol.select_dtypes(include=['object'])\n",
    "categorias.head()"
   ]
  },
  {
   "cell_type": "code",
   "execution_count": null,
   "metadata": {},
   "outputs": [],
   "source": [
    "dfcol['imc'] = dfcol['peso']/(dfcol['altura']**2)\n",
    "dfcol"
   ]
  },
  {
   "cell_type": "code",
   "execution_count": null,
   "metadata": {},
   "outputs": [],
   "source": [
    "dfcol.info()\n",
    "dfcol['edad']=dfcol['edad'].astype('int32')\n",
    "dfcol.info()\n",
    "dfcol"
   ]
  },
  {
   "cell_type": "code",
   "execution_count": null,
   "metadata": {},
   "outputs": [],
   "source": [
    "dfcol['date']='2024-10-19'\n",
    "dfcol\n",
    "\n",
    "# dfcol.info()"
   ]
  },
  {
   "cell_type": "code",
   "execution_count": null,
   "metadata": {},
   "outputs": [],
   "source": [
    "dfcol['date']=pd.to_datetime(dfcol['date'], format='%Y-%m-%d')\n",
    "dfcol.info()"
   ]
  },
  {
   "cell_type": "code",
   "execution_count": null,
   "metadata": {},
   "outputs": [],
   "source": [
    "# print(dfcol['date'].dt)\n",
    "# print(dfcol['date'].dt.year)\n",
    "# print(dfcol['date'].dt.month)\n",
    "# print(dfcol['date'].dt.day)\n",
    "print(dfcol['date'].dt.to_period('M'))"
   ]
  },
  {
   "cell_type": "code",
   "execution_count": null,
   "metadata": {},
   "outputs": [],
   "source": [
    "import datetime\n",
    "\n",
    "ahora = datetime.datetime.now()\n",
    "print(ahora)\n",
    "\n",
    "diff_in_days = ahora - dfcol['date']\n",
    "print(diff_in_days)\n",
    "print(diff_in_days.dt.days)"
   ]
  },
  {
   "cell_type": "code",
   "execution_count": null,
   "metadata": {},
   "outputs": [],
   "source": [
    "from math import log\n",
    "\n",
    "dfcol['altura'].apply(log)"
   ]
  },
  {
   "cell_type": "code",
   "execution_count": null,
   "metadata": {},
   "outputs": [],
   "source": [
    "def calc_es_sobrepeso(val):\n",
    "    if val < 18.5:\n",
    "        return 'bajo'\n",
    "    elif val >= 18.5 and val <= 24.9:\n",
    "        return 'normal'\n",
    "    elif val >= 25 and val <= 29.9:\n",
    "        return 'sobrepeso'\n",
    "    elif val >= 30:\n",
    "        return 'obeso'\n",
    "\n",
    "\n",
    "dfcol['esatdo_peso'] = dfcol['imc'].apply(calc_es_sobrepeso)\n",
    "dfcol"
   ]
  },
  {
   "cell_type": "code",
   "execution_count": null,
   "metadata": {},
   "outputs": [],
   "source": [
    "edad = dfcol.pop('edad')\n",
    "print(edad)\n",
    "\n",
    "print(dfcol)"
   ]
  },
  {
   "cell_type": "markdown",
   "metadata": {},
   "source": [
    "### Operaciones filas"
   ]
  },
  {
   "cell_type": "code",
   "execution_count": null,
   "metadata": {},
   "outputs": [],
   "source": [
    "# help(pd.concat)\n",
    "dfcol"
   ]
  },
  {
   "cell_type": "code",
   "execution_count": null,
   "metadata": {},
   "outputs": [],
   "source": [
    "nfila = dfcol.iloc[-1]\n",
    "\n",
    "dfd = pd.DataFrame([nfila])\n",
    "\n",
    "pd.concat((dfcol, dfd), ignore_index=True)"
   ]
  },
  {
   "cell_type": "code",
   "execution_count": null,
   "metadata": {},
   "outputs": [],
   "source": [
    "dfcol.drop(index=[1,3])"
   ]
  },
  {
   "cell_type": "code",
   "execution_count": null,
   "metadata": {},
   "outputs": [],
   "source": [
    "dfcol.dropna()"
   ]
  },
  {
   "cell_type": "code",
   "execution_count": null,
   "metadata": {},
   "outputs": [],
   "source": [
    "dfcol.replace({'sexo':{'H':'Hombre','M':'Mujer'}})"
   ]
  },
  {
   "cell_type": "markdown",
   "metadata": {},
   "source": [
    "## Ordenar"
   ]
  },
  {
   "cell_type": "code",
   "execution_count": null,
   "metadata": {},
   "outputs": [],
   "source": [
    "dfcol"
   ]
  },
  {
   "cell_type": "code",
   "execution_count": null,
   "metadata": {},
   "outputs": [],
   "source": [
    "dfcol.sort_values(['sexo', 'nombre',  'altura'], ascending=[True, False, True])"
   ]
  },
  {
   "cell_type": "markdown",
   "metadata": {},
   "source": [
    "### Agrupamiento"
   ]
  },
  {
   "cell_type": "code",
   "execution_count": 16,
   "metadata": {},
   "outputs": [
    {
     "name": "stdout",
     "output_type": "stream",
     "text": [
      "<class 'pandas.core.frame.DataFrame'>\n",
      "RangeIndex: 14 entries, 0 to 13\n",
      "Data columns (total 6 columns):\n",
      " #   Column      Non-Null Count  Dtype  \n",
      "---  ------      --------------  -----  \n",
      " 0   nombre      14 non-null     object \n",
      " 1   edad        14 non-null     int64  \n",
      " 2   sexo        14 non-null     object \n",
      " 3   peso        13 non-null     float64\n",
      " 4   altura      14 non-null     float64\n",
      " 5   colesterol  13 non-null     float64\n",
      "dtypes: float64(3), int64(1), object(2)\n",
      "memory usage: 800.0+ bytes\n",
      "                             nombre  edad sexo   peso  altura  colesterol\n",
      "0      José Luis Martínez Izquierdo    18    H   85.0    1.79       182.0\n",
      "1                    Rosa Díaz Díaz    32    M   65.0    1.73       232.0\n",
      "2             Javier García Sánchez    24    H    NaN    1.81       191.0\n",
      "3               Carmen López Pinzón    35    M   65.0    1.70       200.0\n",
      "4              Marisa López Collado    46    M   51.0    1.58       148.0\n",
      "5                 Antonio Ruiz Cruz    68    H   66.0    1.74       249.0\n",
      "6           Antonio Fernández Ocaña    51    H   62.0    1.72       276.0\n",
      "7             Pilar Martín González    22    M   60.0    1.66         NaN\n",
      "8              Pedro Gálvez Tenorio    35    H   90.0    1.94       241.0\n",
      "9           Santiago Reillo Manzano    46    H   75.0    1.85       280.0\n",
      "10            Macarena Álvarez Luna    53    M   55.0    1.62       262.0\n",
      "11       José María de la Guía Sanz    58    H   78.0    1.87       198.0\n",
      "12  Miguel Angel Cuadrado Gutiérrez    27    H  109.0    1.98       210.0\n",
      "13            Carolina Rubio Moreno    20    M   61.0    1.77       194.0\n"
     ]
    }
   ],
   "source": [
    "import pandas as pd\n",
    "dfcol = pd.read_csv(\"../data/colesterol.csv\")\n",
    "dfcol.info()\n",
    "print(dfcol)"
   ]
  },
  {
   "cell_type": "code",
   "execution_count": 112,
   "metadata": {},
   "outputs": [],
   "source": [
    "# help(dfcol.groupby)"
   ]
  },
  {
   "cell_type": "code",
   "execution_count": 17,
   "metadata": {},
   "outputs": [
    {
     "name": "stdout",
     "output_type": "stream",
     "text": [
      "{'H': [0, 2, 5, 6, 8, 9, 11, 12], 'M': [1, 3, 4, 7, 10, 13]}\n",
      "      edad                                                        peso  \\\n",
      "     count       mean        std   min    25%   50%    75%   max count   \n",
      "sexo                                                                     \n",
      "H      8.0  40.875000  17.699374  18.0  26.25  40.5  52.75  68.0   7.0   \n",
      "M      6.0  34.666667  13.017936  20.0  24.50  33.5  43.25  53.0   6.0   \n",
      "\n",
      "                 ...  altura       colesterol                             \\\n",
      "           mean  ...     75%   max      count     mean        std    min   \n",
      "sexo             ...                                                       \n",
      "H     80.714286  ...  1.8875  1.98        8.0  228.375  38.407356  182.0   \n",
      "M     59.500000  ...  1.7225  1.77        5.0  207.200  42.862571  148.0   \n",
      "\n",
      "                                    \n",
      "         25%    50%     75%    max  \n",
      "sexo                                \n",
      "H     196.25  225.5  255.75  280.0  \n",
      "M     194.00  200.0  232.00  262.0  \n",
      "\n",
      "[2 rows x 32 columns]\n"
     ]
    }
   ],
   "source": [
    "print(dfcol.groupby('sexo').groups)\n",
    "# print(dfcol.groupby('sexo').get_group('H'))\n",
    "print(dfcol.groupby('sexo').describe())"
   ]
  },
  {
   "cell_type": "code",
   "execution_count": 18,
   "metadata": {},
   "outputs": [
    {
     "name": "stdout",
     "output_type": "stream",
     "text": [
      "{('H', 85.0): [0], ('H', nan): [2], ('H', 62.0): [6], ('H', 66.0): [5], ('H', 75.0): [9], ('H', 78.0): [11], ('H', 90.0): [8], ('H', 109.0): [12], ('M', 51.0): [4], ('M', 55.0): [10], ('M', 60.0): [7], ('M', 61.0): [13], ('M', 65.0): [1, 3]}\n",
      "                                     nombre  edad  altura  colesterol\n",
      "sexo peso                                                            \n",
      "H    62.0           Antonio Fernández Ocaña    51    1.72       276.0\n",
      "     66.0                 Antonio Ruiz Cruz    68    1.74       249.0\n",
      "     75.0           Santiago Reillo Manzano    46    1.85       280.0\n",
      "     78.0        José María de la Guía Sanz    58    1.87       198.0\n",
      "     85.0      José Luis Martínez Izquierdo    18    1.79       182.0\n",
      "     90.0              Pedro Gálvez Tenorio    35    1.94       241.0\n",
      "     109.0  Miguel Angel Cuadrado Gutiérrez    27    1.98       210.0\n",
      "M    51.0              Marisa López Collado    46    1.58       148.0\n",
      "     55.0             Macarena Álvarez Luna    53    1.62       262.0\n",
      "     60.0             Pilar Martín González    22    1.66         NaN\n",
      "     61.0             Carolina Rubio Moreno    20    1.77       194.0\n",
      "     65.0                    Rosa Díaz Díaz    32    1.73       232.0\n"
     ]
    }
   ],
   "source": [
    "print(dfcol.groupby(['sexo','peso']).groups)\n",
    "print(dfcol.groupby(['sexo','peso']).first())"
   ]
  },
  {
   "cell_type": "code",
   "execution_count": 24,
   "metadata": {},
   "outputs": [
    {
     "name": "stderr",
     "output_type": "stream",
     "text": [
      "/tmp/ipykernel_32383/2403368917.py:5: FutureWarning: The provided callable <function sum at 0x7fe3f0681120> is currently using Series.sum. In a future version of pandas, the provided callable will be used directly. To keep current behavior pass the string \"sum\" instead.\n",
      "  dfcol.aggregate([np.sum,'min','max'])\n"
     ]
    },
    {
     "data": {
      "text/html": [
       "<div>\n",
       "<style scoped>\n",
       "    .dataframe tbody tr th:only-of-type {\n",
       "        vertical-align: middle;\n",
       "    }\n",
       "\n",
       "    .dataframe tbody tr th {\n",
       "        vertical-align: top;\n",
       "    }\n",
       "\n",
       "    .dataframe thead th {\n",
       "        text-align: right;\n",
       "    }\n",
       "</style>\n",
       "<table border=\"1\" class=\"dataframe\">\n",
       "  <thead>\n",
       "    <tr style=\"text-align: right;\">\n",
       "      <th></th>\n",
       "      <th>nombre</th>\n",
       "      <th>edad</th>\n",
       "      <th>sexo</th>\n",
       "      <th>peso</th>\n",
       "      <th>altura</th>\n",
       "      <th>colesterol</th>\n",
       "    </tr>\n",
       "  </thead>\n",
       "  <tbody>\n",
       "    <tr>\n",
       "      <th>sum</th>\n",
       "      <td>José Luis Martínez IzquierdoRosa Díaz DíazJavi...</td>\n",
       "      <td>535</td>\n",
       "      <td>HMHMMHHMHHMHHM</td>\n",
       "      <td>922.0</td>\n",
       "      <td>24.76</td>\n",
       "      <td>2863.0</td>\n",
       "    </tr>\n",
       "    <tr>\n",
       "      <th>min</th>\n",
       "      <td>Antonio Fernández Ocaña</td>\n",
       "      <td>18</td>\n",
       "      <td>H</td>\n",
       "      <td>51.0</td>\n",
       "      <td>1.58</td>\n",
       "      <td>148.0</td>\n",
       "    </tr>\n",
       "    <tr>\n",
       "      <th>max</th>\n",
       "      <td>Santiago Reillo Manzano</td>\n",
       "      <td>68</td>\n",
       "      <td>M</td>\n",
       "      <td>109.0</td>\n",
       "      <td>1.98</td>\n",
       "      <td>280.0</td>\n",
       "    </tr>\n",
       "  </tbody>\n",
       "</table>\n",
       "</div>"
      ],
      "text/plain": [
       "                                                nombre  edad            sexo  \\\n",
       "sum  José Luis Martínez IzquierdoRosa Díaz DíazJavi...   535  HMHMMHHMHHMHHM   \n",
       "min                            Antonio Fernández Ocaña    18               H   \n",
       "max                            Santiago Reillo Manzano    68               M   \n",
       "\n",
       "      peso  altura  colesterol  \n",
       "sum  922.0   24.76      2863.0  \n",
       "min   51.0    1.58       148.0  \n",
       "max  109.0    1.98       280.0  "
      ]
     },
     "execution_count": 24,
     "metadata": {},
     "output_type": "execute_result"
    }
   ],
   "source": [
    "import numpy as np\n",
    "# help(dfcol.aggregate)\n",
    "\n",
    "# dfcol.aggregate([np.mean])\n",
    "dfcol.aggregate([np.sum,'min','max'])"
   ]
  },
  {
   "cell_type": "code",
   "execution_count": 14,
   "metadata": {},
   "outputs": [
    {
     "name": "stdout",
     "output_type": "stream",
     "text": [
      "                            nombre  edad  peso  altura  colesterol\n",
      "sexo                                                              \n",
      "H     José Luis Martínez Izquierdo    18  85.0    1.79       182.0\n",
      "M                   Rosa Díaz Díaz    32  65.0    1.73       232.0\n"
     ]
    },
    {
     "name": "stderr",
     "output_type": "stream",
     "text": [
      "/tmp/ipykernel_32383/983893017.py:3: FutureWarning: The provided callable <function sum at 0x7fe3f0681120> is currently using DataFrameGroupBy.sum. In a future version of pandas, the provided callable will be used directly. To keep current behavior pass the string \"sum\" instead.\n",
      "  dfcol.groupby('sexo').agg(np.sum)\n"
     ]
    },
    {
     "data": {
      "text/html": [
       "<div>\n",
       "<style scoped>\n",
       "    .dataframe tbody tr th:only-of-type {\n",
       "        vertical-align: middle;\n",
       "    }\n",
       "\n",
       "    .dataframe tbody tr th {\n",
       "        vertical-align: top;\n",
       "    }\n",
       "\n",
       "    .dataframe thead th {\n",
       "        text-align: right;\n",
       "    }\n",
       "</style>\n",
       "<table border=\"1\" class=\"dataframe\">\n",
       "  <thead>\n",
       "    <tr style=\"text-align: right;\">\n",
       "      <th></th>\n",
       "      <th>nombre</th>\n",
       "      <th>edad</th>\n",
       "      <th>peso</th>\n",
       "      <th>altura</th>\n",
       "      <th>colesterol</th>\n",
       "    </tr>\n",
       "    <tr>\n",
       "      <th>sexo</th>\n",
       "      <th></th>\n",
       "      <th></th>\n",
       "      <th></th>\n",
       "      <th></th>\n",
       "      <th></th>\n",
       "    </tr>\n",
       "  </thead>\n",
       "  <tbody>\n",
       "    <tr>\n",
       "      <th>H</th>\n",
       "      <td>José Luis Martínez IzquierdoJavier García Sánc...</td>\n",
       "      <td>327</td>\n",
       "      <td>565.0</td>\n",
       "      <td>14.70</td>\n",
       "      <td>1827.0</td>\n",
       "    </tr>\n",
       "    <tr>\n",
       "      <th>M</th>\n",
       "      <td>Rosa Díaz DíazCarmen López PinzónMarisa López ...</td>\n",
       "      <td>208</td>\n",
       "      <td>357.0</td>\n",
       "      <td>10.06</td>\n",
       "      <td>1036.0</td>\n",
       "    </tr>\n",
       "  </tbody>\n",
       "</table>\n",
       "</div>"
      ],
      "text/plain": [
       "                                                 nombre  edad   peso  altura  \\\n",
       "sexo                                                                           \n",
       "H     José Luis Martínez IzquierdoJavier García Sánc...   327  565.0   14.70   \n",
       "M     Rosa Díaz DíazCarmen López PinzónMarisa López ...   208  357.0   10.06   \n",
       "\n",
       "      colesterol  \n",
       "sexo              \n",
       "H         1827.0  \n",
       "M         1036.0  "
      ]
     },
     "execution_count": 14,
     "metadata": {},
     "output_type": "execute_result"
    }
   ],
   "source": [
    "print(dfcol.groupby('sexo').first())\n",
    "\n",
    "dfcol.groupby('sexo').agg(np.sum)"
   ]
  },
  {
   "cell_type": "code",
   "execution_count": 22,
   "metadata": {},
   "outputs": [
    {
     "name": "stderr",
     "output_type": "stream",
     "text": [
      "/tmp/ipykernel_32383/1438704059.py:1: FutureWarning: The provided callable <function sum at 0x7fe3f0681120> is currently using SeriesGroupBy.sum. In a future version of pandas, the provided callable will be used directly. To keep current behavior pass the string \"sum\" instead.\n",
      "  dfcol.groupby('sexo').agg({'edad': np.sum, 'colesterol': np.mean})\n",
      "/tmp/ipykernel_32383/1438704059.py:1: FutureWarning: The provided callable <function mean at 0x7fe3f0682560> is currently using SeriesGroupBy.mean. In a future version of pandas, the provided callable will be used directly. To keep current behavior pass the string \"mean\" instead.\n",
      "  dfcol.groupby('sexo').agg({'edad': np.sum, 'colesterol': np.mean})\n"
     ]
    },
    {
     "data": {
      "text/html": [
       "<div>\n",
       "<style scoped>\n",
       "    .dataframe tbody tr th:only-of-type {\n",
       "        vertical-align: middle;\n",
       "    }\n",
       "\n",
       "    .dataframe tbody tr th {\n",
       "        vertical-align: top;\n",
       "    }\n",
       "\n",
       "    .dataframe thead th {\n",
       "        text-align: right;\n",
       "    }\n",
       "</style>\n",
       "<table border=\"1\" class=\"dataframe\">\n",
       "  <thead>\n",
       "    <tr style=\"text-align: right;\">\n",
       "      <th></th>\n",
       "      <th>edad</th>\n",
       "      <th>colesterol</th>\n",
       "    </tr>\n",
       "    <tr>\n",
       "      <th>sexo</th>\n",
       "      <th></th>\n",
       "      <th></th>\n",
       "    </tr>\n",
       "  </thead>\n",
       "  <tbody>\n",
       "    <tr>\n",
       "      <th>H</th>\n",
       "      <td>327</td>\n",
       "      <td>228.375</td>\n",
       "    </tr>\n",
       "    <tr>\n",
       "      <th>M</th>\n",
       "      <td>208</td>\n",
       "      <td>207.200</td>\n",
       "    </tr>\n",
       "  </tbody>\n",
       "</table>\n",
       "</div>"
      ],
      "text/plain": [
       "      edad  colesterol\n",
       "sexo                  \n",
       "H      327     228.375\n",
       "M      208     207.200"
      ]
     },
     "execution_count": 22,
     "metadata": {},
     "output_type": "execute_result"
    }
   ],
   "source": [
    "dfcol.groupby('sexo').agg({'edad': np.sum, 'colesterol': np.mean})"
   ]
  },
  {
   "cell_type": "code",
   "execution_count": 23,
   "metadata": {},
   "outputs": [
    {
     "name": "stdout",
     "output_type": "stream",
     "text": [
      "                                     nombre  edad  altura  colesterol\n",
      "sexo peso                                                            \n",
      "H    62.0           Antonio Fernández Ocaña    51    1.72       276.0\n",
      "     66.0                 Antonio Ruiz Cruz    68    1.74       249.0\n",
      "     75.0           Santiago Reillo Manzano    46    1.85       280.0\n",
      "     78.0        José María de la Guía Sanz    58    1.87       198.0\n",
      "     85.0      José Luis Martínez Izquierdo    18    1.79       182.0\n",
      "     90.0              Pedro Gálvez Tenorio    35    1.94       241.0\n",
      "     109.0  Miguel Angel Cuadrado Gutiérrez    27    1.98       210.0\n",
      "M    51.0              Marisa López Collado    46    1.58       148.0\n",
      "     55.0             Macarena Álvarez Luna    53    1.62       262.0\n",
      "     60.0             Pilar Martín González    22    1.66         NaN\n",
      "     61.0             Carolina Rubio Moreno    20    1.77       194.0\n",
      "     65.0                    Rosa Díaz Díaz    32    1.73       232.0\n"
     ]
    },
    {
     "name": "stderr",
     "output_type": "stream",
     "text": [
      "/tmp/ipykernel_32383/3170945741.py:3: FutureWarning: The provided callable <function sum at 0x7fe3f0681120> is currently using DataFrameGroupBy.sum. In a future version of pandas, the provided callable will be used directly. To keep current behavior pass the string \"sum\" instead.\n",
      "  dfcol.groupby(['sexo','peso']).agg(np.sum)\n"
     ]
    },
    {
     "data": {
      "text/html": [
       "<div>\n",
       "<style scoped>\n",
       "    .dataframe tbody tr th:only-of-type {\n",
       "        vertical-align: middle;\n",
       "    }\n",
       "\n",
       "    .dataframe tbody tr th {\n",
       "        vertical-align: top;\n",
       "    }\n",
       "\n",
       "    .dataframe thead th {\n",
       "        text-align: right;\n",
       "    }\n",
       "</style>\n",
       "<table border=\"1\" class=\"dataframe\">\n",
       "  <thead>\n",
       "    <tr style=\"text-align: right;\">\n",
       "      <th></th>\n",
       "      <th></th>\n",
       "      <th>nombre</th>\n",
       "      <th>edad</th>\n",
       "      <th>altura</th>\n",
       "      <th>colesterol</th>\n",
       "    </tr>\n",
       "    <tr>\n",
       "      <th>sexo</th>\n",
       "      <th>peso</th>\n",
       "      <th></th>\n",
       "      <th></th>\n",
       "      <th></th>\n",
       "      <th></th>\n",
       "    </tr>\n",
       "  </thead>\n",
       "  <tbody>\n",
       "    <tr>\n",
       "      <th rowspan=\"7\" valign=\"top\">H</th>\n",
       "      <th>62.0</th>\n",
       "      <td>Antonio Fernández Ocaña</td>\n",
       "      <td>51</td>\n",
       "      <td>1.72</td>\n",
       "      <td>276.0</td>\n",
       "    </tr>\n",
       "    <tr>\n",
       "      <th>66.0</th>\n",
       "      <td>Antonio Ruiz Cruz</td>\n",
       "      <td>68</td>\n",
       "      <td>1.74</td>\n",
       "      <td>249.0</td>\n",
       "    </tr>\n",
       "    <tr>\n",
       "      <th>75.0</th>\n",
       "      <td>Santiago Reillo Manzano</td>\n",
       "      <td>46</td>\n",
       "      <td>1.85</td>\n",
       "      <td>280.0</td>\n",
       "    </tr>\n",
       "    <tr>\n",
       "      <th>78.0</th>\n",
       "      <td>José María de la Guía Sanz</td>\n",
       "      <td>58</td>\n",
       "      <td>1.87</td>\n",
       "      <td>198.0</td>\n",
       "    </tr>\n",
       "    <tr>\n",
       "      <th>85.0</th>\n",
       "      <td>José Luis Martínez Izquierdo</td>\n",
       "      <td>18</td>\n",
       "      <td>1.79</td>\n",
       "      <td>182.0</td>\n",
       "    </tr>\n",
       "    <tr>\n",
       "      <th>90.0</th>\n",
       "      <td>Pedro Gálvez Tenorio</td>\n",
       "      <td>35</td>\n",
       "      <td>1.94</td>\n",
       "      <td>241.0</td>\n",
       "    </tr>\n",
       "    <tr>\n",
       "      <th>109.0</th>\n",
       "      <td>Miguel Angel Cuadrado Gutiérrez</td>\n",
       "      <td>27</td>\n",
       "      <td>1.98</td>\n",
       "      <td>210.0</td>\n",
       "    </tr>\n",
       "    <tr>\n",
       "      <th rowspan=\"5\" valign=\"top\">M</th>\n",
       "      <th>51.0</th>\n",
       "      <td>Marisa López Collado</td>\n",
       "      <td>46</td>\n",
       "      <td>1.58</td>\n",
       "      <td>148.0</td>\n",
       "    </tr>\n",
       "    <tr>\n",
       "      <th>55.0</th>\n",
       "      <td>Macarena Álvarez Luna</td>\n",
       "      <td>53</td>\n",
       "      <td>1.62</td>\n",
       "      <td>262.0</td>\n",
       "    </tr>\n",
       "    <tr>\n",
       "      <th>60.0</th>\n",
       "      <td>Pilar Martín González</td>\n",
       "      <td>22</td>\n",
       "      <td>1.66</td>\n",
       "      <td>0.0</td>\n",
       "    </tr>\n",
       "    <tr>\n",
       "      <th>61.0</th>\n",
       "      <td>Carolina Rubio Moreno</td>\n",
       "      <td>20</td>\n",
       "      <td>1.77</td>\n",
       "      <td>194.0</td>\n",
       "    </tr>\n",
       "    <tr>\n",
       "      <th>65.0</th>\n",
       "      <td>Rosa Díaz DíazCarmen López Pinzón</td>\n",
       "      <td>67</td>\n",
       "      <td>3.43</td>\n",
       "      <td>432.0</td>\n",
       "    </tr>\n",
       "  </tbody>\n",
       "</table>\n",
       "</div>"
      ],
      "text/plain": [
       "                                       nombre  edad  altura  colesterol\n",
       "sexo peso                                                              \n",
       "H    62.0             Antonio Fernández Ocaña    51    1.72       276.0\n",
       "     66.0                   Antonio Ruiz Cruz    68    1.74       249.0\n",
       "     75.0             Santiago Reillo Manzano    46    1.85       280.0\n",
       "     78.0          José María de la Guía Sanz    58    1.87       198.0\n",
       "     85.0        José Luis Martínez Izquierdo    18    1.79       182.0\n",
       "     90.0                Pedro Gálvez Tenorio    35    1.94       241.0\n",
       "     109.0    Miguel Angel Cuadrado Gutiérrez    27    1.98       210.0\n",
       "M    51.0                Marisa López Collado    46    1.58       148.0\n",
       "     55.0               Macarena Álvarez Luna    53    1.62       262.0\n",
       "     60.0               Pilar Martín González    22    1.66         0.0\n",
       "     61.0               Carolina Rubio Moreno    20    1.77       194.0\n",
       "     65.0   Rosa Díaz DíazCarmen López Pinzón    67    3.43       432.0"
      ]
     },
     "execution_count": 23,
     "metadata": {},
     "output_type": "execute_result"
    }
   ],
   "source": [
    "print(dfcol.groupby(['sexo','peso']).first())\n",
    "\n",
    "dfcol.groupby(['sexo','peso']).agg(np.sum)"
   ]
  },
  {
   "cell_type": "code",
   "execution_count": 32,
   "metadata": {},
   "outputs": [
    {
     "data": {
      "text/html": [
       "<div>\n",
       "<style scoped>\n",
       "    .dataframe tbody tr th:only-of-type {\n",
       "        vertical-align: middle;\n",
       "    }\n",
       "\n",
       "    .dataframe tbody tr th {\n",
       "        vertical-align: top;\n",
       "    }\n",
       "\n",
       "    .dataframe thead th {\n",
       "        text-align: right;\n",
       "    }\n",
       "</style>\n",
       "<table border=\"1\" class=\"dataframe\">\n",
       "  <thead>\n",
       "    <tr style=\"text-align: right;\">\n",
       "      <th></th>\n",
       "      <th>nombre</th>\n",
       "      <th>edad</th>\n",
       "      <th>sexo</th>\n",
       "      <th>peso</th>\n",
       "      <th>altura</th>\n",
       "      <th>colesterol</th>\n",
       "      <th>rangos_edad</th>\n",
       "    </tr>\n",
       "  </thead>\n",
       "  <tbody>\n",
       "    <tr>\n",
       "      <th>0</th>\n",
       "      <td>José Luis Martínez Izquierdo</td>\n",
       "      <td>18</td>\n",
       "      <td>H</td>\n",
       "      <td>85.0</td>\n",
       "      <td>1.79</td>\n",
       "      <td>182.0</td>\n",
       "      <td>(1, 20]</td>\n",
       "    </tr>\n",
       "    <tr>\n",
       "      <th>1</th>\n",
       "      <td>Rosa Díaz Díaz</td>\n",
       "      <td>32</td>\n",
       "      <td>M</td>\n",
       "      <td>65.0</td>\n",
       "      <td>1.73</td>\n",
       "      <td>232.0</td>\n",
       "      <td>(20, 40]</td>\n",
       "    </tr>\n",
       "    <tr>\n",
       "      <th>2</th>\n",
       "      <td>Javier García Sánchez</td>\n",
       "      <td>24</td>\n",
       "      <td>H</td>\n",
       "      <td>NaN</td>\n",
       "      <td>1.81</td>\n",
       "      <td>191.0</td>\n",
       "      <td>(20, 40]</td>\n",
       "    </tr>\n",
       "    <tr>\n",
       "      <th>3</th>\n",
       "      <td>Carmen López Pinzón</td>\n",
       "      <td>35</td>\n",
       "      <td>M</td>\n",
       "      <td>65.0</td>\n",
       "      <td>1.70</td>\n",
       "      <td>200.0</td>\n",
       "      <td>(20, 40]</td>\n",
       "    </tr>\n",
       "    <tr>\n",
       "      <th>4</th>\n",
       "      <td>Marisa López Collado</td>\n",
       "      <td>46</td>\n",
       "      <td>M</td>\n",
       "      <td>51.0</td>\n",
       "      <td>1.58</td>\n",
       "      <td>148.0</td>\n",
       "      <td>(40, 60]</td>\n",
       "    </tr>\n",
       "    <tr>\n",
       "      <th>5</th>\n",
       "      <td>Antonio Ruiz Cruz</td>\n",
       "      <td>68</td>\n",
       "      <td>H</td>\n",
       "      <td>66.0</td>\n",
       "      <td>1.74</td>\n",
       "      <td>249.0</td>\n",
       "      <td>(60, 80]</td>\n",
       "    </tr>\n",
       "    <tr>\n",
       "      <th>6</th>\n",
       "      <td>Antonio Fernández Ocaña</td>\n",
       "      <td>51</td>\n",
       "      <td>H</td>\n",
       "      <td>62.0</td>\n",
       "      <td>1.72</td>\n",
       "      <td>276.0</td>\n",
       "      <td>(40, 60]</td>\n",
       "    </tr>\n",
       "    <tr>\n",
       "      <th>7</th>\n",
       "      <td>Pilar Martín González</td>\n",
       "      <td>22</td>\n",
       "      <td>M</td>\n",
       "      <td>60.0</td>\n",
       "      <td>1.66</td>\n",
       "      <td>NaN</td>\n",
       "      <td>(20, 40]</td>\n",
       "    </tr>\n",
       "    <tr>\n",
       "      <th>8</th>\n",
       "      <td>Pedro Gálvez Tenorio</td>\n",
       "      <td>35</td>\n",
       "      <td>H</td>\n",
       "      <td>90.0</td>\n",
       "      <td>1.94</td>\n",
       "      <td>241.0</td>\n",
       "      <td>(20, 40]</td>\n",
       "    </tr>\n",
       "    <tr>\n",
       "      <th>9</th>\n",
       "      <td>Santiago Reillo Manzano</td>\n",
       "      <td>46</td>\n",
       "      <td>H</td>\n",
       "      <td>75.0</td>\n",
       "      <td>1.85</td>\n",
       "      <td>280.0</td>\n",
       "      <td>(40, 60]</td>\n",
       "    </tr>\n",
       "    <tr>\n",
       "      <th>10</th>\n",
       "      <td>Macarena Álvarez Luna</td>\n",
       "      <td>53</td>\n",
       "      <td>M</td>\n",
       "      <td>55.0</td>\n",
       "      <td>1.62</td>\n",
       "      <td>262.0</td>\n",
       "      <td>(40, 60]</td>\n",
       "    </tr>\n",
       "    <tr>\n",
       "      <th>11</th>\n",
       "      <td>José María de la Guía Sanz</td>\n",
       "      <td>58</td>\n",
       "      <td>H</td>\n",
       "      <td>78.0</td>\n",
       "      <td>1.87</td>\n",
       "      <td>198.0</td>\n",
       "      <td>(40, 60]</td>\n",
       "    </tr>\n",
       "    <tr>\n",
       "      <th>12</th>\n",
       "      <td>Miguel Angel Cuadrado Gutiérrez</td>\n",
       "      <td>27</td>\n",
       "      <td>H</td>\n",
       "      <td>109.0</td>\n",
       "      <td>1.98</td>\n",
       "      <td>210.0</td>\n",
       "      <td>(20, 40]</td>\n",
       "    </tr>\n",
       "    <tr>\n",
       "      <th>13</th>\n",
       "      <td>Carolina Rubio Moreno</td>\n",
       "      <td>20</td>\n",
       "      <td>M</td>\n",
       "      <td>61.0</td>\n",
       "      <td>1.77</td>\n",
       "      <td>194.0</td>\n",
       "      <td>(1, 20]</td>\n",
       "    </tr>\n",
       "  </tbody>\n",
       "</table>\n",
       "</div>"
      ],
      "text/plain": [
       "                             nombre  edad sexo   peso  altura  colesterol  \\\n",
       "0      José Luis Martínez Izquierdo    18    H   85.0    1.79       182.0   \n",
       "1                    Rosa Díaz Díaz    32    M   65.0    1.73       232.0   \n",
       "2             Javier García Sánchez    24    H    NaN    1.81       191.0   \n",
       "3               Carmen López Pinzón    35    M   65.0    1.70       200.0   \n",
       "4              Marisa López Collado    46    M   51.0    1.58       148.0   \n",
       "5                 Antonio Ruiz Cruz    68    H   66.0    1.74       249.0   \n",
       "6           Antonio Fernández Ocaña    51    H   62.0    1.72       276.0   \n",
       "7             Pilar Martín González    22    M   60.0    1.66         NaN   \n",
       "8              Pedro Gálvez Tenorio    35    H   90.0    1.94       241.0   \n",
       "9           Santiago Reillo Manzano    46    H   75.0    1.85       280.0   \n",
       "10            Macarena Álvarez Luna    53    M   55.0    1.62       262.0   \n",
       "11       José María de la Guía Sanz    58    H   78.0    1.87       198.0   \n",
       "12  Miguel Angel Cuadrado Gutiérrez    27    H  109.0    1.98       210.0   \n",
       "13            Carolina Rubio Moreno    20    M   61.0    1.77       194.0   \n",
       "\n",
       "   rangos_edad  \n",
       "0      (1, 20]  \n",
       "1     (20, 40]  \n",
       "2     (20, 40]  \n",
       "3     (20, 40]  \n",
       "4     (40, 60]  \n",
       "5     (60, 80]  \n",
       "6     (40, 60]  \n",
       "7     (20, 40]  \n",
       "8     (20, 40]  \n",
       "9     (40, 60]  \n",
       "10    (40, 60]  \n",
       "11    (40, 60]  \n",
       "12    (20, 40]  \n",
       "13     (1, 20]  "
      ]
     },
     "execution_count": 32,
     "metadata": {},
     "output_type": "execute_result"
    }
   ],
   "source": [
    "dfcol['rangos_edad'] = pd.cut(x=dfcol['edad'], bins=[1, 20, 40, 60, 80, 100])\n",
    "dfcol"
   ]
  },
  {
   "cell_type": "markdown",
   "metadata": {},
   "source": [
    "### Concatenación de Dataframes"
   ]
  },
  {
   "cell_type": "code",
   "execution_count": 37,
   "metadata": {},
   "outputs": [],
   "source": [
    "# help(pd.concat)"
   ]
  },
  {
   "cell_type": "code",
   "execution_count": 42,
   "metadata": {},
   "outputs": [
    {
     "name": "stdout",
     "output_type": "stream",
     "text": [
      "          Sexo  Edad\n",
      "Nombre              \n",
      "Carmen   Mujer    22\n",
      "Luis    Hombre    18\n",
      "          Sexo  Edad\n",
      "Nombre              \n",
      "María    Mujer    25\n",
      "Pedro   Hombre    30\n"
     ]
    },
    {
     "data": {
      "text/html": [
       "<div>\n",
       "<style scoped>\n",
       "    .dataframe tbody tr th:only-of-type {\n",
       "        vertical-align: middle;\n",
       "    }\n",
       "\n",
       "    .dataframe tbody tr th {\n",
       "        vertical-align: top;\n",
       "    }\n",
       "\n",
       "    .dataframe thead th {\n",
       "        text-align: right;\n",
       "    }\n",
       "</style>\n",
       "<table border=\"1\" class=\"dataframe\">\n",
       "  <thead>\n",
       "    <tr style=\"text-align: right;\">\n",
       "      <th></th>\n",
       "      <th>Sexo</th>\n",
       "      <th>Edad</th>\n",
       "    </tr>\n",
       "    <tr>\n",
       "      <th>Nombre</th>\n",
       "      <th></th>\n",
       "      <th></th>\n",
       "    </tr>\n",
       "  </thead>\n",
       "  <tbody>\n",
       "    <tr>\n",
       "      <th>Carmen</th>\n",
       "      <td>Mujer</td>\n",
       "      <td>22</td>\n",
       "    </tr>\n",
       "    <tr>\n",
       "      <th>Luis</th>\n",
       "      <td>Hombre</td>\n",
       "      <td>18</td>\n",
       "    </tr>\n",
       "    <tr>\n",
       "      <th>María</th>\n",
       "      <td>Mujer</td>\n",
       "      <td>25</td>\n",
       "    </tr>\n",
       "    <tr>\n",
       "      <th>Pedro</th>\n",
       "      <td>Hombre</td>\n",
       "      <td>30</td>\n",
       "    </tr>\n",
       "  </tbody>\n",
       "</table>\n",
       "</div>"
      ],
      "text/plain": [
       "          Sexo  Edad\n",
       "Nombre              \n",
       "Carmen   Mujer    22\n",
       "Luis    Hombre    18\n",
       "María    Mujer    25\n",
       "Pedro   Hombre    30"
      ]
     },
     "execution_count": 42,
     "metadata": {},
     "output_type": "execute_result"
    }
   ],
   "source": [
    "df1 = pd.DataFrame({\"Nombre\": [\"Carmen\", \"Luis\"],\n",
    "                    \"Sexo\": [\"Mujer\", \"Hombre\"], \"Edad\": [22, 18]}).set_index(\"Nombre\")\n",
    "df2 = pd.DataFrame({\"Nombre\": [\"María\", \"Pedro\"],\n",
    "                    \"Sexo\": [\"Mujer\", \"Hombre\"], \"Edad\": [25, 30]}).set_index(\"Nombre\")\n",
    "\n",
    "print(df1)\n",
    "print(df2)\n",
    "\n",
    "df = pd.concat([df1, df2], axis=0)\n",
    "df"
   ]
  },
  {
   "cell_type": "code",
   "execution_count": 46,
   "metadata": {},
   "outputs": [
    {
     "name": "stdout",
     "output_type": "stream",
     "text": [
      "          Sexo\n",
      "Nombre        \n",
      "Carmen   Mujer\n",
      "Luis    Hombre\n",
      "María    Mujer\n",
      "José    Hombre\n",
      "        Edad\n",
      "Nombre      \n",
      "Carmen    22\n",
      "Luis      18\n",
      "María     25\n"
     ]
    },
    {
     "data": {
      "text/html": [
       "<div>\n",
       "<style scoped>\n",
       "    .dataframe tbody tr th:only-of-type {\n",
       "        vertical-align: middle;\n",
       "    }\n",
       "\n",
       "    .dataframe tbody tr th {\n",
       "        vertical-align: top;\n",
       "    }\n",
       "\n",
       "    .dataframe thead th {\n",
       "        text-align: right;\n",
       "    }\n",
       "</style>\n",
       "<table border=\"1\" class=\"dataframe\">\n",
       "  <thead>\n",
       "    <tr style=\"text-align: right;\">\n",
       "      <th></th>\n",
       "      <th>Sexo</th>\n",
       "      <th>Edad</th>\n",
       "    </tr>\n",
       "    <tr>\n",
       "      <th>Nombre</th>\n",
       "      <th></th>\n",
       "      <th></th>\n",
       "    </tr>\n",
       "  </thead>\n",
       "  <tbody>\n",
       "    <tr>\n",
       "      <th>Carmen</th>\n",
       "      <td>Mujer</td>\n",
       "      <td>22.0</td>\n",
       "    </tr>\n",
       "    <tr>\n",
       "      <th>Luis</th>\n",
       "      <td>Hombre</td>\n",
       "      <td>18.0</td>\n",
       "    </tr>\n",
       "    <tr>\n",
       "      <th>María</th>\n",
       "      <td>Mujer</td>\n",
       "      <td>25.0</td>\n",
       "    </tr>\n",
       "    <tr>\n",
       "      <th>José</th>\n",
       "      <td>Hombre</td>\n",
       "      <td>NaN</td>\n",
       "    </tr>\n",
       "  </tbody>\n",
       "</table>\n",
       "</div>"
      ],
      "text/plain": [
       "          Sexo  Edad\n",
       "Nombre              \n",
       "Carmen   Mujer  22.0\n",
       "Luis    Hombre  18.0\n",
       "María    Mujer  25.0\n",
       "José    Hombre   NaN"
      ]
     },
     "execution_count": 46,
     "metadata": {},
     "output_type": "execute_result"
    }
   ],
   "source": [
    "df1 = pd.DataFrame({\"Nombre\": [\"Carmen\", \"Luis\", \"María\",\"José\"],\n",
    "                    \"Sexo\": [\"Mujer\", \"Hombre\", \"Mujer\",\"Hombre\"]}).set_index(\"Nombre\")\n",
    "\n",
    "df2 = pd.DataFrame({\"Nombre\": [\"Carmen\", \"Luis\", \"María\"],\n",
    "                    \"Edad\": [22, 18, 25]}).set_index(\"Nombre\")\n",
    "\n",
    "print(df1)\n",
    "print(df2)\n",
    "\n",
    "df = pd.concat([df1, df2], axis=1)\n",
    "df"
   ]
  },
  {
   "cell_type": "code",
   "execution_count": 48,
   "metadata": {},
   "outputs": [
    {
     "name": "stdout",
     "output_type": "stream",
     "text": [
      "Help on method merge in module pandas.core.frame:\n",
      "\n",
      "merge(right: 'DataFrame | Series', how: 'MergeHow' = 'inner', on: 'IndexLabel | AnyArrayLike | None' = None, left_on: 'IndexLabel | AnyArrayLike | None' = None, right_on: 'IndexLabel | AnyArrayLike | None' = None, left_index: 'bool' = False, right_index: 'bool' = False, sort: 'bool' = False, suffixes: 'Suffixes' = ('_x', '_y'), copy: 'bool | None' = None, indicator: 'str | bool' = False, validate: 'MergeValidate | None' = None) -> 'DataFrame' method of pandas.core.frame.DataFrame instance\n",
      "    Merge DataFrame or named Series objects with a database-style join.\n",
      "    \n",
      "    A named Series object is treated as a DataFrame with a single named column.\n",
      "    \n",
      "    The join is done on columns or indexes. If joining columns on\n",
      "    columns, the DataFrame indexes *will be ignored*. Otherwise if joining indexes\n",
      "    on indexes or indexes on a column or columns, the index will be passed on.\n",
      "    When performing a cross merge, no column specifications to merge on are\n",
      "    allowed.\n",
      "    \n",
      "    .. warning::\n",
      "    \n",
      "        If both key columns contain rows where the key is a null value, those\n",
      "        rows will be matched against each other. This is different from usual SQL\n",
      "        join behaviour and can lead to unexpected results.\n",
      "    \n",
      "    Parameters\n",
      "    ----------\n",
      "    right : DataFrame or named Series\n",
      "        Object to merge with.\n",
      "    how : {'left', 'right', 'outer', 'inner', 'cross'}, default 'inner'\n",
      "        Type of merge to be performed.\n",
      "    \n",
      "        * left: use only keys from left frame, similar to a SQL left outer join;\n",
      "          preserve key order.\n",
      "        * right: use only keys from right frame, similar to a SQL right outer join;\n",
      "          preserve key order.\n",
      "        * outer: use union of keys from both frames, similar to a SQL full outer\n",
      "          join; sort keys lexicographically.\n",
      "        * inner: use intersection of keys from both frames, similar to a SQL inner\n",
      "          join; preserve the order of the left keys.\n",
      "        * cross: creates the cartesian product from both frames, preserves the order\n",
      "          of the left keys.\n",
      "    on : label or list\n",
      "        Column or index level names to join on. These must be found in both\n",
      "        DataFrames. If `on` is None and not merging on indexes then this defaults\n",
      "        to the intersection of the columns in both DataFrames.\n",
      "    left_on : label or list, or array-like\n",
      "        Column or index level names to join on in the left DataFrame. Can also\n",
      "        be an array or list of arrays of the length of the left DataFrame.\n",
      "        These arrays are treated as if they are columns.\n",
      "    right_on : label or list, or array-like\n",
      "        Column or index level names to join on in the right DataFrame. Can also\n",
      "        be an array or list of arrays of the length of the right DataFrame.\n",
      "        These arrays are treated as if they are columns.\n",
      "    left_index : bool, default False\n",
      "        Use the index from the left DataFrame as the join key(s). If it is a\n",
      "        MultiIndex, the number of keys in the other DataFrame (either the index\n",
      "        or a number of columns) must match the number of levels.\n",
      "    right_index : bool, default False\n",
      "        Use the index from the right DataFrame as the join key. Same caveats as\n",
      "        left_index.\n",
      "    sort : bool, default False\n",
      "        Sort the join keys lexicographically in the result DataFrame. If False,\n",
      "        the order of the join keys depends on the join type (how keyword).\n",
      "    suffixes : list-like, default is (\"_x\", \"_y\")\n",
      "        A length-2 sequence where each element is optionally a string\n",
      "        indicating the suffix to add to overlapping column names in\n",
      "        `left` and `right` respectively. Pass a value of `None` instead\n",
      "        of a string to indicate that the column name from `left` or\n",
      "        `right` should be left as-is, with no suffix. At least one of the\n",
      "        values must not be None.\n",
      "    copy : bool, default True\n",
      "        If False, avoid copy if possible.\n",
      "    \n",
      "        .. note::\n",
      "            The `copy` keyword will change behavior in pandas 3.0.\n",
      "            `Copy-on-Write\n",
      "            <https://pandas.pydata.org/docs/dev/user_guide/copy_on_write.html>`__\n",
      "            will be enabled by default, which means that all methods with a\n",
      "            `copy` keyword will use a lazy copy mechanism to defer the copy and\n",
      "            ignore the `copy` keyword. The `copy` keyword will be removed in a\n",
      "            future version of pandas.\n",
      "    \n",
      "            You can already get the future behavior and improvements through\n",
      "            enabling copy on write ``pd.options.mode.copy_on_write = True``\n",
      "    indicator : bool or str, default False\n",
      "        If True, adds a column to the output DataFrame called \"_merge\" with\n",
      "        information on the source of each row. The column can be given a different\n",
      "        name by providing a string argument. The column will have a Categorical\n",
      "        type with the value of \"left_only\" for observations whose merge key only\n",
      "        appears in the left DataFrame, \"right_only\" for observations\n",
      "        whose merge key only appears in the right DataFrame, and \"both\"\n",
      "        if the observation's merge key is found in both DataFrames.\n",
      "    \n",
      "    validate : str, optional\n",
      "        If specified, checks if merge is of specified type.\n",
      "    \n",
      "        * \"one_to_one\" or \"1:1\": check if merge keys are unique in both\n",
      "          left and right datasets.\n",
      "        * \"one_to_many\" or \"1:m\": check if merge keys are unique in left\n",
      "          dataset.\n",
      "        * \"many_to_one\" or \"m:1\": check if merge keys are unique in right\n",
      "          dataset.\n",
      "        * \"many_to_many\" or \"m:m\": allowed, but does not result in checks.\n",
      "    \n",
      "    Returns\n",
      "    -------\n",
      "    DataFrame\n",
      "        A DataFrame of the two merged objects.\n",
      "    \n",
      "    See Also\n",
      "    --------\n",
      "    merge_ordered : Merge with optional filling/interpolation.\n",
      "    merge_asof : Merge on nearest keys.\n",
      "    DataFrame.join : Similar method using indices.\n",
      "    \n",
      "    Examples\n",
      "    --------\n",
      "    >>> df1 = pd.DataFrame({'lkey': ['foo', 'bar', 'baz', 'foo'],\n",
      "    ...                     'value': [1, 2, 3, 5]})\n",
      "    >>> df2 = pd.DataFrame({'rkey': ['foo', 'bar', 'baz', 'foo'],\n",
      "    ...                     'value': [5, 6, 7, 8]})\n",
      "    >>> df1\n",
      "        lkey value\n",
      "    0   foo      1\n",
      "    1   bar      2\n",
      "    2   baz      3\n",
      "    3   foo      5\n",
      "    >>> df2\n",
      "        rkey value\n",
      "    0   foo      5\n",
      "    1   bar      6\n",
      "    2   baz      7\n",
      "    3   foo      8\n",
      "    \n",
      "    Merge df1 and df2 on the lkey and rkey columns. The value columns have\n",
      "    the default suffixes, _x and _y, appended.\n",
      "    \n",
      "    >>> df1.merge(df2, left_on='lkey', right_on='rkey')\n",
      "      lkey  value_x rkey  value_y\n",
      "    0  foo        1  foo        5\n",
      "    1  foo        1  foo        8\n",
      "    2  bar        2  bar        6\n",
      "    3  baz        3  baz        7\n",
      "    4  foo        5  foo        5\n",
      "    5  foo        5  foo        8\n",
      "    \n",
      "    Merge DataFrames df1 and df2 with specified left and right suffixes\n",
      "    appended to any overlapping columns.\n",
      "    \n",
      "    >>> df1.merge(df2, left_on='lkey', right_on='rkey',\n",
      "    ...           suffixes=('_left', '_right'))\n",
      "      lkey  value_left rkey  value_right\n",
      "    0  foo           1  foo            5\n",
      "    1  foo           1  foo            8\n",
      "    2  bar           2  bar            6\n",
      "    3  baz           3  baz            7\n",
      "    4  foo           5  foo            5\n",
      "    5  foo           5  foo            8\n",
      "    \n",
      "    Merge DataFrames df1 and df2, but raise an exception if the DataFrames have\n",
      "    any overlapping columns.\n",
      "    \n",
      "    >>> df1.merge(df2, left_on='lkey', right_on='rkey', suffixes=(False, False))\n",
      "    Traceback (most recent call last):\n",
      "    ...\n",
      "    ValueError: columns overlap but no suffix specified:\n",
      "        Index(['value'], dtype='object')\n",
      "    \n",
      "    >>> df1 = pd.DataFrame({'a': ['foo', 'bar'], 'b': [1, 2]})\n",
      "    >>> df2 = pd.DataFrame({'a': ['foo', 'baz'], 'c': [3, 4]})\n",
      "    >>> df1\n",
      "          a  b\n",
      "    0   foo  1\n",
      "    1   bar  2\n",
      "    >>> df2\n",
      "          a  c\n",
      "    0   foo  3\n",
      "    1   baz  4\n",
      "    \n",
      "    >>> df1.merge(df2, how='inner', on='a')\n",
      "          a  b  c\n",
      "    0   foo  1  3\n",
      "    \n",
      "    >>> df1.merge(df2, how='left', on='a')\n",
      "          a  b  c\n",
      "    0   foo  1  3.0\n",
      "    1   bar  2  NaN\n",
      "    \n",
      "    >>> df1 = pd.DataFrame({'left': ['foo', 'bar']})\n",
      "    >>> df2 = pd.DataFrame({'right': [7, 8]})\n",
      "    >>> df1\n",
      "        left\n",
      "    0   foo\n",
      "    1   bar\n",
      "    >>> df2\n",
      "        right\n",
      "    0   7\n",
      "    1   8\n",
      "    \n",
      "    >>> df1.merge(df2, how='cross')\n",
      "       left  right\n",
      "    0   foo      7\n",
      "    1   foo      8\n",
      "    2   bar      7\n",
      "    3   bar      8\n",
      "\n"
     ]
    }
   ],
   "source": [
    "help(df.merge)"
   ]
  },
  {
   "cell_type": "code",
   "execution_count": 52,
   "metadata": {},
   "outputs": [
    {
     "name": "stdout",
     "output_type": "stream",
     "text": [
      "          Sexo\n",
      "Nombre        \n",
      "Carmen   Mujer\n",
      "Luis    Hombre\n",
      "María    Mujer\n",
      "José    Hombre\n",
      "        Edad\n",
      "Nombre      \n",
      "Carmen    22\n",
      "Luis      18\n",
      "María     25\n"
     ]
    },
    {
     "data": {
      "text/html": [
       "<div>\n",
       "<style scoped>\n",
       "    .dataframe tbody tr th:only-of-type {\n",
       "        vertical-align: middle;\n",
       "    }\n",
       "\n",
       "    .dataframe tbody tr th {\n",
       "        vertical-align: top;\n",
       "    }\n",
       "\n",
       "    .dataframe thead th {\n",
       "        text-align: right;\n",
       "    }\n",
       "</style>\n",
       "<table border=\"1\" class=\"dataframe\">\n",
       "  <thead>\n",
       "    <tr style=\"text-align: right;\">\n",
       "      <th></th>\n",
       "      <th>Sexo</th>\n",
       "      <th>Edad</th>\n",
       "    </tr>\n",
       "    <tr>\n",
       "      <th>Nombre</th>\n",
       "      <th></th>\n",
       "      <th></th>\n",
       "    </tr>\n",
       "  </thead>\n",
       "  <tbody>\n",
       "    <tr>\n",
       "      <th>Carmen</th>\n",
       "      <td>Mujer</td>\n",
       "      <td>22</td>\n",
       "    </tr>\n",
       "    <tr>\n",
       "      <th>Luis</th>\n",
       "      <td>Hombre</td>\n",
       "      <td>18</td>\n",
       "    </tr>\n",
       "    <tr>\n",
       "      <th>María</th>\n",
       "      <td>Mujer</td>\n",
       "      <td>25</td>\n",
       "    </tr>\n",
       "  </tbody>\n",
       "</table>\n",
       "</div>"
      ],
      "text/plain": [
       "          Sexo  Edad\n",
       "Nombre              \n",
       "Carmen   Mujer    22\n",
       "Luis    Hombre    18\n",
       "María    Mujer    25"
      ]
     },
     "execution_count": 52,
     "metadata": {},
     "output_type": "execute_result"
    }
   ],
   "source": [
    "df1 = pd.DataFrame({\"Nombre\": [\"Carmen\", \"Luis\", \"María\", \"José\"],\n",
    "                    \"Sexo\": [\"Mujer\", \"Hombre\", \"Mujer\",\"Hombre\"]}).set_index(\"Nombre\")\n",
    "\n",
    "df2 = pd.DataFrame({\"Nombre\": [\"Carmen\", \"Luis\", \"María\"],\n",
    "                    \"Edad\": [22, 18, 25]}).set_index(\"Nombre\")\n",
    "\n",
    "print(df1)\n",
    "print(df2)\n",
    "\n",
    "df = pd.merge(df1, df2, how=\"right\", on=\"Nombre\")\n",
    "df"
   ]
  },
  {
   "cell_type": "markdown",
   "metadata": {},
   "source": [
    "### Reestructurar dataframes"
   ]
  },
  {
   "cell_type": "code",
   "execution_count": 57,
   "metadata": {},
   "outputs": [
    {
     "name": "stdout",
     "output_type": "stream",
     "text": [
      "    nombre      edad    Matemáticas    Economía    Programación\n",
      "--  --------  ------  -------------  ----------  --------------\n",
      " 0  María         18            8.5         8               6.5\n",
      " 1  Luis          22            7           6.5             4\n",
      " 2  Carmen        20            3.5         5               9\n"
     ]
    }
   ],
   "source": [
    "from tabulate import tabulate\n",
    "\n",
    "datos = {'nombre': ['María', 'Luis', 'Carmen'],\n",
    "         'edad': [18, 22, 20],\n",
    "         'Matemáticas': [8.5, 7, 3.5],\n",
    "         'Economía': [8, 6.5, 5],\n",
    "         'Programación': [6.5, 4, 9]}\n",
    "\n",
    "df = pd.DataFrame(datos)\n",
    "\n",
    "print(tabulate(df, headers='keys'))"
   ]
  },
  {
   "cell_type": "code",
   "execution_count": 65,
   "metadata": {},
   "outputs": [
    {
     "name": "stdout",
     "output_type": "stream",
     "text": [
      "Help on method melt in module pandas.core.frame:\n",
      "\n",
      "melt(id_vars=None, value_vars=None, var_name=None, value_name: 'Hashable' = 'value', col_level: 'Level | None' = None, ignore_index: 'bool' = True) -> 'DataFrame' method of pandas.core.frame.DataFrame instance\n",
      "    Unpivot a DataFrame from wide to long format, optionally leaving identifiers set.\n",
      "    \n",
      "    This function is useful to massage a DataFrame into a format where one\n",
      "    or more columns are identifier variables (`id_vars`), while all other\n",
      "    columns, considered measured variables (`value_vars`), are \"unpivoted\" to\n",
      "    the row axis, leaving just two non-identifier columns, 'variable' and\n",
      "    'value'.\n",
      "    \n",
      "    Parameters\n",
      "    ----------\n",
      "    id_vars : scalar, tuple, list, or ndarray, optional\n",
      "        Column(s) to use as identifier variables.\n",
      "    value_vars : scalar, tuple, list, or ndarray, optional\n",
      "        Column(s) to unpivot. If not specified, uses all columns that\n",
      "        are not set as `id_vars`.\n",
      "    var_name : scalar, default None\n",
      "        Name to use for the 'variable' column. If None it uses\n",
      "        ``frame.columns.name`` or 'variable'.\n",
      "    value_name : scalar, default 'value'\n",
      "        Name to use for the 'value' column, can't be an existing column label.\n",
      "    col_level : scalar, optional\n",
      "        If columns are a MultiIndex then use this level to melt.\n",
      "    ignore_index : bool, default True\n",
      "        If True, original index is ignored. If False, the original index is retained.\n",
      "        Index labels will be repeated as necessary.\n",
      "    \n",
      "    Returns\n",
      "    -------\n",
      "    DataFrame\n",
      "        Unpivoted DataFrame.\n",
      "    \n",
      "    See Also\n",
      "    --------\n",
      "    melt : Identical method.\n",
      "    pivot_table : Create a spreadsheet-style pivot table as a DataFrame.\n",
      "    DataFrame.pivot : Return reshaped DataFrame organized\n",
      "        by given index / column values.\n",
      "    DataFrame.explode : Explode a DataFrame from list-like\n",
      "            columns to long format.\n",
      "    \n",
      "    Notes\n",
      "    -----\n",
      "    Reference :ref:`the user guide <reshaping.melt>` for more examples.\n",
      "    \n",
      "    Examples\n",
      "    --------\n",
      "    >>> df = pd.DataFrame({'A': {0: 'a', 1: 'b', 2: 'c'},\n",
      "    ...                    'B': {0: 1, 1: 3, 2: 5},\n",
      "    ...                    'C': {0: 2, 1: 4, 2: 6}})\n",
      "    >>> df\n",
      "       A  B  C\n",
      "    0  a  1  2\n",
      "    1  b  3  4\n",
      "    2  c  5  6\n",
      "    \n",
      "    >>> df.melt(id_vars=['A'], value_vars=['B'])\n",
      "       A variable  value\n",
      "    0  a        B      1\n",
      "    1  b        B      3\n",
      "    2  c        B      5\n",
      "    \n",
      "    >>> df.melt(id_vars=['A'], value_vars=['B', 'C'])\n",
      "       A variable  value\n",
      "    0  a        B      1\n",
      "    1  b        B      3\n",
      "    2  c        B      5\n",
      "    3  a        C      2\n",
      "    4  b        C      4\n",
      "    5  c        C      6\n",
      "    \n",
      "    The names of 'variable' and 'value' columns can be customized:\n",
      "    \n",
      "    >>> df.melt(id_vars=['A'], value_vars=['B'],\n",
      "    ...         var_name='myVarname', value_name='myValname')\n",
      "       A myVarname  myValname\n",
      "    0  a         B          1\n",
      "    1  b         B          3\n",
      "    2  c         B          5\n",
      "    \n",
      "    Original index values can be kept around:\n",
      "    \n",
      "    >>> df.melt(id_vars=['A'], value_vars=['B', 'C'], ignore_index=False)\n",
      "       A variable  value\n",
      "    0  a        B      1\n",
      "    1  b        B      3\n",
      "    2  c        B      5\n",
      "    0  a        C      2\n",
      "    1  b        C      4\n",
      "    2  c        C      6\n",
      "    \n",
      "    If you have multi-index columns:\n",
      "    \n",
      "    >>> df.columns = [list('ABC'), list('DEF')]\n",
      "    >>> df\n",
      "       A  B  C\n",
      "       D  E  F\n",
      "    0  a  1  2\n",
      "    1  b  3  4\n",
      "    2  c  5  6\n",
      "    \n",
      "    >>> df.melt(col_level=0, id_vars=['A'], value_vars=['B'])\n",
      "       A variable  value\n",
      "    0  a        B      1\n",
      "    1  b        B      3\n",
      "    2  c        B      5\n",
      "    \n",
      "    >>> df.melt(id_vars=[('A', 'D')], value_vars=[('B', 'E')])\n",
      "      (A, D) variable_0 variable_1  value\n",
      "    0      a          B          E      1\n",
      "    1      b          B          E      3\n",
      "    2      c          B          E      5\n",
      "\n"
     ]
    }
   ],
   "source": [
    "help(df.melt)"
   ]
  },
  {
   "cell_type": "code",
   "execution_count": 71,
   "metadata": {},
   "outputs": [
    {
     "data": {
      "text/html": [
       "<div>\n",
       "<style scoped>\n",
       "    .dataframe tbody tr th:only-of-type {\n",
       "        vertical-align: middle;\n",
       "    }\n",
       "\n",
       "    .dataframe tbody tr th {\n",
       "        vertical-align: top;\n",
       "    }\n",
       "\n",
       "    .dataframe thead th {\n",
       "        text-align: right;\n",
       "    }\n",
       "</style>\n",
       "<table border=\"1\" class=\"dataframe\">\n",
       "  <thead>\n",
       "    <tr style=\"text-align: right;\">\n",
       "      <th></th>\n",
       "      <th>nombre</th>\n",
       "      <th>Asignatura</th>\n",
       "      <th>Nota</th>\n",
       "    </tr>\n",
       "  </thead>\n",
       "  <tbody>\n",
       "    <tr>\n",
       "      <th>0</th>\n",
       "      <td>María</td>\n",
       "      <td>Matemáticas</td>\n",
       "      <td>8.5</td>\n",
       "    </tr>\n",
       "    <tr>\n",
       "      <th>1</th>\n",
       "      <td>Luis</td>\n",
       "      <td>Matemáticas</td>\n",
       "      <td>7.0</td>\n",
       "    </tr>\n",
       "    <tr>\n",
       "      <th>2</th>\n",
       "      <td>Carmen</td>\n",
       "      <td>Matemáticas</td>\n",
       "      <td>3.5</td>\n",
       "    </tr>\n",
       "    <tr>\n",
       "      <th>3</th>\n",
       "      <td>María</td>\n",
       "      <td>Economía</td>\n",
       "      <td>8.0</td>\n",
       "    </tr>\n",
       "    <tr>\n",
       "      <th>4</th>\n",
       "      <td>Luis</td>\n",
       "      <td>Economía</td>\n",
       "      <td>6.5</td>\n",
       "    </tr>\n",
       "    <tr>\n",
       "      <th>5</th>\n",
       "      <td>Carmen</td>\n",
       "      <td>Economía</td>\n",
       "      <td>5.0</td>\n",
       "    </tr>\n",
       "    <tr>\n",
       "      <th>6</th>\n",
       "      <td>María</td>\n",
       "      <td>Programación</td>\n",
       "      <td>6.5</td>\n",
       "    </tr>\n",
       "    <tr>\n",
       "      <th>7</th>\n",
       "      <td>Luis</td>\n",
       "      <td>Programación</td>\n",
       "      <td>4.0</td>\n",
       "    </tr>\n",
       "    <tr>\n",
       "      <th>8</th>\n",
       "      <td>Carmen</td>\n",
       "      <td>Programación</td>\n",
       "      <td>9.0</td>\n",
       "    </tr>\n",
       "  </tbody>\n",
       "</table>\n",
       "</div>"
      ],
      "text/plain": [
       "   nombre    Asignatura  Nota\n",
       "0   María   Matemáticas   8.5\n",
       "1    Luis   Matemáticas   7.0\n",
       "2  Carmen   Matemáticas   3.5\n",
       "3   María      Economía   8.0\n",
       "4    Luis      Economía   6.5\n",
       "5  Carmen      Economía   5.0\n",
       "6   María  Programación   6.5\n",
       "7    Luis  Programación   4.0\n",
       "8  Carmen  Programación   9.0"
      ]
     },
     "execution_count": 71,
     "metadata": {},
     "output_type": "execute_result"
    }
   ],
   "source": [
    "dfm = df.melt(id_vars=['nombre'], value_vars=['Matemáticas', 'Economía', 'Programación'], var_name='Asignatura', value_name=\"Nota\")\n",
    "dfm"
   ]
  },
  {
   "cell_type": "code",
   "execution_count": 70,
   "metadata": {},
   "outputs": [
    {
     "name": "stdout",
     "output_type": "stream",
     "text": [
      "Help on method pivot in module pandas.core.frame:\n",
      "\n",
      "pivot(*, columns, index=<no_default>, values=<no_default>) -> 'DataFrame' method of pandas.core.frame.DataFrame instance\n",
      "    Return reshaped DataFrame organized by given index / column values.\n",
      "    \n",
      "    Reshape data (produce a \"pivot\" table) based on column values. Uses\n",
      "    unique values from specified `index` / `columns` to form axes of the\n",
      "    resulting DataFrame. This function does not support data\n",
      "    aggregation, multiple values will result in a MultiIndex in the\n",
      "    columns. See the :ref:`User Guide <reshaping>` for more on reshaping.\n",
      "    \n",
      "    Parameters\n",
      "    ----------\n",
      "    columns : str or object or a list of str\n",
      "        Column to use to make new frame's columns.\n",
      "    index : str or object or a list of str, optional\n",
      "        Column to use to make new frame's index. If not given, uses existing index.\n",
      "    values : str, object or a list of the previous, optional\n",
      "        Column(s) to use for populating new frame's values. If not\n",
      "        specified, all remaining columns will be used and the result will\n",
      "        have hierarchically indexed columns.\n",
      "    \n",
      "    Returns\n",
      "    -------\n",
      "    DataFrame\n",
      "        Returns reshaped DataFrame.\n",
      "    \n",
      "    Raises\n",
      "    ------\n",
      "    ValueError:\n",
      "        When there are any `index`, `columns` combinations with multiple\n",
      "        values. `DataFrame.pivot_table` when you need to aggregate.\n",
      "    \n",
      "    See Also\n",
      "    --------\n",
      "    DataFrame.pivot_table : Generalization of pivot that can handle\n",
      "        duplicate values for one index/column pair.\n",
      "    DataFrame.unstack : Pivot based on the index values instead of a\n",
      "        column.\n",
      "    wide_to_long : Wide panel to long format. Less flexible but more\n",
      "        user-friendly than melt.\n",
      "    \n",
      "    Notes\n",
      "    -----\n",
      "    For finer-tuned control, see hierarchical indexing documentation along\n",
      "    with the related stack/unstack methods.\n",
      "    \n",
      "    Reference :ref:`the user guide <reshaping.pivot>` for more examples.\n",
      "    \n",
      "    Examples\n",
      "    --------\n",
      "    >>> df = pd.DataFrame({'foo': ['one', 'one', 'one', 'two', 'two',\n",
      "    ...                            'two'],\n",
      "    ...                    'bar': ['A', 'B', 'C', 'A', 'B', 'C'],\n",
      "    ...                    'baz': [1, 2, 3, 4, 5, 6],\n",
      "    ...                    'zoo': ['x', 'y', 'z', 'q', 'w', 't']})\n",
      "    >>> df\n",
      "        foo   bar  baz  zoo\n",
      "    0   one   A    1    x\n",
      "    1   one   B    2    y\n",
      "    2   one   C    3    z\n",
      "    3   two   A    4    q\n",
      "    4   two   B    5    w\n",
      "    5   two   C    6    t\n",
      "    \n",
      "    >>> df.pivot(index='foo', columns='bar', values='baz')\n",
      "    bar  A   B   C\n",
      "    foo\n",
      "    one  1   2   3\n",
      "    two  4   5   6\n",
      "    \n",
      "    >>> df.pivot(index='foo', columns='bar')['baz']\n",
      "    bar  A   B   C\n",
      "    foo\n",
      "    one  1   2   3\n",
      "    two  4   5   6\n",
      "    \n",
      "    >>> df.pivot(index='foo', columns='bar', values=['baz', 'zoo'])\n",
      "          baz       zoo\n",
      "    bar   A  B  C   A  B  C\n",
      "    foo\n",
      "    one   1  2  3   x  y  z\n",
      "    two   4  5  6   q  w  t\n",
      "    \n",
      "    You could also assign a list of column names or a list of index names.\n",
      "    \n",
      "    >>> df = pd.DataFrame({\n",
      "    ...        \"lev1\": [1, 1, 1, 2, 2, 2],\n",
      "    ...        \"lev2\": [1, 1, 2, 1, 1, 2],\n",
      "    ...        \"lev3\": [1, 2, 1, 2, 1, 2],\n",
      "    ...        \"lev4\": [1, 2, 3, 4, 5, 6],\n",
      "    ...        \"values\": [0, 1, 2, 3, 4, 5]})\n",
      "    >>> df\n",
      "        lev1 lev2 lev3 lev4 values\n",
      "    0   1    1    1    1    0\n",
      "    1   1    1    2    2    1\n",
      "    2   1    2    1    3    2\n",
      "    3   2    1    2    4    3\n",
      "    4   2    1    1    5    4\n",
      "    5   2    2    2    6    5\n",
      "    \n",
      "    >>> df.pivot(index=\"lev1\", columns=[\"lev2\", \"lev3\"], values=\"values\")\n",
      "    lev2    1         2\n",
      "    lev3    1    2    1    2\n",
      "    lev1\n",
      "    1     0.0  1.0  2.0  NaN\n",
      "    2     4.0  3.0  NaN  5.0\n",
      "    \n",
      "    >>> df.pivot(index=[\"lev1\", \"lev2\"], columns=[\"lev3\"], values=\"values\")\n",
      "          lev3    1    2\n",
      "    lev1  lev2\n",
      "       1     1  0.0  1.0\n",
      "             2  2.0  NaN\n",
      "       2     1  4.0  3.0\n",
      "             2  NaN  5.0\n",
      "    \n",
      "    A ValueError is raised if there are any duplicates.\n",
      "    \n",
      "    >>> df = pd.DataFrame({\"foo\": ['one', 'one', 'two', 'two'],\n",
      "    ...                    \"bar\": ['A', 'A', 'B', 'C'],\n",
      "    ...                    \"baz\": [1, 2, 3, 4]})\n",
      "    >>> df\n",
      "       foo bar  baz\n",
      "    0  one   A    1\n",
      "    1  one   A    2\n",
      "    2  two   B    3\n",
      "    3  two   C    4\n",
      "    \n",
      "    Notice that the first two rows are the same for our `index`\n",
      "    and `columns` arguments.\n",
      "    \n",
      "    >>> df.pivot(index='foo', columns='bar', values='baz')\n",
      "    Traceback (most recent call last):\n",
      "       ...\n",
      "    ValueError: Index contains duplicate entries, cannot reshape\n",
      "\n"
     ]
    }
   ],
   "source": [
    "help(df.pivot)"
   ]
  },
  {
   "cell_type": "code",
   "execution_count": 74,
   "metadata": {},
   "outputs": [
    {
     "data": {
      "text/html": [
       "<div>\n",
       "<style scoped>\n",
       "    .dataframe tbody tr th:only-of-type {\n",
       "        vertical-align: middle;\n",
       "    }\n",
       "\n",
       "    .dataframe tbody tr th {\n",
       "        vertical-align: top;\n",
       "    }\n",
       "\n",
       "    .dataframe thead th {\n",
       "        text-align: right;\n",
       "    }\n",
       "</style>\n",
       "<table border=\"1\" class=\"dataframe\">\n",
       "  <thead>\n",
       "    <tr style=\"text-align: right;\">\n",
       "      <th>Asignatura</th>\n",
       "      <th>Economía</th>\n",
       "      <th>Matemáticas</th>\n",
       "      <th>Programación</th>\n",
       "    </tr>\n",
       "    <tr>\n",
       "      <th>nombre</th>\n",
       "      <th></th>\n",
       "      <th></th>\n",
       "      <th></th>\n",
       "    </tr>\n",
       "  </thead>\n",
       "  <tbody>\n",
       "    <tr>\n",
       "      <th>Carmen</th>\n",
       "      <td>5.0</td>\n",
       "      <td>3.5</td>\n",
       "      <td>9.0</td>\n",
       "    </tr>\n",
       "    <tr>\n",
       "      <th>Luis</th>\n",
       "      <td>6.5</td>\n",
       "      <td>7.0</td>\n",
       "      <td>4.0</td>\n",
       "    </tr>\n",
       "    <tr>\n",
       "      <th>María</th>\n",
       "      <td>8.0</td>\n",
       "      <td>8.5</td>\n",
       "      <td>6.5</td>\n",
       "    </tr>\n",
       "  </tbody>\n",
       "</table>\n",
       "</div>"
      ],
      "text/plain": [
       "Asignatura  Economía  Matemáticas  Programación\n",
       "nombre                                         \n",
       "Carmen           5.0          3.5           9.0\n",
       "Luis             6.5          7.0           4.0\n",
       "María            8.0          8.5           6.5"
      ]
     },
     "execution_count": 74,
     "metadata": {},
     "output_type": "execute_result"
    }
   ],
   "source": [
    "dfm.pivot(columns='Asignatura', index='nombre', values='Nota')"
   ]
  },
  {
   "cell_type": "code",
   "execution_count": 90,
   "metadata": {},
   "outputs": [
    {
     "name": "stdout",
     "output_type": "stream",
     "text": [
      "    nombre                             edad  sexo      peso    altura    colesterol  rangos_edad\n",
      "--  -------------------------------  ------  ------  ------  --------  ------------  -------------\n",
      " 0  José Luis Martínez Izquierdo         18  H           85      1.79           182  (1, 20]\n",
      " 1  Rosa Díaz Díaz                       32  M           65      1.73           232  (20, 40]\n",
      " 2  Javier García Sánchez                24  H          nan      1.81           191  (20, 40]\n",
      " 3  Carmen López Pinzón                  35  M           65      1.7            200  (20, 40]\n",
      " 4  Marisa López Collado                 46  M           51      1.58           148  (40, 60]\n",
      " 5  Antonio Ruiz Cruz                    68  H           66      1.74           249  (60, 80]\n",
      " 6  Antonio Fernández Ocaña              51  H           62      1.72           276  (40, 60]\n",
      " 7  Pilar Martín González                22  M           60      1.66           nan  (20, 40]\n",
      " 8  Pedro Gálvez Tenorio                 35  H           90      1.94           241  (20, 40]\n",
      " 9  Santiago Reillo Manzano              46  H           75      1.85           280  (40, 60]\n",
      "10  Macarena Álvarez Luna                53  M           55      1.62           262  (40, 60]\n",
      "11  José María de la Guía Sanz           58  H           78      1.87           198  (40, 60]\n",
      "12  Miguel Angel Cuadrado Gutiérrez      27  H          109      1.98           210  (20, 40]\n",
      "13  Carolina Rubio Moreno                20  M           61      1.77           194  (1, 20]\n",
      "nombre                             ('peso', 'H')    ('peso', 'M')\n",
      "-------------------------------  ---------------  ---------------\n",
      "Antonio Fernández Ocaña                       62              nan\n",
      "Antonio Ruiz Cruz                             66              nan\n",
      "Carmen López Pinzón                          nan               65\n",
      "Carolina Rubio Moreno                        nan               61\n",
      "Javier García Sánchez                        nan              nan\n",
      "José Luis Martínez Izquierdo                  85              nan\n",
      "José María de la Guía Sanz                    78              nan\n",
      "Macarena Álvarez Luna                        nan               55\n",
      "Marisa López Collado                         nan               51\n",
      "Miguel Angel Cuadrado Gutiérrez              109              nan\n",
      "Pedro Gálvez Tenorio                          90              nan\n",
      "Pilar Martín González                        nan               60\n",
      "Rosa Díaz Díaz                               nan               65\n",
      "Santiago Reillo Manzano                       75              nan \n",
      "\n",
      "\n"
     ]
    }
   ],
   "source": [
    "print(tabulate(dfcol, headers='keys'))\n",
    "\n",
    "pdf = dfcol.pivot(columns='sexo', index='nombre', values=['peso'])\n",
    "\n",
    "print(tabulate(pdf, headers='keys'),'\\n\\n')\n",
    "\n",
    "# print(pdf['peso'][18][1.79])"
   ]
  },
  {
   "cell_type": "code",
   "execution_count": 91,
   "metadata": {},
   "outputs": [
    {
     "name": "stdout",
     "output_type": "stream",
     "text": [
      "Help on function crosstab in module pandas.core.reshape.pivot:\n",
      "\n",
      "crosstab(index, columns, values=None, rownames=None, colnames=None, aggfunc=None, margins: 'bool' = False, margins_name: 'Hashable' = 'All', dropna: 'bool' = True, normalize: \"bool | Literal[0, 1, 'all', 'index', 'columns']\" = False) -> 'DataFrame'\n",
      "    Compute a simple cross tabulation of two (or more) factors.\n",
      "    \n",
      "    By default, computes a frequency table of the factors unless an\n",
      "    array of values and an aggregation function are passed.\n",
      "    \n",
      "    Parameters\n",
      "    ----------\n",
      "    index : array-like, Series, or list of arrays/Series\n",
      "        Values to group by in the rows.\n",
      "    columns : array-like, Series, or list of arrays/Series\n",
      "        Values to group by in the columns.\n",
      "    values : array-like, optional\n",
      "        Array of values to aggregate according to the factors.\n",
      "        Requires `aggfunc` be specified.\n",
      "    rownames : sequence, default None\n",
      "        If passed, must match number of row arrays passed.\n",
      "    colnames : sequence, default None\n",
      "        If passed, must match number of column arrays passed.\n",
      "    aggfunc : function, optional\n",
      "        If specified, requires `values` be specified as well.\n",
      "    margins : bool, default False\n",
      "        Add row/column margins (subtotals).\n",
      "    margins_name : str, default 'All'\n",
      "        Name of the row/column that will contain the totals\n",
      "        when margins is True.\n",
      "    dropna : bool, default True\n",
      "        Do not include columns whose entries are all NaN.\n",
      "    normalize : bool, {'all', 'index', 'columns'}, or {0,1}, default False\n",
      "        Normalize by dividing all values by the sum of values.\n",
      "    \n",
      "        - If passed 'all' or `True`, will normalize over all values.\n",
      "        - If passed 'index' will normalize over each row.\n",
      "        - If passed 'columns' will normalize over each column.\n",
      "        - If margins is `True`, will also normalize margin values.\n",
      "    \n",
      "    Returns\n",
      "    -------\n",
      "    DataFrame\n",
      "        Cross tabulation of the data.\n",
      "    \n",
      "    See Also\n",
      "    --------\n",
      "    DataFrame.pivot : Reshape data based on column values.\n",
      "    pivot_table : Create a pivot table as a DataFrame.\n",
      "    \n",
      "    Notes\n",
      "    -----\n",
      "    Any Series passed will have their name attributes used unless row or column\n",
      "    names for the cross-tabulation are specified.\n",
      "    \n",
      "    Any input passed containing Categorical data will have **all** of its\n",
      "    categories included in the cross-tabulation, even if the actual data does\n",
      "    not contain any instances of a particular category.\n",
      "    \n",
      "    In the event that there aren't overlapping indexes an empty DataFrame will\n",
      "    be returned.\n",
      "    \n",
      "    Reference :ref:`the user guide <reshaping.crosstabulations>` for more examples.\n",
      "    \n",
      "    Examples\n",
      "    --------\n",
      "    >>> a = np.array([\"foo\", \"foo\", \"foo\", \"foo\", \"bar\", \"bar\",\n",
      "    ...               \"bar\", \"bar\", \"foo\", \"foo\", \"foo\"], dtype=object)\n",
      "    >>> b = np.array([\"one\", \"one\", \"one\", \"two\", \"one\", \"one\",\n",
      "    ...               \"one\", \"two\", \"two\", \"two\", \"one\"], dtype=object)\n",
      "    >>> c = np.array([\"dull\", \"dull\", \"shiny\", \"dull\", \"dull\", \"shiny\",\n",
      "    ...               \"shiny\", \"dull\", \"shiny\", \"shiny\", \"shiny\"],\n",
      "    ...              dtype=object)\n",
      "    >>> pd.crosstab(a, [b, c], rownames=['a'], colnames=['b', 'c'])\n",
      "    b   one        two\n",
      "    c   dull shiny dull shiny\n",
      "    a\n",
      "    bar    1     2    1     0\n",
      "    foo    2     2    1     2\n",
      "    \n",
      "    Here 'c' and 'f' are not represented in the data and will not be\n",
      "    shown in the output because dropna is True by default. Set\n",
      "    dropna=False to preserve categories with no data.\n",
      "    \n",
      "    >>> foo = pd.Categorical(['a', 'b'], categories=['a', 'b', 'c'])\n",
      "    >>> bar = pd.Categorical(['d', 'e'], categories=['d', 'e', 'f'])\n",
      "    >>> pd.crosstab(foo, bar)\n",
      "    col_0  d  e\n",
      "    row_0\n",
      "    a      1  0\n",
      "    b      0  1\n",
      "    >>> pd.crosstab(foo, bar, dropna=False)\n",
      "    col_0  d  e  f\n",
      "    row_0\n",
      "    a      1  0  0\n",
      "    b      0  1  0\n",
      "    c      0  0  0\n",
      "\n"
     ]
    }
   ],
   "source": [
    "help(pd.crosstab)"
   ]
  },
  {
   "cell_type": "code",
   "execution_count": 97,
   "metadata": {},
   "outputs": [
    {
     "data": {
      "text/html": [
       "<div>\n",
       "<style scoped>\n",
       "    .dataframe tbody tr th:only-of-type {\n",
       "        vertical-align: middle;\n",
       "    }\n",
       "\n",
       "    .dataframe tbody tr th {\n",
       "        vertical-align: top;\n",
       "    }\n",
       "\n",
       "    .dataframe thead th {\n",
       "        text-align: right;\n",
       "    }\n",
       "</style>\n",
       "<table border=\"1\" class=\"dataframe\">\n",
       "  <thead>\n",
       "    <tr style=\"text-align: right;\">\n",
       "      <th>peso</th>\n",
       "      <th>51.0</th>\n",
       "      <th>55.0</th>\n",
       "      <th>61.0</th>\n",
       "      <th>62.0</th>\n",
       "      <th>65.0</th>\n",
       "      <th>66.0</th>\n",
       "      <th>75.0</th>\n",
       "      <th>78.0</th>\n",
       "      <th>85.0</th>\n",
       "      <th>90.0</th>\n",
       "      <th>109.0</th>\n",
       "      <th>All</th>\n",
       "    </tr>\n",
       "    <tr>\n",
       "      <th>sexo</th>\n",
       "      <th></th>\n",
       "      <th></th>\n",
       "      <th></th>\n",
       "      <th></th>\n",
       "      <th></th>\n",
       "      <th></th>\n",
       "      <th></th>\n",
       "      <th></th>\n",
       "      <th></th>\n",
       "      <th></th>\n",
       "      <th></th>\n",
       "      <th></th>\n",
       "    </tr>\n",
       "  </thead>\n",
       "  <tbody>\n",
       "    <tr>\n",
       "      <th>H</th>\n",
       "      <td>NaN</td>\n",
       "      <td>NaN</td>\n",
       "      <td>NaN</td>\n",
       "      <td>276.0</td>\n",
       "      <td>NaN</td>\n",
       "      <td>249.0</td>\n",
       "      <td>280.0</td>\n",
       "      <td>198.0</td>\n",
       "      <td>182.0</td>\n",
       "      <td>241.0</td>\n",
       "      <td>210.0</td>\n",
       "      <td>233.714286</td>\n",
       "    </tr>\n",
       "    <tr>\n",
       "      <th>M</th>\n",
       "      <td>148.0</td>\n",
       "      <td>262.0</td>\n",
       "      <td>194.0</td>\n",
       "      <td>NaN</td>\n",
       "      <td>216.0</td>\n",
       "      <td>NaN</td>\n",
       "      <td>NaN</td>\n",
       "      <td>NaN</td>\n",
       "      <td>NaN</td>\n",
       "      <td>NaN</td>\n",
       "      <td>NaN</td>\n",
       "      <td>207.200000</td>\n",
       "    </tr>\n",
       "    <tr>\n",
       "      <th>All</th>\n",
       "      <td>148.0</td>\n",
       "      <td>262.0</td>\n",
       "      <td>194.0</td>\n",
       "      <td>276.0</td>\n",
       "      <td>216.0</td>\n",
       "      <td>249.0</td>\n",
       "      <td>280.0</td>\n",
       "      <td>198.0</td>\n",
       "      <td>182.0</td>\n",
       "      <td>241.0</td>\n",
       "      <td>210.0</td>\n",
       "      <td>222.666667</td>\n",
       "    </tr>\n",
       "  </tbody>\n",
       "</table>\n",
       "</div>"
      ],
      "text/plain": [
       "peso   51.0   55.0   61.0   62.0   65.0   66.0   75.0   78.0   85.0   90.0  \\\n",
       "sexo                                                                         \n",
       "H       NaN    NaN    NaN  276.0    NaN  249.0  280.0  198.0  182.0  241.0   \n",
       "M     148.0  262.0  194.0    NaN  216.0    NaN    NaN    NaN    NaN    NaN   \n",
       "All   148.0  262.0  194.0  276.0  216.0  249.0  280.0  198.0  182.0  241.0   \n",
       "\n",
       "peso  109.0         All  \n",
       "sexo                     \n",
       "H     210.0  233.714286  \n",
       "M       NaN  207.200000  \n",
       "All   210.0  222.666667  "
      ]
     },
     "execution_count": 97,
     "metadata": {},
     "output_type": "execute_result"
    }
   ],
   "source": [
    "ct_means = pd.crosstab(\n",
    "    dfcol['sexo'], dfcol['peso'], values=dfcol['colesterol'], aggfunc='mean', margins=True)\n",
    "\n",
    "ct_means"
   ]
  }
 ],
 "metadata": {
  "kernelspec": {
   "display_name": "Python 3.8 - AzureML",
   "language": "python",
   "name": "python38-azureml"
  },
  "language_info": {
   "codemirror_mode": {
    "name": "ipython",
    "version": 3
   },
   "file_extension": ".py",
   "mimetype": "text/x-python",
   "name": "python",
   "nbconvert_exporter": "python",
   "pygments_lexer": "ipython3",
   "version": "3.10.11"
  }
 },
 "nbformat": 4,
 "nbformat_minor": 2
}
