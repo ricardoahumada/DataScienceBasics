{
 "cells": [
  {
   "cell_type": "markdown",
   "metadata": {},
   "source": [
    "# Limpieza de datos"
   ]
  },
  {
   "cell_type": "markdown",
   "metadata": {},
   "source": [
    "## Valores perdidos"
   ]
  },
  {
   "cell_type": "code",
   "execution_count": null,
   "metadata": {},
   "outputs": [],
   "source": [
    "import pandas as pd\n",
    "df = pd.read_csv('../data/housing.csv')\n",
    "\n",
    "df.info()\n",
    "df.describe()"
   ]
  },
  {
   "cell_type": "code",
   "execution_count": null,
   "metadata": {},
   "outputs": [],
   "source": [
    "df.isna().sum()"
   ]
  },
  {
   "cell_type": "code",
   "execution_count": null,
   "metadata": {},
   "outputs": [],
   "source": [
    "dfdel = df.dropna()\n",
    "dfdel.info()"
   ]
  },
  {
   "cell_type": "code",
   "execution_count": null,
   "metadata": {},
   "outputs": [],
   "source": [
    "media = df['total_bedrooms'].median()\n",
    "print(media)\n",
    "df['total_bedrooms'].fillna(media, inplace=True)\n",
    "df.info()\n",
    "df.describe()"
   ]
  },
  {
   "cell_type": "markdown",
   "metadata": {},
   "source": [
    "## Valores atípicos"
   ]
  },
  {
   "cell_type": "code",
   "execution_count": 20,
   "metadata": {},
   "outputs": [],
   "source": [
    "import numpy as np\n",
    "\n",
    "np.random.seed(0)\n",
    "data = np.random.randint(low=0, high=11, size=1000)\n",
    "data[0] = 100\n",
    "data[1] = -100"
   ]
  },
  {
   "cell_type": "code",
   "execution_count": null,
   "metadata": {},
   "outputs": [],
   "source": [
    "# z-scores\n",
    "z_scores = (data-np.mean(data))/np.std(data)\n",
    "umbral = 3\n",
    "outliers = np.where(np.abs(z_scores) > umbral)\n",
    "data[outliers]"
   ]
  },
  {
   "cell_type": "code",
   "execution_count": null,
   "metadata": {},
   "outputs": [],
   "source": [
    "c_numericas = ['housing_median_age', 'total_rooms',\n",
    "               'total_bedrooms', 'population', 'households', 'median_income',\n",
    "               'median_house_value']"
   ]
  },
  {
   "cell_type": "code",
   "execution_count": null,
   "metadata": {},
   "outputs": [],
   "source": [
    "from tabulate import tabulate\n",
    "\n",
    "df_num = dfdel[c_numericas]\n",
    "\n",
    "z_scores = (df_num-df_num.mean())/df_num.std()\n",
    "z_scores_abs = z_scores.apply(np.abs)\n",
    "print(tabulate(z_scores_abs, headers='keys'))\n"
   ]
  },
  {
   "cell_type": "code",
   "execution_count": null,
   "metadata": {},
   "outputs": [],
   "source": [
    "umbral = 3\n",
    "\n",
    "dfout_mask = ~z_scores[z_scores_abs > umbral].isna()\n",
    "print('\\nOutliers:\\n')\n",
    "print(dfout_mask.sum())\n",
    "# print(tabulate(dfout_mask, headers='keys'))"
   ]
  },
  {
   "cell_type": "code",
   "execution_count": null,
   "metadata": {},
   "outputs": [],
   "source": [
    "# IQR\n",
    "q1 = np.percentile(data, 25)\n",
    "q3 = np.percentile(data, 75)\n",
    "iqr = q3 - q1\n",
    "print('iqr:', iqr)\n",
    "print(np.mean(data), q1, q3)\n",
    "\n",
    "umbra_sup = q3+1.5*iqr\n",
    "umbra_inf = q1-1.5*iqr\n",
    "print('umbrales:', umbra_inf, umbra_sup)\n",
    "\n",
    "outliers = np.where((data < umbra_inf) | (data > umbra_sup))\n",
    "data[outliers]"
   ]
  },
  {
   "cell_type": "code",
   "execution_count": null,
   "metadata": {},
   "outputs": [],
   "source": [
    "dfdel.columns"
   ]
  },
  {
   "cell_type": "code",
   "execution_count": null,
   "metadata": {},
   "outputs": [],
   "source": [
    "dfdel.describe()"
   ]
  },
  {
   "cell_type": "code",
   "execution_count": null,
   "metadata": {},
   "outputs": [],
   "source": [
    "df_num = dfdel[c_numericas]\n",
    "\n",
    "q1 = df_num.apply(lambda x: np.percentile(x, 25))\n",
    "q3 = df_num.apply(lambda x: np.percentile(x, 75))\n",
    "\n",
    "print('q1:', q1, '\\n')\n",
    "print('q3:', q3, '\\n')\n"
   ]
  },
  {
   "cell_type": "code",
   "execution_count": null,
   "metadata": {},
   "outputs": [],
   "source": [
    "\n",
    "iqr = q3 - q1\n",
    "print('iqr:', iqr, '\\n')"
   ]
  },
  {
   "cell_type": "code",
   "execution_count": null,
   "metadata": {},
   "outputs": [],
   "source": [
    "\n",
    "umbra_sup = q3+1.5*iqr\n",
    "umbra_inf = q1-1.5*iqr\n",
    "\n",
    "print('umbrales inf:\\n', umbra_inf)\n",
    "print('\\numbrales sup:\\n', umbra_sup)"
   ]
  },
  {
   "cell_type": "code",
   "execution_count": null,
   "metadata": {},
   "outputs": [],
   "source": [
    "from tabulate import tabulate\n",
    "\n",
    "mask = ~df_num[((df_num < umbra_inf) | (df_num > umbra_sup))].isna()\n",
    "# print(mask)\n",
    "print(df_num[mask].count())\n",
    "print(tabulate(df_num[mask], headers='keys'))"
   ]
  },
  {
   "cell_type": "code",
   "execution_count": null,
   "metadata": {},
   "outputs": [],
   "source": [
    "df_clipped = df_num.clip(lower=umbra_inf, upper=umbra_sup, axis=1)\n",
    "df_clipped"
   ]
  },
  {
   "cell_type": "code",
   "execution_count": null,
   "metadata": {},
   "outputs": [],
   "source": [
    "df_num[~mask].dropna()"
   ]
  }
 ],
 "metadata": {
  "kernelspec": {
   "display_name": "Python 3.8 - AzureML",
   "language": "python",
   "name": "python38-azureml"
  },
  "language_info": {
   "codemirror_mode": {
    "name": "ipython",
    "version": 3
   },
   "file_extension": ".py",
   "mimetype": "text/x-python",
   "name": "python",
   "nbconvert_exporter": "python",
   "pygments_lexer": "ipython3",
   "version": "3.10.11"
  }
 },
 "nbformat": 4,
 "nbformat_minor": 2
}
