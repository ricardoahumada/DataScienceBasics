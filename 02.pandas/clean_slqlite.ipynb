{
 "cells": [
  {
   "cell_type": "code",
   "execution_count": null,
   "metadata": {},
   "outputs": [],
   "source": [
    "import sqlite3\n",
    "con_sqlt = sqlite3.connect(\"../../data/database.db\")"
   ]
  },
  {
   "cell_type": "code",
   "execution_count": null,
   "metadata": {},
   "outputs": [],
   "source": [
    "def show_tables():\n",
    "    sql_query = \"\"\"SELECT name FROM sqlite_master  WHERE type='table';\"\"\"\n",
    "\n",
    "    cursor = con_sqlt.cursor()\n",
    "    cursor.execute(sql_query)\n",
    "    print(cursor.fetchall())\n",
    "\n",
    "    cursor.close()\n",
    "\n",
    "show_tables()"
   ]
  },
  {
   "cell_type": "code",
   "execution_count": null,
   "metadata": {},
   "outputs": [],
   "source": [
    "def delete_table(name):\n",
    "    sql_delete = \"DROP TABLE {0}\".format(name)\n",
    "\n",
    "    cursor = con_sqlt.cursor()\n",
    "    cursor.execute(sql_delete)\n",
    "    con_sqlt.commit()\n",
    "    cursor.close()"
   ]
  },
  {
   "cell_type": "code",
   "execution_count": null,
   "metadata": {},
   "outputs": [],
   "source": [
    "tables_to_delete = ['movies3']\n",
    "\n",
    "for aT in tables_to_delete:\n",
    "    delete_table(aT)"
   ]
  },
  {
   "cell_type": "code",
   "execution_count": null,
   "metadata": {},
   "outputs": [],
   "source": [
    "show_tables()"
   ]
  },
  {
   "cell_type": "code",
   "execution_count": null,
   "metadata": {},
   "outputs": [],
   "source": [
    "con_sqlt.close()"
   ]
  }
 ],
 "metadata": {
  "kernelspec": {
   "display_name": "Python 3",
   "language": "python",
   "name": "python3"
  },
  "language_info": {
   "codemirror_mode": {
    "name": "ipython",
    "version": 3
   },
   "file_extension": ".py",
   "mimetype": "text/x-python",
   "name": "python",
   "nbconvert_exporter": "python",
   "pygments_lexer": "ipython3",
   "version": "3.12.4"
  }
 },
 "nbformat": 4,
 "nbformat_minor": 2
}
